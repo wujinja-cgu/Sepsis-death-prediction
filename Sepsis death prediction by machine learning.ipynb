{
 "cells": [
  {
   "cell_type": "markdown",
   "id": "946a71a5",
   "metadata": {},
   "source": [
    "### Load packages"
   ]
  },
  {
   "cell_type": "code",
   "execution_count": 1,
   "id": "0832e2d2",
   "metadata": {},
   "outputs": [
    {
     "name": "stderr",
     "output_type": "stream",
     "text": [
      "Loading required package: caret\n",
      "\n",
      "Loading required package: ggplot2\n",
      "\n",
      "Loading required package: lattice\n",
      "\n",
      "Loading required package: pROC\n",
      "\n",
      "Type 'citation(\"pROC\")' for a citation.\n",
      "\n",
      "\n",
      "Attaching package: 'pROC'\n",
      "\n",
      "\n",
      "The following objects are masked from 'package:stats':\n",
      "\n",
      "    cov, smooth, var\n",
      "\n",
      "\n",
      "Loading required package: SHAPforxgboost\n",
      "\n",
      "Loading required package: xgboost\n",
      "\n",
      "Loading required package: data.table\n",
      "\n",
      "Loading required package: here\n",
      "\n",
      "here() starts at C:/Users/wujin/Desktop/Sepsis-death-prediction-main\n",
      "\n",
      "Loading required package: randomForest\n",
      "\n",
      "randomForest 4.7-1.1\n",
      "\n",
      "Type rfNews() to see new features/changes/bug fixes.\n",
      "\n",
      "\n",
      "Attaching package: 'randomForest'\n",
      "\n",
      "\n",
      "The following object is masked from 'package:ggplot2':\n",
      "\n",
      "    margin\n",
      "\n",
      "\n",
      "Loading required package: reprtree\n",
      "\n",
      "Loading required package: tree\n",
      "\n",
      "Loading required package: plotrix\n",
      "\n",
      "Registered S3 method overwritten by 'reprtree':\n",
      "  method    from\n",
      "  text.tree tree\n",
      "\n",
      "Loading required package: dplyr\n",
      "\n",
      "\n",
      "Attaching package: 'dplyr'\n",
      "\n",
      "\n",
      "The following object is masked from 'package:randomForest':\n",
      "\n",
      "    combine\n",
      "\n",
      "\n",
      "The following objects are masked from 'package:data.table':\n",
      "\n",
      "    between, first, last\n",
      "\n",
      "\n",
      "The following object is masked from 'package:xgboost':\n",
      "\n",
      "    slice\n",
      "\n",
      "\n",
      "The following objects are masked from 'package:stats':\n",
      "\n",
      "    filter, lag\n",
      "\n",
      "\n",
      "The following objects are masked from 'package:base':\n",
      "\n",
      "    intersect, setdiff, setequal, union\n",
      "\n",
      "\n",
      "Loading required package: ggraph\n",
      "\n",
      "Loading required package: igraph\n",
      "\n",
      "\n",
      "Attaching package: 'igraph'\n",
      "\n",
      "\n",
      "The following objects are masked from 'package:dplyr':\n",
      "\n",
      "    as_data_frame, groups, union\n",
      "\n",
      "\n",
      "The following object is masked from 'package:tree':\n",
      "\n",
      "    tree\n",
      "\n",
      "\n",
      "The following objects are masked from 'package:stats':\n",
      "\n",
      "    decompose, spectrum\n",
      "\n",
      "\n",
      "The following object is masked from 'package:base':\n",
      "\n",
      "    union\n",
      "\n",
      "\n",
      "Loading required package: neuralnet\n",
      "\n",
      "\n",
      "Attaching package: 'neuralnet'\n",
      "\n",
      "\n",
      "The following object is masked from 'package:dplyr':\n",
      "\n",
      "    compute\n",
      "\n",
      "\n",
      "Loading required package: devtools\n",
      "\n",
      "Loading required package: usethis\n",
      "\n",
      "Loading required package: e1071\n",
      "\n"
     ]
    },
    {
     "data": {
      "text/html": [
       "<ol>\n",
       "\t<li>TRUE</li>\n",
       "\t<li>TRUE</li>\n",
       "\t<li>TRUE</li>\n",
       "\t<li>TRUE</li>\n",
       "\t<li>TRUE</li>\n",
       "\t<li>TRUE</li>\n",
       "\t<li>TRUE</li>\n",
       "\t<li>TRUE</li>\n",
       "\t<li>TRUE</li>\n",
       "\t<li>TRUE</li>\n",
       "\t<li>TRUE</li>\n",
       "\t<li>TRUE</li>\n",
       "\t<li>TRUE</li>\n",
       "\t<li>TRUE</li>\n",
       "\t<li>TRUE</li>\n",
       "</ol>\n"
      ],
      "text/latex": [
       "\\begin{enumerate}\n",
       "\\item TRUE\n",
       "\\item TRUE\n",
       "\\item TRUE\n",
       "\\item TRUE\n",
       "\\item TRUE\n",
       "\\item TRUE\n",
       "\\item TRUE\n",
       "\\item TRUE\n",
       "\\item TRUE\n",
       "\\item TRUE\n",
       "\\item TRUE\n",
       "\\item TRUE\n",
       "\\item TRUE\n",
       "\\item TRUE\n",
       "\\item TRUE\n",
       "\\end{enumerate}\n"
      ],
      "text/markdown": [
       "1. TRUE\n",
       "2. TRUE\n",
       "3. TRUE\n",
       "4. TRUE\n",
       "5. TRUE\n",
       "6. TRUE\n",
       "7. TRUE\n",
       "8. TRUE\n",
       "9. TRUE\n",
       "10. TRUE\n",
       "11. TRUE\n",
       "12. TRUE\n",
       "13. TRUE\n",
       "14. TRUE\n",
       "15. TRUE\n",
       "\n",
       "\n"
      ],
      "text/plain": [
       "[[1]]\n",
       "[1] TRUE\n",
       "\n",
       "[[2]]\n",
       "[1] TRUE\n",
       "\n",
       "[[3]]\n",
       "[1] TRUE\n",
       "\n",
       "[[4]]\n",
       "[1] TRUE\n",
       "\n",
       "[[5]]\n",
       "[1] TRUE\n",
       "\n",
       "[[6]]\n",
       "[1] TRUE\n",
       "\n",
       "[[7]]\n",
       "[1] TRUE\n",
       "\n",
       "[[8]]\n",
       "[1] TRUE\n",
       "\n",
       "[[9]]\n",
       "[1] TRUE\n",
       "\n",
       "[[10]]\n",
       "[1] TRUE\n",
       "\n",
       "[[11]]\n",
       "[1] TRUE\n",
       "\n",
       "[[12]]\n",
       "[1] TRUE\n",
       "\n",
       "[[13]]\n",
       "[1] TRUE\n",
       "\n",
       "[[14]]\n",
       "[1] TRUE\n",
       "\n",
       "[[15]]\n",
       "[1] TRUE\n"
      ]
     },
     "metadata": {},
     "output_type": "display_data"
    }
   ],
   "source": [
    "dep_packages <- c(\"caret\",\n",
    "                  \"pROC\", \n",
    "                  \"SHAPforxgboost\",\n",
    "                  \"ggplot2\",\n",
    "                  \"xgboost\",\n",
    "                  \"data.table\",\n",
    "                  \"here\",\n",
    "                  \"randomForest\",\n",
    "                  \"reprtree\",\n",
    "                  \"dplyr\",\n",
    "                  \"ggraph\",\n",
    "                  \"igraph\",\n",
    "                  \"neuralnet\",\n",
    "                  \"devtools\",\n",
    "                  \"e1071\") \n",
    "new.packages <- dep_packages[!(dep_packages %in% installed.packages()[,\"Package\"])] \n",
    "if(length(new.packages)) install.packages(new.packages)\n",
    "lapply(dep_packages, require, character.only = TRUE)"
   ]
  },
  {
   "cell_type": "markdown",
   "id": "77f59c43",
   "metadata": {},
   "source": [
    "### Read the dataset"
   ]
  },
  {
   "cell_type": "code",
   "execution_count": 2,
   "id": "18ea3545",
   "metadata": {},
   "outputs": [
    {
     "data": {
      "text/html": [
       "<style>\n",
       ".list-inline {list-style: none; margin:0; padding: 0}\n",
       ".list-inline>li {display: inline-block}\n",
       ".list-inline>li:not(:last-child)::after {content: \"\\00b7\"; padding: 0 .5ex}\n",
       "</style>\n",
       "<ol class=list-inline><li>'age'</li><li>'tmp'</li><li>'pulse_center100'</li><li>'sbp_center120'</li><li>'dbp_center75'</li><li>'rr_center18'</li><li>'spao2'</li><li>'map_center100'</li><li>'gcs'</li><li>'angiopoietin2_norm'</li><li>'il6_norm'</li><li>'tnfa_norm'</li><li>'scd163_norm'</li><li>'il10_norm'</li><li>'pentraxin3_norm'</li><li>'ifnr_norm'</li><li>'il8_norm'</li><li>'cd14_norm'</li><li>'trem1_norm'</li><li>'cd64_norm'</li><li>'icam1_norm'</li><li>'eselectin_norm'</li><li>'pselectin_norm'</li><li>'vcam1_norm'</li><li>'sugar_fs_center180'</li><li>'pct'</li><li>'crp'</li><li>'lactate'</li><li>'alb'</li><li>'aptt_center30'</li><li>'pt'</li><li>'inr'</li><li>'bilt'</li><li>'bun'</li><li>'ast'</li><li>'inorp_center3'</li><li>'tro'</li><li>'ddimer'</li><li>'cortisol'</li><li>'ca_center8.75'</li><li>'cl'</li><li>'uric'</li><li>'c3'</li><li>'proteinc_center75'</li><li>'po2'</li><li>'sat'</li><li>'hco3_center25'</li><li>'pco2'</li><li>'ph'</li><li>'tco2'</li><li>'abe'</li><li>'aado2'</li><li>'fio2'</li><li>'sbc'</li><li>'sbe'</li><li>'fdp'</li><li>'band'</li><li>'cre'</li><li>'eos'</li><li>'hb'</li><li>'hct'</li><li>'mchc'</li><li>'mcv'</li><li>'plt'</li><li>'rbc'</li><li>'rdw'</li><li>'wbc_center15'</li><li>'K'</li><li>'Na'</li><li>'high_blood_pressure'</li><li>'asthma'</li><li>'gout'</li><li>'parkinson'</li><li>'hiv'</li><li>'stroke'</li><li>'allergy'</li><li>'misum'</li><li>'chfsum'</li><li>'pvdsum'</li><li>'cdsum'</li><li>'dementia'</li><li>'cpdsum'</li><li>'rdsum'</li><li>'pudsum'</li><li>'mldsum'</li><li>'hopsum'</li><li>'renalsum'</li><li>'leukemiasum'</li><li>'lymphomasum'</li><li>'msldsum'</li><li>'mstsum'</li><li>'tumorsum'</li><li>'ckdsum'</li><li>'carriersum'</li><li>'flsum'</li><li>'cirrhosissum'</li><li>'liversum'</li><li>'copd_final_sum'</li><li>'malignancy_final'</li><li>'dm_final'</li><li>'res_infection'</li><li>'gu_infection'</li><li>'skin_infection'</li><li>'abdominal_infection'</li><li>'cns_infection'</li><li>'msk_infection'</li><li>'other_infection'</li><li>'card_dysfunction'</li><li>'res_dysfunction'</li><li>'gt_dysfunction'</li><li>'ren_dysfunction'</li><li>'hep_dysfunction'</li><li>'neu_dysfunction'</li><li>'met_dysfunction'</li><li>'hem_dysfunction'</li><li>'sofa_score'</li><li>'sofa_sepsis'</li><li>'sofa_sep_shock'</li><li>'gene_sore'</li><li>'musc_sore'</li><li>'convulsion'</li><li>'gene_weak'</li><li>'chills'</li><li>'shak_chil'</li><li>'cyanosis'</li><li>'fever'</li><li>'sweat'</li><li>'no_sweat'</li><li>'dry_lips'</li><li>'thirsty'</li><li>'cold_extr'</li><li>'malaise'</li><li>'drawsy'</li><li>'syncope'</li><li>'confusion'</li><li>'tachycardia'</li><li>'agitation'</li><li>'acut_conf'</li><li>'fluc_cour'</li><li>'inattention'</li><li>'diso_thin'</li><li>'urin_freq'</li><li>'oliguria'</li><li>'hematuria'</li><li>'diff_void'</li><li>'dysuria'</li><li>'flan_pain'</li><li>'headache'</li><li>'dizziness'</li><li>'sore_thro'</li><li>'ches_tigh'</li><li>'dyspnea'</li><li>'ches_pain'</li><li>'neck_pain'</li><li>'nasa_cong'</li><li>'sneezing'</li><li>'runn_nose'</li><li>'dry_coug'</li><li>'prod_coug'</li><li>'sputum'</li><li>'hemoptysis'</li><li>'abdo_dist'</li><li>'abdo_pain'</li><li>'diarrhea'</li><li>'constipation'</li><li>'nausea'</li><li>'vomit'</li><li>'anorexia'</li><li>'jaundice'</li><li>'hypotension'</li><li>'lactate_overlimit'</li><li>'cre_over2'</li><li>'bilt_over2'</li><li>'plt_100less'</li><li>'inr_over15'</li><li>'male'</li><li>'infilt'</li><li>'consol'</li><li>'patch'</li><li>'edema'</li><li>'haz'</li><li>'cxrpn'</li><li>'lrti1e'</li><li>'meds_age65u'</li><li>'meds_lti1e'</li><li>'meds_nur1e'</li><li>'meds_ams15b'</li><li>'meds_ban5u'</li><li>'meds_plt150b'</li><li>'meds_sho90b'</li><li>'meds_sob20u'</li><li>'meds_ter1e'</li><li>'meds'</li><li>'sirs_t38u36b'</li><li>'sirs_p90u'</li><li>'sirs_r20u'</li><li>'sirs_wbc12u4b'</li><li>'sirs_score'</li><li>'ams'</li><li>'dop5b_dob'</li><li>'dop5u_nor01b'</li><li>'dop15u_nor01u'</li><li>'sofa_res'</li><li>'sofa_ner'</li><li>'sofa_vas'</li><li>'sofa_liver'</li><li>'sofa_coag'</li><li>'sofa_renal'</li><li>'vasopressor'</li><li>'bacteremia'</li><li>'icu_admission'</li><li>'sev_sep_chen'</li><li>'chills_final'</li><li>'bthypo'</li><li>'rdw145'</li><li>'rbc4'</li><li>'no_chills'</li><li>'charm'</li><li>'without_blooddrawn'</li><li>'doi_symptom'</li><li>'POD_in_15days'</li><li>'death'</li></ol>\n"
      ],
      "text/latex": [
       "\\begin{enumerate*}\n",
       "\\item 'age'\n",
       "\\item 'tmp'\n",
       "\\item 'pulse\\_center100'\n",
       "\\item 'sbp\\_center120'\n",
       "\\item 'dbp\\_center75'\n",
       "\\item 'rr\\_center18'\n",
       "\\item 'spao2'\n",
       "\\item 'map\\_center100'\n",
       "\\item 'gcs'\n",
       "\\item 'angiopoietin2\\_norm'\n",
       "\\item 'il6\\_norm'\n",
       "\\item 'tnfa\\_norm'\n",
       "\\item 'scd163\\_norm'\n",
       "\\item 'il10\\_norm'\n",
       "\\item 'pentraxin3\\_norm'\n",
       "\\item 'ifnr\\_norm'\n",
       "\\item 'il8\\_norm'\n",
       "\\item 'cd14\\_norm'\n",
       "\\item 'trem1\\_norm'\n",
       "\\item 'cd64\\_norm'\n",
       "\\item 'icam1\\_norm'\n",
       "\\item 'eselectin\\_norm'\n",
       "\\item 'pselectin\\_norm'\n",
       "\\item 'vcam1\\_norm'\n",
       "\\item 'sugar\\_fs\\_center180'\n",
       "\\item 'pct'\n",
       "\\item 'crp'\n",
       "\\item 'lactate'\n",
       "\\item 'alb'\n",
       "\\item 'aptt\\_center30'\n",
       "\\item 'pt'\n",
       "\\item 'inr'\n",
       "\\item 'bilt'\n",
       "\\item 'bun'\n",
       "\\item 'ast'\n",
       "\\item 'inorp\\_center3'\n",
       "\\item 'tro'\n",
       "\\item 'ddimer'\n",
       "\\item 'cortisol'\n",
       "\\item 'ca\\_center8.75'\n",
       "\\item 'cl'\n",
       "\\item 'uric'\n",
       "\\item 'c3'\n",
       "\\item 'proteinc\\_center75'\n",
       "\\item 'po2'\n",
       "\\item 'sat'\n",
       "\\item 'hco3\\_center25'\n",
       "\\item 'pco2'\n",
       "\\item 'ph'\n",
       "\\item 'tco2'\n",
       "\\item 'abe'\n",
       "\\item 'aado2'\n",
       "\\item 'fio2'\n",
       "\\item 'sbc'\n",
       "\\item 'sbe'\n",
       "\\item 'fdp'\n",
       "\\item 'band'\n",
       "\\item 'cre'\n",
       "\\item 'eos'\n",
       "\\item 'hb'\n",
       "\\item 'hct'\n",
       "\\item 'mchc'\n",
       "\\item 'mcv'\n",
       "\\item 'plt'\n",
       "\\item 'rbc'\n",
       "\\item 'rdw'\n",
       "\\item 'wbc\\_center15'\n",
       "\\item 'K'\n",
       "\\item 'Na'\n",
       "\\item 'high\\_blood\\_pressure'\n",
       "\\item 'asthma'\n",
       "\\item 'gout'\n",
       "\\item 'parkinson'\n",
       "\\item 'hiv'\n",
       "\\item 'stroke'\n",
       "\\item 'allergy'\n",
       "\\item 'misum'\n",
       "\\item 'chfsum'\n",
       "\\item 'pvdsum'\n",
       "\\item 'cdsum'\n",
       "\\item 'dementia'\n",
       "\\item 'cpdsum'\n",
       "\\item 'rdsum'\n",
       "\\item 'pudsum'\n",
       "\\item 'mldsum'\n",
       "\\item 'hopsum'\n",
       "\\item 'renalsum'\n",
       "\\item 'leukemiasum'\n",
       "\\item 'lymphomasum'\n",
       "\\item 'msldsum'\n",
       "\\item 'mstsum'\n",
       "\\item 'tumorsum'\n",
       "\\item 'ckdsum'\n",
       "\\item 'carriersum'\n",
       "\\item 'flsum'\n",
       "\\item 'cirrhosissum'\n",
       "\\item 'liversum'\n",
       "\\item 'copd\\_final\\_sum'\n",
       "\\item 'malignancy\\_final'\n",
       "\\item 'dm\\_final'\n",
       "\\item 'res\\_infection'\n",
       "\\item 'gu\\_infection'\n",
       "\\item 'skin\\_infection'\n",
       "\\item 'abdominal\\_infection'\n",
       "\\item 'cns\\_infection'\n",
       "\\item 'msk\\_infection'\n",
       "\\item 'other\\_infection'\n",
       "\\item 'card\\_dysfunction'\n",
       "\\item 'res\\_dysfunction'\n",
       "\\item 'gt\\_dysfunction'\n",
       "\\item 'ren\\_dysfunction'\n",
       "\\item 'hep\\_dysfunction'\n",
       "\\item 'neu\\_dysfunction'\n",
       "\\item 'met\\_dysfunction'\n",
       "\\item 'hem\\_dysfunction'\n",
       "\\item 'sofa\\_score'\n",
       "\\item 'sofa\\_sepsis'\n",
       "\\item 'sofa\\_sep\\_shock'\n",
       "\\item 'gene\\_sore'\n",
       "\\item 'musc\\_sore'\n",
       "\\item 'convulsion'\n",
       "\\item 'gene\\_weak'\n",
       "\\item 'chills'\n",
       "\\item 'shak\\_chil'\n",
       "\\item 'cyanosis'\n",
       "\\item 'fever'\n",
       "\\item 'sweat'\n",
       "\\item 'no\\_sweat'\n",
       "\\item 'dry\\_lips'\n",
       "\\item 'thirsty'\n",
       "\\item 'cold\\_extr'\n",
       "\\item 'malaise'\n",
       "\\item 'drawsy'\n",
       "\\item 'syncope'\n",
       "\\item 'confusion'\n",
       "\\item 'tachycardia'\n",
       "\\item 'agitation'\n",
       "\\item 'acut\\_conf'\n",
       "\\item 'fluc\\_cour'\n",
       "\\item 'inattention'\n",
       "\\item 'diso\\_thin'\n",
       "\\item 'urin\\_freq'\n",
       "\\item 'oliguria'\n",
       "\\item 'hematuria'\n",
       "\\item 'diff\\_void'\n",
       "\\item 'dysuria'\n",
       "\\item 'flan\\_pain'\n",
       "\\item 'headache'\n",
       "\\item 'dizziness'\n",
       "\\item 'sore\\_thro'\n",
       "\\item 'ches\\_tigh'\n",
       "\\item 'dyspnea'\n",
       "\\item 'ches\\_pain'\n",
       "\\item 'neck\\_pain'\n",
       "\\item 'nasa\\_cong'\n",
       "\\item 'sneezing'\n",
       "\\item 'runn\\_nose'\n",
       "\\item 'dry\\_coug'\n",
       "\\item 'prod\\_coug'\n",
       "\\item 'sputum'\n",
       "\\item 'hemoptysis'\n",
       "\\item 'abdo\\_dist'\n",
       "\\item 'abdo\\_pain'\n",
       "\\item 'diarrhea'\n",
       "\\item 'constipation'\n",
       "\\item 'nausea'\n",
       "\\item 'vomit'\n",
       "\\item 'anorexia'\n",
       "\\item 'jaundice'\n",
       "\\item 'hypotension'\n",
       "\\item 'lactate\\_overlimit'\n",
       "\\item 'cre\\_over2'\n",
       "\\item 'bilt\\_over2'\n",
       "\\item 'plt\\_100less'\n",
       "\\item 'inr\\_over15'\n",
       "\\item 'male'\n",
       "\\item 'infilt'\n",
       "\\item 'consol'\n",
       "\\item 'patch'\n",
       "\\item 'edema'\n",
       "\\item 'haz'\n",
       "\\item 'cxrpn'\n",
       "\\item 'lrti1e'\n",
       "\\item 'meds\\_age65u'\n",
       "\\item 'meds\\_lti1e'\n",
       "\\item 'meds\\_nur1e'\n",
       "\\item 'meds\\_ams15b'\n",
       "\\item 'meds\\_ban5u'\n",
       "\\item 'meds\\_plt150b'\n",
       "\\item 'meds\\_sho90b'\n",
       "\\item 'meds\\_sob20u'\n",
       "\\item 'meds\\_ter1e'\n",
       "\\item 'meds'\n",
       "\\item 'sirs\\_t38u36b'\n",
       "\\item 'sirs\\_p90u'\n",
       "\\item 'sirs\\_r20u'\n",
       "\\item 'sirs\\_wbc12u4b'\n",
       "\\item 'sirs\\_score'\n",
       "\\item 'ams'\n",
       "\\item 'dop5b\\_dob'\n",
       "\\item 'dop5u\\_nor01b'\n",
       "\\item 'dop15u\\_nor01u'\n",
       "\\item 'sofa\\_res'\n",
       "\\item 'sofa\\_ner'\n",
       "\\item 'sofa\\_vas'\n",
       "\\item 'sofa\\_liver'\n",
       "\\item 'sofa\\_coag'\n",
       "\\item 'sofa\\_renal'\n",
       "\\item 'vasopressor'\n",
       "\\item 'bacteremia'\n",
       "\\item 'icu\\_admission'\n",
       "\\item 'sev\\_sep\\_chen'\n",
       "\\item 'chills\\_final'\n",
       "\\item 'bthypo'\n",
       "\\item 'rdw145'\n",
       "\\item 'rbc4'\n",
       "\\item 'no\\_chills'\n",
       "\\item 'charm'\n",
       "\\item 'without\\_blooddrawn'\n",
       "\\item 'doi\\_symptom'\n",
       "\\item 'POD\\_in\\_15days'\n",
       "\\item 'death'\n",
       "\\end{enumerate*}\n"
      ],
      "text/markdown": [
       "1. 'age'\n",
       "2. 'tmp'\n",
       "3. 'pulse_center100'\n",
       "4. 'sbp_center120'\n",
       "5. 'dbp_center75'\n",
       "6. 'rr_center18'\n",
       "7. 'spao2'\n",
       "8. 'map_center100'\n",
       "9. 'gcs'\n",
       "10. 'angiopoietin2_norm'\n",
       "11. 'il6_norm'\n",
       "12. 'tnfa_norm'\n",
       "13. 'scd163_norm'\n",
       "14. 'il10_norm'\n",
       "15. 'pentraxin3_norm'\n",
       "16. 'ifnr_norm'\n",
       "17. 'il8_norm'\n",
       "18. 'cd14_norm'\n",
       "19. 'trem1_norm'\n",
       "20. 'cd64_norm'\n",
       "21. 'icam1_norm'\n",
       "22. 'eselectin_norm'\n",
       "23. 'pselectin_norm'\n",
       "24. 'vcam1_norm'\n",
       "25. 'sugar_fs_center180'\n",
       "26. 'pct'\n",
       "27. 'crp'\n",
       "28. 'lactate'\n",
       "29. 'alb'\n",
       "30. 'aptt_center30'\n",
       "31. 'pt'\n",
       "32. 'inr'\n",
       "33. 'bilt'\n",
       "34. 'bun'\n",
       "35. 'ast'\n",
       "36. 'inorp_center3'\n",
       "37. 'tro'\n",
       "38. 'ddimer'\n",
       "39. 'cortisol'\n",
       "40. 'ca_center8.75'\n",
       "41. 'cl'\n",
       "42. 'uric'\n",
       "43. 'c3'\n",
       "44. 'proteinc_center75'\n",
       "45. 'po2'\n",
       "46. 'sat'\n",
       "47. 'hco3_center25'\n",
       "48. 'pco2'\n",
       "49. 'ph'\n",
       "50. 'tco2'\n",
       "51. 'abe'\n",
       "52. 'aado2'\n",
       "53. 'fio2'\n",
       "54. 'sbc'\n",
       "55. 'sbe'\n",
       "56. 'fdp'\n",
       "57. 'band'\n",
       "58. 'cre'\n",
       "59. 'eos'\n",
       "60. 'hb'\n",
       "61. 'hct'\n",
       "62. 'mchc'\n",
       "63. 'mcv'\n",
       "64. 'plt'\n",
       "65. 'rbc'\n",
       "66. 'rdw'\n",
       "67. 'wbc_center15'\n",
       "68. 'K'\n",
       "69. 'Na'\n",
       "70. 'high_blood_pressure'\n",
       "71. 'asthma'\n",
       "72. 'gout'\n",
       "73. 'parkinson'\n",
       "74. 'hiv'\n",
       "75. 'stroke'\n",
       "76. 'allergy'\n",
       "77. 'misum'\n",
       "78. 'chfsum'\n",
       "79. 'pvdsum'\n",
       "80. 'cdsum'\n",
       "81. 'dementia'\n",
       "82. 'cpdsum'\n",
       "83. 'rdsum'\n",
       "84. 'pudsum'\n",
       "85. 'mldsum'\n",
       "86. 'hopsum'\n",
       "87. 'renalsum'\n",
       "88. 'leukemiasum'\n",
       "89. 'lymphomasum'\n",
       "90. 'msldsum'\n",
       "91. 'mstsum'\n",
       "92. 'tumorsum'\n",
       "93. 'ckdsum'\n",
       "94. 'carriersum'\n",
       "95. 'flsum'\n",
       "96. 'cirrhosissum'\n",
       "97. 'liversum'\n",
       "98. 'copd_final_sum'\n",
       "99. 'malignancy_final'\n",
       "100. 'dm_final'\n",
       "101. 'res_infection'\n",
       "102. 'gu_infection'\n",
       "103. 'skin_infection'\n",
       "104. 'abdominal_infection'\n",
       "105. 'cns_infection'\n",
       "106. 'msk_infection'\n",
       "107. 'other_infection'\n",
       "108. 'card_dysfunction'\n",
       "109. 'res_dysfunction'\n",
       "110. 'gt_dysfunction'\n",
       "111. 'ren_dysfunction'\n",
       "112. 'hep_dysfunction'\n",
       "113. 'neu_dysfunction'\n",
       "114. 'met_dysfunction'\n",
       "115. 'hem_dysfunction'\n",
       "116. 'sofa_score'\n",
       "117. 'sofa_sepsis'\n",
       "118. 'sofa_sep_shock'\n",
       "119. 'gene_sore'\n",
       "120. 'musc_sore'\n",
       "121. 'convulsion'\n",
       "122. 'gene_weak'\n",
       "123. 'chills'\n",
       "124. 'shak_chil'\n",
       "125. 'cyanosis'\n",
       "126. 'fever'\n",
       "127. 'sweat'\n",
       "128. 'no_sweat'\n",
       "129. 'dry_lips'\n",
       "130. 'thirsty'\n",
       "131. 'cold_extr'\n",
       "132. 'malaise'\n",
       "133. 'drawsy'\n",
       "134. 'syncope'\n",
       "135. 'confusion'\n",
       "136. 'tachycardia'\n",
       "137. 'agitation'\n",
       "138. 'acut_conf'\n",
       "139. 'fluc_cour'\n",
       "140. 'inattention'\n",
       "141. 'diso_thin'\n",
       "142. 'urin_freq'\n",
       "143. 'oliguria'\n",
       "144. 'hematuria'\n",
       "145. 'diff_void'\n",
       "146. 'dysuria'\n",
       "147. 'flan_pain'\n",
       "148. 'headache'\n",
       "149. 'dizziness'\n",
       "150. 'sore_thro'\n",
       "151. 'ches_tigh'\n",
       "152. 'dyspnea'\n",
       "153. 'ches_pain'\n",
       "154. 'neck_pain'\n",
       "155. 'nasa_cong'\n",
       "156. 'sneezing'\n",
       "157. 'runn_nose'\n",
       "158. 'dry_coug'\n",
       "159. 'prod_coug'\n",
       "160. 'sputum'\n",
       "161. 'hemoptysis'\n",
       "162. 'abdo_dist'\n",
       "163. 'abdo_pain'\n",
       "164. 'diarrhea'\n",
       "165. 'constipation'\n",
       "166. 'nausea'\n",
       "167. 'vomit'\n",
       "168. 'anorexia'\n",
       "169. 'jaundice'\n",
       "170. 'hypotension'\n",
       "171. 'lactate_overlimit'\n",
       "172. 'cre_over2'\n",
       "173. 'bilt_over2'\n",
       "174. 'plt_100less'\n",
       "175. 'inr_over15'\n",
       "176. 'male'\n",
       "177. 'infilt'\n",
       "178. 'consol'\n",
       "179. 'patch'\n",
       "180. 'edema'\n",
       "181. 'haz'\n",
       "182. 'cxrpn'\n",
       "183. 'lrti1e'\n",
       "184. 'meds_age65u'\n",
       "185. 'meds_lti1e'\n",
       "186. 'meds_nur1e'\n",
       "187. 'meds_ams15b'\n",
       "188. 'meds_ban5u'\n",
       "189. 'meds_plt150b'\n",
       "190. 'meds_sho90b'\n",
       "191. 'meds_sob20u'\n",
       "192. 'meds_ter1e'\n",
       "193. 'meds'\n",
       "194. 'sirs_t38u36b'\n",
       "195. 'sirs_p90u'\n",
       "196. 'sirs_r20u'\n",
       "197. 'sirs_wbc12u4b'\n",
       "198. 'sirs_score'\n",
       "199. 'ams'\n",
       "200. 'dop5b_dob'\n",
       "201. 'dop5u_nor01b'\n",
       "202. 'dop15u_nor01u'\n",
       "203. 'sofa_res'\n",
       "204. 'sofa_ner'\n",
       "205. 'sofa_vas'\n",
       "206. 'sofa_liver'\n",
       "207. 'sofa_coag'\n",
       "208. 'sofa_renal'\n",
       "209. 'vasopressor'\n",
       "210. 'bacteremia'\n",
       "211. 'icu_admission'\n",
       "212. 'sev_sep_chen'\n",
       "213. 'chills_final'\n",
       "214. 'bthypo'\n",
       "215. 'rdw145'\n",
       "216. 'rbc4'\n",
       "217. 'no_chills'\n",
       "218. 'charm'\n",
       "219. 'without_blooddrawn'\n",
       "220. 'doi_symptom'\n",
       "221. 'POD_in_15days'\n",
       "222. 'death'\n",
       "\n",
       "\n"
      ],
      "text/plain": [
       "  [1] \"age\"                 \"tmp\"                 \"pulse_center100\"    \n",
       "  [4] \"sbp_center120\"       \"dbp_center75\"        \"rr_center18\"        \n",
       "  [7] \"spao2\"               \"map_center100\"       \"gcs\"                \n",
       " [10] \"angiopoietin2_norm\"  \"il6_norm\"            \"tnfa_norm\"          \n",
       " [13] \"scd163_norm\"         \"il10_norm\"           \"pentraxin3_norm\"    \n",
       " [16] \"ifnr_norm\"           \"il8_norm\"            \"cd14_norm\"          \n",
       " [19] \"trem1_norm\"          \"cd64_norm\"           \"icam1_norm\"         \n",
       " [22] \"eselectin_norm\"      \"pselectin_norm\"      \"vcam1_norm\"         \n",
       " [25] \"sugar_fs_center180\"  \"pct\"                 \"crp\"                \n",
       " [28] \"lactate\"             \"alb\"                 \"aptt_center30\"      \n",
       " [31] \"pt\"                  \"inr\"                 \"bilt\"               \n",
       " [34] \"bun\"                 \"ast\"                 \"inorp_center3\"      \n",
       " [37] \"tro\"                 \"ddimer\"              \"cortisol\"           \n",
       " [40] \"ca_center8.75\"       \"cl\"                  \"uric\"               \n",
       " [43] \"c3\"                  \"proteinc_center75\"   \"po2\"                \n",
       " [46] \"sat\"                 \"hco3_center25\"       \"pco2\"               \n",
       " [49] \"ph\"                  \"tco2\"                \"abe\"                \n",
       " [52] \"aado2\"               \"fio2\"                \"sbc\"                \n",
       " [55] \"sbe\"                 \"fdp\"                 \"band\"               \n",
       " [58] \"cre\"                 \"eos\"                 \"hb\"                 \n",
       " [61] \"hct\"                 \"mchc\"                \"mcv\"                \n",
       " [64] \"plt\"                 \"rbc\"                 \"rdw\"                \n",
       " [67] \"wbc_center15\"        \"K\"                   \"Na\"                 \n",
       " [70] \"high_blood_pressure\" \"asthma\"              \"gout\"               \n",
       " [73] \"parkinson\"           \"hiv\"                 \"stroke\"             \n",
       " [76] \"allergy\"             \"misum\"               \"chfsum\"             \n",
       " [79] \"pvdsum\"              \"cdsum\"               \"dementia\"           \n",
       " [82] \"cpdsum\"              \"rdsum\"               \"pudsum\"             \n",
       " [85] \"mldsum\"              \"hopsum\"              \"renalsum\"           \n",
       " [88] \"leukemiasum\"         \"lymphomasum\"         \"msldsum\"            \n",
       " [91] \"mstsum\"              \"tumorsum\"            \"ckdsum\"             \n",
       " [94] \"carriersum\"          \"flsum\"               \"cirrhosissum\"       \n",
       " [97] \"liversum\"            \"copd_final_sum\"      \"malignancy_final\"   \n",
       "[100] \"dm_final\"            \"res_infection\"       \"gu_infection\"       \n",
       "[103] \"skin_infection\"      \"abdominal_infection\" \"cns_infection\"      \n",
       "[106] \"msk_infection\"       \"other_infection\"     \"card_dysfunction\"   \n",
       "[109] \"res_dysfunction\"     \"gt_dysfunction\"      \"ren_dysfunction\"    \n",
       "[112] \"hep_dysfunction\"     \"neu_dysfunction\"     \"met_dysfunction\"    \n",
       "[115] \"hem_dysfunction\"     \"sofa_score\"          \"sofa_sepsis\"        \n",
       "[118] \"sofa_sep_shock\"      \"gene_sore\"           \"musc_sore\"          \n",
       "[121] \"convulsion\"          \"gene_weak\"           \"chills\"             \n",
       "[124] \"shak_chil\"           \"cyanosis\"            \"fever\"              \n",
       "[127] \"sweat\"               \"no_sweat\"            \"dry_lips\"           \n",
       "[130] \"thirsty\"             \"cold_extr\"           \"malaise\"            \n",
       "[133] \"drawsy\"              \"syncope\"             \"confusion\"          \n",
       "[136] \"tachycardia\"         \"agitation\"           \"acut_conf\"          \n",
       "[139] \"fluc_cour\"           \"inattention\"         \"diso_thin\"          \n",
       "[142] \"urin_freq\"           \"oliguria\"            \"hematuria\"          \n",
       "[145] \"diff_void\"           \"dysuria\"             \"flan_pain\"          \n",
       "[148] \"headache\"            \"dizziness\"           \"sore_thro\"          \n",
       "[151] \"ches_tigh\"           \"dyspnea\"             \"ches_pain\"          \n",
       "[154] \"neck_pain\"           \"nasa_cong\"           \"sneezing\"           \n",
       "[157] \"runn_nose\"           \"dry_coug\"            \"prod_coug\"          \n",
       "[160] \"sputum\"              \"hemoptysis\"          \"abdo_dist\"          \n",
       "[163] \"abdo_pain\"           \"diarrhea\"            \"constipation\"       \n",
       "[166] \"nausea\"              \"vomit\"               \"anorexia\"           \n",
       "[169] \"jaundice\"            \"hypotension\"         \"lactate_overlimit\"  \n",
       "[172] \"cre_over2\"           \"bilt_over2\"          \"plt_100less\"        \n",
       "[175] \"inr_over15\"          \"male\"                \"infilt\"             \n",
       "[178] \"consol\"              \"patch\"               \"edema\"              \n",
       "[181] \"haz\"                 \"cxrpn\"               \"lrti1e\"             \n",
       "[184] \"meds_age65u\"         \"meds_lti1e\"          \"meds_nur1e\"         \n",
       "[187] \"meds_ams15b\"         \"meds_ban5u\"          \"meds_plt150b\"       \n",
       "[190] \"meds_sho90b\"         \"meds_sob20u\"         \"meds_ter1e\"         \n",
       "[193] \"meds\"                \"sirs_t38u36b\"        \"sirs_p90u\"          \n",
       "[196] \"sirs_r20u\"           \"sirs_wbc12u4b\"       \"sirs_score\"         \n",
       "[199] \"ams\"                 \"dop5b_dob\"           \"dop5u_nor01b\"       \n",
       "[202] \"dop15u_nor01u\"       \"sofa_res\"            \"sofa_ner\"           \n",
       "[205] \"sofa_vas\"            \"sofa_liver\"          \"sofa_coag\"          \n",
       "[208] \"sofa_renal\"          \"vasopressor\"         \"bacteremia\"         \n",
       "[211] \"icu_admission\"       \"sev_sep_chen\"        \"chills_final\"       \n",
       "[214] \"bthypo\"              \"rdw145\"              \"rbc4\"               \n",
       "[217] \"no_chills\"           \"charm\"               \"without_blooddrawn\" \n",
       "[220] \"doi_symptom\"         \"POD_in_15days\"       \"death\"              "
      ]
     },
     "metadata": {},
     "output_type": "display_data"
    },
    {
     "data": {
      "text/plain": [
       "death\n",
       "  0   1 \n",
       "510  45 "
      ]
     },
     "metadata": {},
     "output_type": "display_data"
    }
   ],
   "source": [
    "sepsisdata=read.csv(\"sepsis data.csv\",header=TRUE,sep=\",\")\n",
    "features=colnames(sepsisdata, do.NULL = TRUE, prefix = \"col\")\n",
    "features\n",
    "death=sepsisdata[,222] ## define outcome\n",
    "table(death)"
   ]
  },
  {
   "cell_type": "markdown",
   "id": "dc3288d2",
   "metadata": {},
   "source": [
    "### Data pre-processing"
   ]
  },
  {
   "cell_type": "markdown",
   "id": "add1468a",
   "metadata": {},
   "source": [
    "### Imputing missing values"
   ]
  },
  {
   "cell_type": "markdown",
   "id": "5dacc549",
   "metadata": {},
   "source": [
    "#### Continuous Variables"
   ]
  },
  {
   "cell_type": "code",
   "execution_count": 3,
   "id": "073013d3",
   "metadata": {},
   "outputs": [
    {
     "data": {
      "text/html": [
       "<style>\n",
       ".list-inline {list-style: none; margin:0; padding: 0}\n",
       ".list-inline>li {display: inline-block}\n",
       ".list-inline>li:not(:last-child)::after {content: \"\\00b7\"; padding: 0 .5ex}\n",
       "</style>\n",
       "<ol class=list-inline><li>555</li><li>69</li></ol>\n"
      ],
      "text/latex": [
       "\\begin{enumerate*}\n",
       "\\item 555\n",
       "\\item 69\n",
       "\\end{enumerate*}\n"
      ],
      "text/markdown": [
       "1. 555\n",
       "2. 69\n",
       "\n",
       "\n"
      ],
      "text/plain": [
       "[1] 555  69"
      ]
     },
     "metadata": {},
     "output_type": "display_data"
    },
    {
     "name": "stdout",
     "output_type": "stream",
     "text": [
      "'data.frame':\t555 obs. of  69 variables:\n",
      " $ age               : int  78 73 71 42 89 77 92 78 63 58 ...\n",
      " $ tmp               : num  37.6 36.9 38.3 36 38.3 ...\n",
      " $ pulse_center100   : int  121 225 9 1 1849 0 576 81 196 256 ...\n",
      " $ sbp_center120     : int  2304 1156 49 100 1521 961 441 625 529 9 ...\n",
      " $ dbp_center75      : int  225 289 289 1 169 441 9 400 4 144 ...\n",
      " $ rr_center18       : num  144 25 1 0 64 36 36 0 100 1 ...\n",
      " $ spao2             : num  91 91 89 92 90 91 74 99 73 98 ...\n",
      " $ map_center100     : num  256 1067 361 196 136 ...\n",
      " $ gcs               : int  15 15 15 15 4 15 10 15 15 15 ...\n",
      " $ angiopoietin2_norm: num  0.0187 0.0251 0.0485 0.0112 0.0491 ...\n",
      " $ il6_norm          : num  0.000284 0.00118 0.000429 0.000738 0.000545 ...\n",
      " $ tnfa_norm         : num  0.0229 0.115 0.0556 0.0639 0.0837 ...\n",
      " $ scd163_norm       : num  0.7062 0.4014 0.0996 0.1907 0.1487 ...\n",
      " $ il10_norm         : num  7.71e-04 3.40e-14 1.89e-04 3.40e-14 3.98e-03 ...\n",
      " $ pentraxin3_norm   : num  0.4528 0.0674 0.0673 0.1331 0.4981 ...\n",
      " $ ifnr_norm         : num  -6.15e-11 -6.15e-11 -6.15e-11 -6.15e-11 -6.15e-11 ...\n",
      " $ il8_norm          : num  0.002106 0.000881 0.001617 0.001457 0.001687 ...\n",
      " $ cd14_norm         : num  0.766 0.434 0.342 0.774 0.347 ...\n",
      " $ trem1_norm        : num  0.2207 0.42 0.2493 0.1513 0.0762 ...\n",
      " $ cd64_norm         : num  0.1142 0.0801 0.0163 0.0334 0.037 ...\n",
      " $ icam1_norm        : num  0.3861 0.3523 0.4941 0.2297 0.0481 ...\n",
      " $ eselectin_norm    : num  0.1431 0.0631 0.0303 0.0374 0.029 ...\n",
      " $ pselectin_norm    : num  0.2965 0.1988 0.0528 0.2067 0.2435 ...\n",
      " $ vcam1_norm        : num  0.233 0.133 0.212 0.353 0.163 ...\n",
      " $ sugar_fs_center180: int  12100 3844 3025 7056 729 25 625 3364 81 529 ...\n",
      " $ pct               : num  0.37 0.15 0.09 0.54 0.92 ...\n",
      " $ crp               : num  257 154.9 75.7 204.1 74.1 ...\n",
      " $ lactate           : num  28.7 9 13.8 9.2 32.7 ...\n",
      " $ alb               : num  3.75 2.73 3.06 3.44 4.42 ...\n",
      " $ aptt_center30     : num  7.84 0.49 0.64 7.84 21.16 ...\n",
      " $ pt                : num  13.6 13.5 11.7 13.6 10.4 ...\n",
      " $ inr               : num  1.2 1.2 1.1 1.2 1.2 ...\n",
      " $ bilt              : num  0.4 0.6 0.6 0.3 0.6 ...\n",
      " $ bun               : num  32.8 18.6 14.3 17 7.5 ...\n",
      " $ ast               : int  20 24 25 45 34 30 58 104 28 144 ...\n",
      " $ inorp_center3     : num  0.09 0.16 0.01 0.49 2.56 ...\n",
      " $ tro               : num  0.017 0.181 0.022 0.014 0.129 ...\n",
      " $ ddimer            : num  1295 1915 544 1295 1956 ...\n",
      " $ cortisol          : num  62.4 14.4 21.2 19.9 62.1 ...\n",
      " $ ca_center8.75     : num  0.303 0.562 0.303 0.202 0.202 ...\n",
      " $ cl                : num  97 100 98 105 105 104 103 114 95 101 ...\n",
      " $ uric              : num  6.3 9.6 2.5 5.2 4.9 ...\n",
      " $ c3                : num  144 81.2 119 175 108 ...\n",
      " $ proteinc_center75 : num  86.5 302.8 538.2 2256.2 1936 ...\n",
      " $ po2               : num  51.9 199.6 44 51.9 56.8 ...\n",
      " $ sat               : num  87.5 99.5 84.4 87.5 88.6 ...\n",
      " $ hco3_center25     : num  6.25 13.69 10.24 6.25 0.09 ...\n",
      " $ pco2              : num  38 36.4 36.6 38 44.8 ...\n",
      " $ ph                : num  7.42 7.51 7.5 7.42 7.37 ...\n",
      " $ tco2              : num  25.1 29.8 29.3 25.1 26.6 ...\n",
      " $ abe               : num  -0.124 5.7 5 -0.124 -0.4 ...\n",
      " $ aado2             : num  53.2 53.2 60 53.2 36.9 ...\n",
      " $ fio2              : int  21 21 21 33 21 21 51 21 33 21 ...\n",
      " $ sbc               : num  23.6 29.6 28.6 23.6 24 ...\n",
      " $ sbe               : num  -0.35 5.7 5 -0.35 0 ...\n",
      " $ fdp               : num  10 25 10 10 25 25 25 25 25 60 ...\n",
      " $ band              : num  6 0 12 6 0 0 0 14.5 1 8 ...\n",
      " $ cre               : num  1.13 1.2 1.06 1.42 0.35 ...\n",
      " $ eos               : num  1 0.8 9 1.5 3.8 ...\n",
      " $ hb                : num  10.6 11.4 11.7 15.5 13.5 ...\n",
      " $ hct               : num  31.9 27.8 33.1 45.5 39.9 ...\n",
      " $ mchc              : num  33.2 33.6 35.3 34.1 33.4 ...\n",
      " $ mcv               : num  84.2 88.3 88.5 89.2 93 ...\n",
      " $ plt               : num  81 215 93 149 239 77 238 136 271 274 ...\n",
      " $ rbc               : num  3.79 3.15 3.74 5.06 3.29 ...\n",
      " $ rdw               : num  13.7 13.9 14.1 12.9 12.5 ...\n",
      " $ wbc_center15      : num  33.6 125.4 169 110.2 53.3 ...\n",
      " $ K                 : num  4.8 3.2 3.1 3.8 4.1 4.1 4.5 3.8 3.6 3.7 ...\n",
      " $ Na                : num  132 131 130 135 138 133 127 135 131 132 ...\n"
     ]
    }
   ],
   "source": [
    "sepsisdata_conti<-sepsisdata[,1:69]\n",
    "dim(sepsisdata_conti)\n",
    "\n",
    "for(i in 1:ncol(sepsisdata_conti)){\n",
    "  sepsisdata_conti[is.na(sepsisdata_conti[,i]), i] <- median(sepsisdata_conti[,i], na.rm = TRUE) ## Replacing NA with median value\n",
    "}\n",
    "str(sepsisdata_conti)"
   ]
  },
  {
   "cell_type": "markdown",
   "id": "4a649d2a",
   "metadata": {},
   "source": [
    "#### Normalization by z score"
   ]
  },
  {
   "cell_type": "code",
   "execution_count": 4,
   "id": "e4d8f9f2",
   "metadata": {},
   "outputs": [
    {
     "data": {
      "text/html": [
       "0"
      ],
      "text/latex": [
       "0"
      ],
      "text/markdown": [
       "0"
      ],
      "text/plain": [
       "[1] 0"
      ]
     },
     "metadata": {},
     "output_type": "display_data"
    }
   ],
   "source": [
    "sepsisdata_conti<-as.data.frame(scale(sepsisdata_conti))\n",
    "length(which(is.na(sepsisdata_conti)))"
   ]
  },
  {
   "cell_type": "markdown",
   "id": "55269270",
   "metadata": {},
   "source": [
    "#### Categorical Variables"
   ]
  },
  {
   "cell_type": "code",
   "execution_count": 5,
   "id": "26a51194",
   "metadata": {},
   "outputs": [
    {
     "data": {
      "text/html": [
       "23"
      ],
      "text/latex": [
       "23"
      ],
      "text/markdown": [
       "23"
      ],
      "text/plain": [
       "[1] 23"
      ]
     },
     "metadata": {},
     "output_type": "display_data"
    },
    {
     "data": {
      "text/html": [
       "0"
      ],
      "text/latex": [
       "0"
      ],
      "text/markdown": [
       "0"
      ],
      "text/plain": [
       "[1] 0"
      ]
     },
     "metadata": {},
     "output_type": "display_data"
    }
   ],
   "source": [
    "sepsisdata_cate<-sepsisdata[, 70:221]\n",
    "sepsisdata_cate[sepsisdata_cate==\"?\"]<- NA\n",
    "length(which(is.na(sepsisdata_cate)))\n",
    "\n",
    "sepsisdata_cate[is.na(sepsisdata_cate)] <- 0  ### Replacing NA with 0 (問卷,症狀,或共病)\n",
    "length(which(is.na(sepsisdata_cate)))"
   ]
  },
  {
   "cell_type": "markdown",
   "id": "3cd61316",
   "metadata": {},
   "source": [
    "### Combining Data after pre-processing"
   ]
  },
  {
   "cell_type": "code",
   "execution_count": 6,
   "id": "b3361076",
   "metadata": {},
   "outputs": [
    {
     "data": {
      "text/plain": [
       "\n",
       "  0   1 \n",
       "510  45 "
      ]
     },
     "metadata": {},
     "output_type": "display_data"
    },
    {
     "data": {
      "text/plain": [
       "\n",
       "  Death Survive \n",
       "     45     510 "
      ]
     },
     "metadata": {},
     "output_type": "display_data"
    }
   ],
   "source": [
    "mydata<-cbind(death, sepsisdata_conti, sepsisdata_cate)\n",
    "table(mydata$death)\n",
    "mydata$death_binary=ifelse(mydata$death==\"0\",\"Survive\",\"Death\")\n",
    "mydata=mydata[,-1]\n",
    "mydata$death_binary=as.factor(mydata$death_binary)\n",
    "table(mydata$death_binary)"
   ]
  },
  {
   "cell_type": "markdown",
   "id": "5fa145b1",
   "metadata": {},
   "source": [
    "###  Model derivation"
   ]
  },
  {
   "cell_type": "markdown",
   "id": "0bec79ac",
   "metadata": {},
   "source": [
    "#### Data partitioning by stratified method ###########"
   ]
  },
  {
   "cell_type": "code",
   "execution_count": 7,
   "id": "f809fe94",
   "metadata": {},
   "outputs": [
    {
     "data": {
      "text/plain": [
       "\n",
       "  Death Survive \n",
       "     32     357 "
      ]
     },
     "metadata": {},
     "output_type": "display_data"
    },
    {
     "data": {
      "text/html": [
       "<style>\n",
       ".list-inline {list-style: none; margin:0; padding: 0}\n",
       ".list-inline>li {display: inline-block}\n",
       ".list-inline>li:not(:last-child)::after {content: \"\\00b7\"; padding: 0 .5ex}\n",
       "</style>\n",
       "<ol class=list-inline><li>389</li><li>222</li></ol>\n"
      ],
      "text/latex": [
       "\\begin{enumerate*}\n",
       "\\item 389\n",
       "\\item 222\n",
       "\\end{enumerate*}\n"
      ],
      "text/markdown": [
       "1. 389\n",
       "2. 222\n",
       "\n",
       "\n"
      ],
      "text/plain": [
       "[1] 389 222"
      ]
     },
     "metadata": {},
     "output_type": "display_data"
    }
   ],
   "source": [
    "mydata1=mydata[which(mydata$death_binary==\"Survive\"),]\n",
    "mydata2=mydata[which(mydata$death_binary==\"Death\"),]\n",
    "index1=sample(dim(mydata1)[1],nrow(mydata1)*0.3)\n",
    "index2=sample(dim(mydata2)[1],nrow(mydata2)*0.3)\n",
    "testing=rbind(mydata1[index1,],mydata2[index2,])\n",
    "training=rbind(mydata1[-index1,],mydata2[-index2,])\n",
    "##smote_train<-SMOTE(death_binary~.,data=training)\n",
    "table(training$death_binary)\n",
    "##table(smote_train$death_binary)\n",
    "dim(training)"
   ]
  },
  {
   "cell_type": "markdown",
   "id": "988135c7",
   "metadata": {},
   "source": [
    "#### Cross validation method: 5 numbers with 5 repeatation"
   ]
  },
  {
   "cell_type": "code",
   "execution_count": 8,
   "id": "1e99d7a1",
   "metadata": {},
   "outputs": [],
   "source": [
    "fitControl=trainControl(method=\"repeatedcv\",\n",
    "                        number=5,\n",
    "                        repeats=5,\n",
    "                        verbose = FALSE,\n",
    "                        classProbs = TRUE,\n",
    "                        summaryFunction=twoClassSummary,\n",
    "                        search=\"random\")"
   ]
  },
  {
   "cell_type": "markdown",
   "id": "25f6ef17",
   "metadata": {},
   "source": [
    "###  Machine learning-based models "
   ]
  },
  {
   "cell_type": "markdown",
   "id": "ad590d8b",
   "metadata": {},
   "source": [
    "###   Random Forest MODEL "
   ]
  },
  {
   "cell_type": "code",
   "execution_count": 9,
   "id": "1dd9a418",
   "metadata": {},
   "outputs": [
    {
     "data": {
      "text/plain": [
       "Random Forest \n",
       "\n",
       "389 samples\n",
       "221 predictors\n",
       "  2 classes: 'Death', 'Survive' \n",
       "\n",
       "No pre-processing\n",
       "Resampling: Cross-Validated (5 fold, repeated 5 times) \n",
       "Summary of sample sizes: 311, 312, 311, 311, 311, 311, ... \n",
       "Resampling results across tuning parameters:\n",
       "\n",
       "  mtry  ROC        Sens       Spec     \n",
       "   23   0.8432665  0.1876190  0.9983177\n",
       "   38   0.8373465  0.2009524  0.9977621\n",
       "   55   0.8237091  0.2400000  0.9983177\n",
       "  131   0.8075617  0.2514286  0.9910250\n",
       "  132   0.8143698  0.2257143  0.9938263\n",
       "  148   0.8119231  0.2447619  0.9921440\n",
       "  160   0.8124302  0.2647619  0.9938341\n",
       "  168   0.8103052  0.2514286  0.9915806\n",
       "\n",
       "ROC was used to select the optimal model using the largest value.\n",
       "The final value used for the model was mtry = 23."
      ]
     },
     "metadata": {},
     "output_type": "display_data"
    },
    {
     "data": {
      "text/plain": [
       "Confusion Matrix and Statistics\n",
       "\n",
       "          Reference\n",
       "Prediction Death Survive\n",
       "   Death      32       0\n",
       "   Survive     0     357\n",
       "                                     \n",
       "               Accuracy : 1          \n",
       "                 95% CI : (0.9906, 1)\n",
       "    No Information Rate : 0.9177     \n",
       "    P-Value [Acc > NIR] : 3.144e-15  \n",
       "                                     \n",
       "                  Kappa : 1          \n",
       "                                     \n",
       " Mcnemar's Test P-Value : NA         \n",
       "                                     \n",
       "            Sensitivity : 1.00000    \n",
       "            Specificity : 1.00000    \n",
       "         Pos Pred Value : 1.00000    \n",
       "         Neg Pred Value : 1.00000    \n",
       "             Prevalence : 0.08226    \n",
       "         Detection Rate : 0.08226    \n",
       "   Detection Prevalence : 0.08226    \n",
       "      Balanced Accuracy : 1.00000    \n",
       "                                     \n",
       "       'Positive' Class : Death      \n",
       "                                     "
      ]
     },
     "metadata": {},
     "output_type": "display_data"
    },
    {
     "data": {
      "text/plain": [
       "Confusion Matrix and Statistics\n",
       "\n",
       "          Reference\n",
       "Prediction Death Survive\n",
       "   Death       3       2\n",
       "   Survive    10     151\n",
       "                                          \n",
       "               Accuracy : 0.9277          \n",
       "                 95% CI : (0.8771, 0.9621)\n",
       "    No Information Rate : 0.9217          \n",
       "    P-Value [Acc > NIR] : 0.45860         \n",
       "                                          \n",
       "                  Kappa : 0.303           \n",
       "                                          \n",
       " Mcnemar's Test P-Value : 0.04331         \n",
       "                                          \n",
       "            Sensitivity : 0.23077         \n",
       "            Specificity : 0.98693         \n",
       "         Pos Pred Value : 0.60000         \n",
       "         Neg Pred Value : 0.93789         \n",
       "             Prevalence : 0.07831         \n",
       "         Detection Rate : 0.01807         \n",
       "   Detection Prevalence : 0.03012         \n",
       "      Balanced Accuracy : 0.60885         \n",
       "                                          \n",
       "       'Positive' Class : Death           \n",
       "                                          "
      ]
     },
     "metadata": {},
     "output_type": "display_data"
    },
    {
     "name": "stderr",
     "output_type": "stream",
     "text": [
      "Setting direction: controls < cases\n",
      "\n",
      "Setting direction: controls < cases\n",
      "\n"
     ]
    },
    {
     "data": {
      "text/plain": [
       "\n",
       "Call:\n",
       "roc.default(response = training$death, predictor = train_results[,     \"Death\"], levels = c(\"Survive\", \"Death\"))\n",
       "\n",
       "Data: train_results[, \"Death\"] in 357 controls (training$death Survive) < 32 cases (training$death Death).\n",
       "Area under the curve: 1"
      ]
     },
     "metadata": {},
     "output_type": "display_data"
    },
    {
     "name": "stderr",
     "output_type": "stream",
     "text": [
      "Warning message in ci.auc.roc(ROC_train):\n",
      "\"ci.auc() of a ROC curve with AUC == 1 is always 1-1 and can be misleading.\"\n"
     ]
    },
    {
     "data": {
      "text/html": [
       "<style>\n",
       ".list-inline {list-style: none; margin:0; padding: 0}\n",
       ".list-inline>li {display: inline-block}\n",
       ".list-inline>li:not(:last-child)::after {content: \"\\00b7\"; padding: 0 .5ex}\n",
       "</style>\n",
       "<ol class=list-inline><li>1</li><li>1</li><li>1</li></ol>\n"
      ],
      "text/latex": [
       "\\begin{enumerate*}\n",
       "\\item 1\n",
       "\\item 1\n",
       "\\item 1\n",
       "\\end{enumerate*}\n"
      ],
      "text/markdown": [
       "1. 1\n",
       "2. 1\n",
       "3. 1\n",
       "\n",
       "\n"
      ],
      "text/plain": [
       "95% CI: 1-1 (DeLong)"
      ]
     },
     "metadata": {},
     "output_type": "display_data"
    },
    {
     "data": {
      "text/plain": [
       "\n",
       "Call:\n",
       "roc.default(response = testing$death, predictor = test_results[,     \"Death\"], levels = c(\"Survive\", \"Death\"))\n",
       "\n",
       "Data: test_results[, \"Death\"] in 153 controls (testing$death Survive) < 13 cases (testing$death Death).\n",
       "Area under the curve: 0.8753"
      ]
     },
     "metadata": {},
     "output_type": "display_data"
    },
    {
     "data": {
      "text/html": [
       "<style>\n",
       ".list-inline {list-style: none; margin:0; padding: 0}\n",
       ".list-inline>li {display: inline-block}\n",
       ".list-inline>li:not(:last-child)::after {content: \"\\00b7\"; padding: 0 .5ex}\n",
       "</style>\n",
       "<ol class=list-inline><li>0.774266938042273</li><li>0.875314228255405</li><li>0.976361518468536</li></ol>\n"
      ],
      "text/latex": [
       "\\begin{enumerate*}\n",
       "\\item 0.774266938042273\n",
       "\\item 0.875314228255405\n",
       "\\item 0.976361518468536\n",
       "\\end{enumerate*}\n"
      ],
      "text/markdown": [
       "1. 0.774266938042273\n",
       "2. 0.875314228255405\n",
       "3. 0.976361518468536\n",
       "\n",
       "\n"
      ],
      "text/plain": [
       "95% CI: 0.7743-0.9764 (DeLong)"
      ]
     },
     "metadata": {},
     "output_type": "display_data"
    }
   ],
   "source": [
    "rfmodelfit<-train(death_binary ~ .,\n",
    "                  data=training,\n",
    "                  ## data=smote_train,\n",
    "                  method=\"rf\",\n",
    "                  metric=\"ROC\",\n",
    "                  tuneLength=10,\n",
    "                  trControl=fitControl)\n",
    "\n",
    "rfmodelfit\n",
    "\n",
    "predictions_train=predict(rfmodelfit,newdata=training)\n",
    "predictions_test=predict(rfmodelfit,newdata=testing)\n",
    "confusionMatrix(predict(rfmodelfit,training),training$death)\n",
    "confusionMatrix(predict(rfmodelfit,testing),testing$death)\n",
    "\n",
    "train_results=predict(rfmodelfit,training,type=\"prob\")\n",
    "test_results=predict(rfmodelfit,testing,type=\"prob\")\n",
    "train_results$obs=training$death\n",
    "train_results$pred=predictions_train\n",
    "test_results$obs=testing$death\n",
    "test_results$pred=predictions_test\n",
    "ROC_train<-roc(training$death,train_results[,\"Death\"],levels=c(\"Survive\",\"Death\"))\n",
    "ROC_test<-roc(testing$death,test_results[,\"Death\"],levels=c(\"Survive\",\"Death\"))\n",
    "ROC_train\n",
    "ci.auc(ROC_train)\n",
    "ROC_test\n",
    "ci.auc(ROC_test)"
   ]
  },
  {
   "cell_type": "markdown",
   "id": "d3ec611e",
   "metadata": {},
   "source": [
    "#### Plot ROC Curve for Random Forest MODEL"
   ]
  },
  {
   "cell_type": "code",
   "execution_count": 10,
   "id": "3102e151",
   "metadata": {},
   "outputs": [
    {
     "data": {
      "image/png": "[encoded data removed]",
      "text/plain": [
       "plot without title"
      ]
     },
     "metadata": {
      "image/png": {
       "height": 420,
       "width": 420
      }
     },
     "output_type": "display_data"
    }
   ],
   "source": [
    "plot(ROC_train)\n",
    "plot(ROC_test,add=TRUE,col=\"red\")"
   ]
  },
  {
   "cell_type": "markdown",
   "id": "d87e4602",
   "metadata": {},
   "source": [
    "### Visualize the tree"
   ]
  },
  {
   "cell_type": "code",
   "execution_count": 11,
   "id": "460cf661",
   "metadata": {},
   "outputs": [
    {
     "name": "stdout",
     "output_type": "stream",
     "text": [
      "ntree      OOB      1      2\n",
      "  100:   8.23%100.00%  0.00%\n",
      "  200:   8.23%100.00%  0.00%\n",
      "  300:   8.23%100.00%  0.00%\n",
      "  400:   8.23%100.00%  0.00%\n",
      "  500:   8.23%100.00%  0.00%\n"
     ]
    }
   ],
   "source": [
    "model <- randomForest(death_binary ~ .,\n",
    "                      data=training,\n",
    "                      importance=TRUE,\n",
    "                      ntree=500,\n",
    "                      mtry = 2,\n",
    "                      do.trace=100)"
   ]
  },
  {
   "cell_type": "code",
   "execution_count": 12,
   "id": "f4c3a6c2",
   "metadata": {},
   "outputs": [
    {
     "name": "stderr",
     "output_type": "stream",
     "text": [
      "Warning message:\n",
      "\"Duplicated aesthetics after name standardisation: na.rm\"\n",
      "Warning message:\n",
      "\"Duplicated aesthetics after name standardisation: na.rm\"\n",
      "Warning message:\n",
      "\"Duplicated aesthetics after name standardisation: na.rm\"\n",
      "Warning message:\n",
      "\"Removed 11 rows containing missing values (geom_text_repel).\"\n",
      "Warning message:\n",
      "\"Removed 11 rows containing missing values (geom_label).\"\n",
      "Warning message:\n",
      "\"Removed 10 rows containing missing values (geom_label_repel).\"\n"
     ]
    },
    {
     "data": {
      "image/png": "[encoded data removed]",
      "text/plain": [
       "plot without title"
      ]
     },
     "metadata": {
      "image/png": {
       "height": 420,
       "width": 420
      }
     },
     "output_type": "display_data"
    },
    {
     "name": "stderr",
     "output_type": "stream",
     "text": [
      "Warning message in if (k > rfobj$ntree) {:\n",
      "\"條件的長度 > 1，因此只能用其第一元素\"\n",
      "Warning message in cbind(rfobj$forest$treemap[, , k], rfobj$forest$bestvar[, k], :\n",
      "\"number of rows of result is not a multiple of vector length (arg 1)\"\n",
      "Warning message in 1:rfobj$forest$ndbigtree[k]:\n",
      "\"數值運算式一共有 2 個元素: 只用了第一個\"\n"
     ]
    },
    {
     "ename": "ERROR",
     "evalue": "Error in dimnames(tree) <- list(1:nrow(tree), c(\"left daughter\", \"right daughter\", : 'dimnames' 的長度 [2] 必須與陣列範圍相等\n",
     "output_type": "error",
     "traceback": [
      "Error in dimnames(tree) <- list(1:nrow(tree), c(\"left daughter\", \"right daughter\", : 'dimnames' 的長度 [2] 必須與陣列範圍相等\nTraceback:\n",
      "1. tree_func(final_model = rfmodelfit$finalModel, tree_num)",
      "2. randomForest::getTree(final_model, k = tree_num, labelVar = TRUE) %>% \n .     tibble::rownames_to_column() %>% mutate(`split point` = ifelse(is.na(prediction), \n .     `split point`, NA))   # at line 8-13 of file <text>",
      "3. mutate(., `split point` = ifelse(is.na(prediction), `split point`, \n .     NA))",
      "4. tibble::rownames_to_column(.)",
      "5. randomForest::getTree(final_model, k = tree_num, labelVar = TRUE)"
     ]
    },
    {
     "data": {
      "image/png": "[encoded data removed]",
      "text/plain": [
       "plot without title"
      ]
     },
     "metadata": {
      "image/png": {
       "height": 420,
       "width": 420
      }
     },
     "output_type": "display_data"
    }
   ],
   "source": [
    "reprtree:::plot.getTree(model)\n",
    "\n",
    "### Plotting trees from Random Forest models with ggraph\n",
    "tree_func <- function(final_model,\n",
    "                      tree_num) {\n",
    "\n",
    "  # get tree by index\n",
    "  tree <- randomForest::getTree(final_model,\n",
    "                                k = tree_num,\n",
    "                                labelVar = TRUE) %>%\n",
    "    tibble::rownames_to_column() %>%\n",
    "    # make leaf split points to NA, so the 0s won't get plotted\n",
    "    mutate(`split point` = ifelse(is.na(prediction), `split point`, NA))\n",
    "\n",
    "  # prepare data frame for graph\n",
    "  graph_frame <- data.frame(from = rep(tree$rowname, 2),\n",
    "                            to = c(tree$`left daughter`, tree$`right daughter`))\n",
    "\n",
    "  # convert to graph and delete the last node that we don't want to plot\n",
    "  graph <- graph_from_data_frame(graph_frame) %>%\n",
    "    delete_vertices(\"0\")\n",
    "\n",
    "  # set node labels\n",
    "  V(graph)$node_label <- gsub(\"_\", \" \", as.character(tree$`split var`))\n",
    "  V(graph)$leaf_label <- as.character(tree$prediction)\n",
    "  V(graph)$split <- as.character(round(tree$`split point`, digits = 2))\n",
    "\n",
    "  # plot\n",
    "  plot <- ggraph(graph, 'dendrogram') +\n",
    "    theme_bw() +\n",
    "    geom_edge_link() +\n",
    "    geom_node_point() +\n",
    "    geom_node_text(aes(label = node_label), na.rm = TRUE, repel = TRUE) +\n",
    "    geom_node_label(aes(label = split), vjust = 2.5, na.rm = TRUE, fill = \"white\") +\n",
    "    geom_node_label(aes(label = leaf_label, fill = leaf_label), na.rm = TRUE,\n",
    "                    repel = TRUE, colour = \"white\", fontface = \"bold\", show.legend = FALSE) +\n",
    "    theme(panel.grid.minor = element_blank(),\n",
    "          panel.grid.major = element_blank(),\n",
    "          panel.background = element_blank(),\n",
    "          plot.background = element_rect(fill = \"white\"),\n",
    "          panel.border = element_blank(),\n",
    "          axis.line = element_blank(),\n",
    "          axis.text.x = element_blank(),\n",
    "          axis.text.y = element_blank(),\n",
    "          axis.ticks = element_blank(),\n",
    "          axis.title.x = element_blank(),\n",
    "          axis.title.y = element_blank(),\n",
    "          plot.title = element_text(size = 18))\n",
    "\n",
    "  print(plot)\n",
    "}\n",
    "\n",
    "## plot the tree with the smaller number of nodes\n",
    "tree_num <- which(rfmodelfit$finalModel$forest$ndbigtree == min(rfmodelfit$finalModel$forest$ndbigtree))\n",
    "tree_func(final_model = rfmodelfit$finalModel, tree_num)\n",
    "\n",
    "## plot the tree with the biggest number of nodes\n",
    "tree_num <- which(rfmodelfit$finalModel$forest$ndbigtree == max(rfmodelfit$finalModel$forest$ndbigtree))\n",
    "tree_func(final_model = rfmodelfit$finalModel, tree_num)"
   ]
  },
  {
   "cell_type": "markdown",
   "id": "0b85e92e",
   "metadata": {},
   "source": [
    "### CFOREST MODEL "
   ]
  },
  {
   "cell_type": "code",
   "execution_count": 13,
   "id": "c092338b",
   "metadata": {},
   "outputs": [
    {
     "data": {
      "text/plain": [
       "Conditional Inference Random Forest \n",
       "\n",
       "389 samples\n",
       "221 predictors\n",
       "  2 classes: 'Death', 'Survive' \n",
       "\n",
       "No pre-processing\n",
       "Resampling: Cross-Validated (5 fold, repeated 5 times) \n",
       "Summary of sample sizes: 312, 312, 310, 310, 312, 311, ... \n",
       "Resampling results across tuning parameters:\n",
       "\n",
       "  mtry  ROC        Sens        Spec     \n",
       "    1   0.8770156  0.00000000  1.0000000\n",
       "    3   0.8795253  0.00000000  1.0000000\n",
       "    8   0.8789742  0.00000000  1.0000000\n",
       "   30   0.8654781  0.03619048  1.0000000\n",
       "   39   0.8678883  0.07428571  1.0000000\n",
       "   52   0.8595922  0.11238095  1.0000000\n",
       "   63   0.8558751  0.12571429  1.0000000\n",
       "  113   0.8475628  0.20761905  0.9949844\n",
       "  154   0.8429183  0.23904762  0.9910642\n",
       "  219   0.8378085  0.26380952  0.9860172\n",
       "\n",
       "ROC was used to select the optimal model using the largest value.\n",
       "The final value used for the model was mtry = 3."
      ]
     },
     "metadata": {},
     "output_type": "display_data"
    },
    {
     "data": {
      "text/plain": [
       "Confusion Matrix and Statistics\n",
       "\n",
       "          Reference\n",
       "Prediction Death Survive\n",
       "   Death       0       0\n",
       "   Survive    32     357\n",
       "                                          \n",
       "               Accuracy : 0.9177          \n",
       "                 95% CI : (0.8859, 0.9431)\n",
       "    No Information Rate : 0.9177          \n",
       "    P-Value [Acc > NIR] : 0.5469          \n",
       "                                          \n",
       "                  Kappa : 0               \n",
       "                                          \n",
       " Mcnemar's Test P-Value : 4.251e-08       \n",
       "                                          \n",
       "            Sensitivity : 0.00000         \n",
       "            Specificity : 1.00000         \n",
       "         Pos Pred Value :     NaN         \n",
       "         Neg Pred Value : 0.91774         \n",
       "             Prevalence : 0.08226         \n",
       "         Detection Rate : 0.00000         \n",
       "   Detection Prevalence : 0.00000         \n",
       "      Balanced Accuracy : 0.50000         \n",
       "                                          \n",
       "       'Positive' Class : Death           \n",
       "                                          "
      ]
     },
     "metadata": {},
     "output_type": "display_data"
    },
    {
     "data": {
      "text/plain": [
       "Confusion Matrix and Statistics\n",
       "\n",
       "          Reference\n",
       "Prediction Death Survive\n",
       "   Death       0       0\n",
       "   Survive    13     153\n",
       "                                          \n",
       "               Accuracy : 0.9217          \n",
       "                 95% CI : (0.8698, 0.9576)\n",
       "    No Information Rate : 0.9217          \n",
       "    P-Value [Acc > NIR] : 0.5731055       \n",
       "                                          \n",
       "                  Kappa : 0               \n",
       "                                          \n",
       " Mcnemar's Test P-Value : 0.0008741       \n",
       "                                          \n",
       "            Sensitivity : 0.00000         \n",
       "            Specificity : 1.00000         \n",
       "         Pos Pred Value :     NaN         \n",
       "         Neg Pred Value : 0.92169         \n",
       "             Prevalence : 0.07831         \n",
       "         Detection Rate : 0.00000         \n",
       "   Detection Prevalence : 0.00000         \n",
       "      Balanced Accuracy : 0.50000         \n",
       "                                          \n",
       "       'Positive' Class : Death           \n",
       "                                          "
      ]
     },
     "metadata": {},
     "output_type": "display_data"
    },
    {
     "name": "stderr",
     "output_type": "stream",
     "text": [
      "Setting direction: controls < cases\n",
      "\n",
      "Setting direction: controls < cases\n",
      "\n"
     ]
    },
    {
     "data": {
      "text/plain": [
       "\n",
       "Call:\n",
       "roc.default(response = training$death_binary, predictor = train_results[,     \"Death\"], levels = c(\"Survive\", \"Death\"))\n",
       "\n",
       "Data: train_results[, \"Death\"] in 357 controls (training$death_binary Survive) < 32 cases (training$death_binary Death).\n",
       "Area under the curve: 0.9767"
      ]
     },
     "metadata": {},
     "output_type": "display_data"
    },
    {
     "data": {
      "text/html": [
       "<style>\n",
       ".list-inline {list-style: none; margin:0; padding: 0}\n",
       ".list-inline>li {display: inline-block}\n",
       ".list-inline>li:not(:last-child)::after {content: \"\\00b7\"; padding: 0 .5ex}\n",
       "</style>\n",
       "<ol class=list-inline><li>0.961542647180728</li><li>0.97671568627451</li><li>0.991888725368292</li></ol>\n"
      ],
      "text/latex": [
       "\\begin{enumerate*}\n",
       "\\item 0.961542647180728\n",
       "\\item 0.97671568627451\n",
       "\\item 0.991888725368292\n",
       "\\end{enumerate*}\n"
      ],
      "text/markdown": [
       "1. 0.961542647180728\n",
       "2. 0.97671568627451\n",
       "3. 0.991888725368292\n",
       "\n",
       "\n"
      ],
      "text/plain": [
       "95% CI: 0.9615-0.9919 (DeLong)"
      ]
     },
     "metadata": {},
     "output_type": "display_data"
    },
    {
     "data": {
      "text/plain": [
       "\n",
       "Call:\n",
       "roc.default(response = testing$death_binary, predictor = test_results[,     \"Death\"], levels = c(\"Survive\", \"Death\"))\n",
       "\n",
       "Data: test_results[, \"Death\"] in 153 controls (testing$death_binary Survive) < 13 cases (testing$death_binary Death).\n",
       "Area under the curve: 0.8839"
      ]
     },
     "metadata": {},
     "output_type": "display_data"
    },
    {
     "data": {
      "text/html": [
       "<style>\n",
       ".list-inline {list-style: none; margin:0; padding: 0}\n",
       ".list-inline>li {display: inline-block}\n",
       ".list-inline>li:not(:last-child)::after {content: \"\\00b7\"; padding: 0 .5ex}\n",
       "</style>\n",
       "<ol class=list-inline><li>0.809901442485224</li><li>0.883861236802413</li><li>0.957821031119602</li></ol>\n"
      ],
      "text/latex": [
       "\\begin{enumerate*}\n",
       "\\item 0.809901442485224\n",
       "\\item 0.883861236802413\n",
       "\\item 0.957821031119602\n",
       "\\end{enumerate*}\n"
      ],
      "text/markdown": [
       "1. 0.809901442485224\n",
       "2. 0.883861236802413\n",
       "3. 0.957821031119602\n",
       "\n",
       "\n"
      ],
      "text/plain": [
       "95% CI: 0.8099-0.9578 (DeLong)"
      ]
     },
     "metadata": {},
     "output_type": "display_data"
    }
   ],
   "source": [
    "cforestmodelfit<-train(death_binary ~ .,\n",
    "                       data=training,\n",
    "                       method=\"cforest\",\n",
    "                       metric=\"ROC\",\n",
    "                       tuneLength=10,\n",
    "                       trControl=fitControl)\n",
    "\n",
    "cforestmodelfit\n",
    "\n",
    "predictions_train=predict(cforestmodelfit,newdata=training)\n",
    "predictions_test=predict(cforestmodelfit,newdata=testing)\n",
    "confusionMatrix(predict(cforestmodelfit,training),training$death_binary)\n",
    "confusionMatrix(predict(cforestmodelfit,testing),testing$death_binary)\n",
    "\n",
    "train_results=predict(cforestmodelfit,training,type=\"prob\")\n",
    "test_results=predict(cforestmodelfit,testing,type=\"prob\")\n",
    "train_results$obs=training$death_binary\n",
    "train_results$pred=predictions_train\n",
    "test_results$obs=testing$death_binary\n",
    "test_results$pred=predictions_test\n",
    "ROC_train<-roc(training$death_binary,train_results[,\"Death\"],levels=c(\"Survive\",\"Death\"))\n",
    "ROC_test<-roc(testing$death_binary,test_results[,\"Death\"],levels=c(\"Survive\",\"Death\"))\n",
    "ROC_train\n",
    "ci.auc(ROC_train)\n",
    "ROC_test\n",
    "ci.auc(ROC_test)"
   ]
  },
  {
   "cell_type": "markdown",
   "id": "04602d8c",
   "metadata": {},
   "source": [
    "### Plot ROC Curve for CFOREST MODEL"
   ]
  },
  {
   "cell_type": "code",
   "execution_count": 14,
   "id": "e30a6782",
   "metadata": {},
   "outputs": [
    {
     "data": {
      "image/png": "[encoded data removed]",
      "text/plain": [
       "plot without title"
      ]
     },
     "metadata": {
      "image/png": {
       "height": 420,
       "width": 420
      }
     },
     "output_type": "display_data"
    }
   ],
   "source": [
    "plot(ROC_train)\n",
    "plot(ROC_test,add=TRUE,col=\"red\")"
   ]
  },
  {
   "cell_type": "markdown",
   "id": "52424c84",
   "metadata": {},
   "source": [
    "### RANGER MODEL"
   ]
  },
  {
   "cell_type": "code",
   "execution_count": 15,
   "id": "bc5e6076",
   "metadata": {},
   "outputs": [
    {
     "data": {
      "text/plain": [
       "Random Forest \n",
       "\n",
       "389 samples\n",
       "221 predictors\n",
       "  2 classes: 'Death', 'Survive' \n",
       "\n",
       "No pre-processing\n",
       "Resampling: Cross-Validated (5 fold, repeated 5 times) \n",
       "Summary of sample sizes: 312, 310, 312, 312, 310, 311, ... \n",
       "Resampling results across tuning parameters:\n",
       "\n",
       "  min.node.size  mtry  splitrule   ROC        Sens        Spec     \n",
       "   4             168   gini        0.8034147  0.24095238  0.9860016\n",
       "   5             217   extratrees  0.8310496  0.20476190  0.9955321\n",
       "   6              19   extratrees  0.8704007  0.10285714  1.0000000\n",
       "   7             125   extratrees  0.8436277  0.20476190  0.9966510\n",
       "   8              25   gini        0.8430464  0.16190476  0.9988732\n",
       "  10              27   extratrees  0.8613393  0.10952381  1.0000000\n",
       "  12             118   gini        0.8051597  0.22952381  0.9915884\n",
       "  15              74   extratrees  0.8468153  0.16095238  0.9977621\n",
       "  16             117   gini        0.8048400  0.24095238  0.9899218\n",
       "  20              24   extratrees  0.8661022  0.07904762  1.0000000\n",
       "\n",
       "ROC was used to select the optimal model using the largest value.\n",
       "The final values used for the model were mtry = 19, splitrule = extratrees\n",
       " and min.node.size = 6."
      ]
     },
     "metadata": {},
     "output_type": "display_data"
    },
    {
     "data": {
      "text/plain": [
       "Confusion Matrix and Statistics\n",
       "\n",
       "          Reference\n",
       "Prediction Death Survive\n",
       "   Death      26       0\n",
       "   Survive     6     357\n",
       "                                          \n",
       "               Accuracy : 0.9846          \n",
       "                 95% CI : (0.9667, 0.9943)\n",
       "    No Information Rate : 0.9177          \n",
       "    P-Value [Acc > NIR] : 9.081e-09       \n",
       "                                          \n",
       "                  Kappa : 0.8883          \n",
       "                                          \n",
       " Mcnemar's Test P-Value : 0.04123         \n",
       "                                          \n",
       "            Sensitivity : 0.81250         \n",
       "            Specificity : 1.00000         \n",
       "         Pos Pred Value : 1.00000         \n",
       "         Neg Pred Value : 0.98347         \n",
       "             Prevalence : 0.08226         \n",
       "         Detection Rate : 0.06684         \n",
       "   Detection Prevalence : 0.06684         \n",
       "      Balanced Accuracy : 0.90625         \n",
       "                                          \n",
       "       'Positive' Class : Death           \n",
       "                                          "
      ]
     },
     "metadata": {},
     "output_type": "display_data"
    },
    {
     "data": {
      "text/plain": [
       "Confusion Matrix and Statistics\n",
       "\n",
       "          Reference\n",
       "Prediction Death Survive\n",
       "   Death       2       0\n",
       "   Survive    11     153\n",
       "                                          \n",
       "               Accuracy : 0.9337          \n",
       "                 95% CI : (0.8845, 0.9665)\n",
       "    No Information Rate : 0.9217          \n",
       "    P-Value [Acc > NIR] : 0.344828        \n",
       "                                          \n",
       "                  Kappa : 0.251           \n",
       "                                          \n",
       " Mcnemar's Test P-Value : 0.002569        \n",
       "                                          \n",
       "            Sensitivity : 0.15385         \n",
       "            Specificity : 1.00000         \n",
       "         Pos Pred Value : 1.00000         \n",
       "         Neg Pred Value : 0.93293         \n",
       "             Prevalence : 0.07831         \n",
       "         Detection Rate : 0.01205         \n",
       "   Detection Prevalence : 0.01205         \n",
       "      Balanced Accuracy : 0.57692         \n",
       "                                          \n",
       "       'Positive' Class : Death           \n",
       "                                          "
      ]
     },
     "metadata": {},
     "output_type": "display_data"
    },
    {
     "name": "stderr",
     "output_type": "stream",
     "text": [
      "Setting direction: controls < cases\n",
      "\n",
      "Setting direction: controls < cases\n",
      "\n"
     ]
    },
    {
     "data": {
      "text/plain": [
       "\n",
       "Call:\n",
       "roc.default(response = training$death, predictor = train_results[,     \"Death\"], levels = c(\"Survive\", \"Death\"))\n",
       "\n",
       "Data: train_results[, \"Death\"] in 357 controls (training$death Survive) < 32 cases (training$death Death).\n",
       "Area under the curve: 1"
      ]
     },
     "metadata": {},
     "output_type": "display_data"
    },
    {
     "name": "stderr",
     "output_type": "stream",
     "text": [
      "Warning message in ci.auc.roc(ROC_train):\n",
      "\"ci.auc() of a ROC curve with AUC == 1 is always 1-1 and can be misleading.\"\n"
     ]
    },
    {
     "data": {
      "text/html": [
       "<style>\n",
       ".list-inline {list-style: none; margin:0; padding: 0}\n",
       ".list-inline>li {display: inline-block}\n",
       ".list-inline>li:not(:last-child)::after {content: \"\\00b7\"; padding: 0 .5ex}\n",
       "</style>\n",
       "<ol class=list-inline><li>1</li><li>1</li><li>1</li></ol>\n"
      ],
      "text/latex": [
       "\\begin{enumerate*}\n",
       "\\item 1\n",
       "\\item 1\n",
       "\\item 1\n",
       "\\end{enumerate*}\n"
      ],
      "text/markdown": [
       "1. 1\n",
       "2. 1\n",
       "3. 1\n",
       "\n",
       "\n"
      ],
      "text/plain": [
       "95% CI: 1-1 (DeLong)"
      ]
     },
     "metadata": {},
     "output_type": "display_data"
    },
    {
     "data": {
      "text/plain": [
       "\n",
       "Call:\n",
       "roc.default(response = testing$death, predictor = test_results[,     \"Death\"], levels = c(\"Survive\", \"Death\"))\n",
       "\n",
       "Data: test_results[, \"Death\"] in 153 controls (testing$death Survive) < 13 cases (testing$death Death).\n",
       "Area under the curve: 0.8984"
      ]
     },
     "metadata": {},
     "output_type": "display_data"
    },
    {
     "data": {
      "text/html": [
       "<style>\n",
       ".list-inline {list-style: none; margin:0; padding: 0}\n",
       ".list-inline>li {display: inline-block}\n",
       ".list-inline>li:not(:last-child)::after {content: \"\\00b7\"; padding: 0 .5ex}\n",
       "</style>\n",
       "<ol class=list-inline><li>0.828768689835974</li><li>0.898441427853192</li><li>0.968114165870411</li></ol>\n"
      ],
      "text/latex": [
       "\\begin{enumerate*}\n",
       "\\item 0.828768689835974\n",
       "\\item 0.898441427853192\n",
       "\\item 0.968114165870411\n",
       "\\end{enumerate*}\n"
      ],
      "text/markdown": [
       "1. 0.828768689835974\n",
       "2. 0.898441427853192\n",
       "3. 0.968114165870411\n",
       "\n",
       "\n"
      ],
      "text/plain": [
       "95% CI: 0.8288-0.9681 (DeLong)"
      ]
     },
     "metadata": {},
     "output_type": "display_data"
    }
   ],
   "source": [
    "rangermodelfit<-train(death_binary ~ .,\n",
    "                      data=training,\n",
    "                      method=\"ranger\",\n",
    "                      metric=\"ROC\",\n",
    "                      tuneLength=10,\n",
    "                      trControl=fitControl)\n",
    "\n",
    "rangermodelfit\n",
    "\n",
    "predictions_train=predict(rangermodelfit,newdata=training)\n",
    "predictions_test=predict(rangermodelfit,newdata=testing)\n",
    "confusionMatrix(predict(rangermodelfit,training),training$death)\n",
    "confusionMatrix(predict(rangermodelfit,testing),testing$death)\n",
    "\n",
    "train_results=predict(rangermodelfit,training,type=\"prob\")\n",
    "test_results=predict(rangermodelfit,testing,type=\"prob\")\n",
    "train_results$obs=training$death\n",
    "train_results$pred=predictions_train\n",
    "test_results$obs=testing$death\n",
    "test_results$pred=predictions_test\n",
    "ROC_train<-roc(training$death,train_results[,\"Death\"],levels=c(\"Survive\",\"Death\"))\n",
    "ROC_test<-roc(testing$death,test_results[,\"Death\"],levels=c(\"Survive\",\"Death\"))\n",
    "ROC_train\n",
    "ci.auc(ROC_train)\n",
    "ROC_test\n",
    "ci.auc(ROC_test)"
   ]
  },
  {
   "cell_type": "markdown",
   "id": "44be3212",
   "metadata": {},
   "source": [
    "### Plot ROC Curve for RANGER MODEL"
   ]
  },
  {
   "cell_type": "code",
   "execution_count": 16,
   "id": "49c65c84",
   "metadata": {},
   "outputs": [
    {
     "data": {
      "image/png": "[encoded data removed]",
      "text/plain": [
       "plot without title"
      ]
     },
     "metadata": {
      "image/png": {
       "height": 420,
       "width": 420
      }
     },
     "output_type": "display_data"
    }
   ],
   "source": [
    "plot(ROC_train)\n",
    "plot(ROC_test,add=TRUE,col=\"red\")"
   ]
  },
  {
   "cell_type": "markdown",
   "id": "fdaab3df",
   "metadata": {},
   "source": [
    "### Neural network MODEL"
   ]
  },
  {
   "cell_type": "code",
   "execution_count": 17,
   "id": "5d7b5c60",
   "metadata": {},
   "outputs": [
    {
     "name": "stderr",
     "output_type": "stream",
     "text": [
      "Warning message:\n",
      "\"model fit failed for Fold1.Rep1: size=20, decay=4.861e-02 Error in nnet.default(x, y, w, entropy = TRUE, ...) : \n",
      "  too many (4461) weights\n",
      "\"\n"
     ]
    },
    {
     "name": "stdout",
     "output_type": "stream",
     "text": [
      "# weights:  224\n",
      "initial  value 150.499733 \n",
      "iter  10 value 61.109896\n",
      "iter  20 value 40.619613\n",
      "iter  30 value 21.871738\n",
      "iter  40 value 15.020585\n",
      "iter  50 value 13.641551\n",
      "iter  60 value 11.457026\n",
      "iter  70 value 8.665217\n",
      "iter  80 value 8.493102\n",
      "iter  90 value 8.477346\n",
      "iter 100 value 8.476591\n",
      "final  value 8.476591 \n",
      "stopped after 100 iterations\n"
     ]
    },
    {
     "name": "stderr",
     "output_type": "stream",
     "text": [
      "Warning message:\n",
      "\"model fit failed for Fold1.Rep1: size=12, decay=7.820e-01 Error in nnet.default(x, y, w, entropy = TRUE, ...) : \n",
      "  too many (2677) weights\n",
      "\"\n",
      "Warning message:\n",
      "\"model fit failed for Fold1.Rep1: size=10, decay=1.276e-01 Error in nnet.default(x, y, w, entropy = TRUE, ...) : \n",
      "  too many (2231) weights\n",
      "\"\n"
     ]
    },
    {
     "name": "stdout",
     "output_type": "stream",
     "text": [
      "# weights:  670\n",
      "initial  value 354.588258 \n",
      "iter  10 value 89.774074\n",
      "iter  20 value 59.516015\n",
      "iter  30 value 39.470636\n",
      "iter  40 value 25.921624\n",
      "iter  50 value 14.888124\n",
      "iter  60 value 9.296908\n",
      "iter  70 value 5.219036\n",
      "iter  80 value 4.043604\n",
      "iter  90 value 3.619284\n",
      "iter 100 value 3.402738\n",
      "final  value 3.402738 \n",
      "stopped after 100 iterations\n"
     ]
    },
    {
     "name": "stderr",
     "output_type": "stream",
     "text": [
      "Warning message:\n",
      "\"model fit failed for Fold1.Rep1: size= 8, decay=1.706e+00 Error in nnet.default(x, y, w, entropy = TRUE, ...) : \n",
      "  too many (1785) weights\n",
      "\"\n",
      "Warning message:\n",
      "\"model fit failed for Fold1.Rep1: size=18, decay=8.957e-02 Error in nnet.default(x, y, w, entropy = TRUE, ...) : \n",
      "  too many (4015) weights\n",
      "\"\n",
      "Warning message:\n",
      "\"model fit failed for Fold1.Rep1: size=11, decay=7.090e+00 Error in nnet.default(x, y, w, entropy = TRUE, ...) : \n",
      "  too many (2454) weights\n",
      "\"\n",
      "Warning message:\n",
      "\"model fit failed for Fold1.Rep1: size=14, decay=1.258e-05 Error in nnet.default(x, y, w, entropy = TRUE, ...) : \n",
      "  too many (3123) weights\n",
      "\"\n",
      "Warning message:\n",
      "\"model fit failed for Fold1.Rep1: size=10, decay=8.728e-04 Error in nnet.default(x, y, w, entropy = TRUE, ...) : \n",
      "  too many (2231) weights\n",
      "\"\n",
      "Warning message:\n",
      "\"model fit failed for Fold2.Rep1: size=20, decay=4.861e-02 Error in nnet.default(x, y, w, entropy = TRUE, ...) : \n",
      "  too many (4461) weights\n",
      "\"\n"
     ]
    },
    {
     "name": "stdout",
     "output_type": "stream",
     "text": [
      "# weights:  224\n",
      "initial  value 138.137883 \n",
      "iter  10 value 70.530757\n",
      "iter  20 value 62.039695\n",
      "iter  30 value 54.553333\n",
      "iter  40 value 33.107815\n",
      "iter  50 value 27.506744\n",
      "iter  60 value 26.592388\n",
      "iter  70 value 21.001539\n",
      "iter  80 value 14.621762\n",
      "iter  90 value 10.307837\n",
      "iter 100 value 8.734782\n",
      "final  value 8.734782 \n",
      "stopped after 100 iterations\n"
     ]
    },
    {
     "name": "stderr",
     "output_type": "stream",
     "text": [
      "Warning message:\n",
      "\"model fit failed for Fold2.Rep1: size=12, decay=7.820e-01 Error in nnet.default(x, y, w, entropy = TRUE, ...) : \n",
      "  too many (2677) weights\n",
      "\"\n",
      "Warning message:\n",
      "\"model fit failed for Fold2.Rep1: size=10, decay=1.276e-01 Error in nnet.default(x, y, w, entropy = TRUE, ...) : \n",
      "  too many (2231) weights\n",
      "\"\n"
     ]
    },
    {
     "name": "stdout",
     "output_type": "stream",
     "text": [
      "# weights:  670\n",
      "initial  value 216.253060 \n",
      "iter  10 value 40.495636\n",
      "iter  20 value 25.941882\n",
      "iter  30 value 12.929490\n",
      "iter  40 value 7.455707\n",
      "iter  50 value 5.367956\n",
      "iter  60 value 4.475878\n",
      "iter  70 value 4.077357\n",
      "iter  80 value 3.575266\n",
      "iter  90 value 3.187366\n",
      "iter 100 value 3.037266\n",
      "final  value 3.037266 \n",
      "stopped after 100 iterations\n"
     ]
    },
    {
     "name": "stderr",
     "output_type": "stream",
     "text": [
      "Warning message:\n",
      "\"model fit failed for Fold2.Rep1: size= 8, decay=1.706e+00 Error in nnet.default(x, y, w, entropy = TRUE, ...) : \n",
      "  too many (1785) weights\n",
      "\"\n",
      "Warning message:\n",
      "\"model fit failed for Fold2.Rep1: size=18, decay=8.957e-02 Error in nnet.default(x, y, w, entropy = TRUE, ...) : \n",
      "  too many (4015) weights\n",
      "\"\n",
      "Warning message:\n",
      "\"model fit failed for Fold2.Rep1: size=11, decay=7.090e+00 Error in nnet.default(x, y, w, entropy = TRUE, ...) : \n",
      "  too many (2454) weights\n",
      "\"\n",
      "Warning message:\n",
      "\"model fit failed for Fold2.Rep1: size=14, decay=1.258e-05 Error in nnet.default(x, y, w, entropy = TRUE, ...) : \n",
      "  too many (3123) weights\n",
      "\"\n",
      "Warning message:\n",
      "\"model fit failed for Fold2.Rep1: size=10, decay=8.728e-04 Error in nnet.default(x, y, w, entropy = TRUE, ...) : \n",
      "  too many (2231) weights\n",
      "\"\n",
      "Warning message:\n",
      "\"model fit failed for Fold3.Rep1: size=20, decay=4.861e-02 Error in nnet.default(x, y, w, entropy = TRUE, ...) : \n",
      "  too many (4461) weights\n",
      "\"\n"
     ]
    },
    {
     "name": "stdout",
     "output_type": "stream",
     "text": [
      "# weights:  224\n",
      "initial  value 188.231326 \n",
      "iter  10 value 91.390969\n",
      "iter  20 value 52.221422\n",
      "iter  30 value 35.964679\n",
      "iter  40 value 28.084324\n",
      "iter  50 value 19.880988\n",
      "iter  60 value 15.678283\n",
      "iter  70 value 13.962469\n",
      "iter  80 value 12.687074\n",
      "iter  90 value 12.557473\n",
      "iter 100 value 12.556158\n",
      "final  value 12.556158 \n",
      "stopped after 100 iterations\n"
     ]
    },
    {
     "name": "stderr",
     "output_type": "stream",
     "text": [
      "Warning message:\n",
      "\"model fit failed for Fold3.Rep1: size=12, decay=7.820e-01 Error in nnet.default(x, y, w, entropy = TRUE, ...) : \n",
      "  too many (2677) weights\n",
      "\"\n",
      "Warning message:\n",
      "\"model fit failed for Fold3.Rep1: size=10, decay=1.276e-01 Error in nnet.default(x, y, w, entropy = TRUE, ...) : \n",
      "  too many (2231) weights\n",
      "\"\n"
     ]
    },
    {
     "name": "stdout",
     "output_type": "stream",
     "text": [
      "# weights:  670\n",
      "initial  value 392.618230 \n",
      "iter  10 value 81.260528\n",
      "iter  20 value 67.011657\n",
      "iter  30 value 54.645667\n",
      "iter  40 value 43.677278\n",
      "iter  50 value 35.628070\n",
      "iter  60 value 13.565510\n",
      "iter  70 value 8.280001\n",
      "iter  80 value 5.784735\n",
      "iter  90 value 4.185592\n",
      "iter 100 value 3.966453\n",
      "final  value 3.966453 \n",
      "stopped after 100 iterations\n"
     ]
    },
    {
     "name": "stderr",
     "output_type": "stream",
     "text": [
      "Warning message:\n",
      "\"model fit failed for Fold3.Rep1: size= 8, decay=1.706e+00 Error in nnet.default(x, y, w, entropy = TRUE, ...) : \n",
      "  too many (1785) weights\n",
      "\"\n",
      "Warning message:\n",
      "\"model fit failed for Fold3.Rep1: size=18, decay=8.957e-02 Error in nnet.default(x, y, w, entropy = TRUE, ...) : \n",
      "  too many (4015) weights\n",
      "\"\n",
      "Warning message:\n",
      "\"model fit failed for Fold3.Rep1: size=11, decay=7.090e+00 Error in nnet.default(x, y, w, entropy = TRUE, ...) : \n",
      "  too many (2454) weights\n",
      "\"\n",
      "Warning message:\n",
      "\"model fit failed for Fold3.Rep1: size=14, decay=1.258e-05 Error in nnet.default(x, y, w, entropy = TRUE, ...) : \n",
      "  too many (3123) weights\n",
      "\"\n",
      "Warning message:\n",
      "\"model fit failed for Fold3.Rep1: size=10, decay=8.728e-04 Error in nnet.default(x, y, w, entropy = TRUE, ...) : \n",
      "  too many (2231) weights\n",
      "\"\n",
      "Warning message:\n",
      "\"model fit failed for Fold4.Rep1: size=20, decay=4.861e-02 Error in nnet.default(x, y, w, entropy = TRUE, ...) : \n",
      "  too many (4461) weights\n",
      "\"\n"
     ]
    },
    {
     "name": "stdout",
     "output_type": "stream",
     "text": [
      "# weights:  224\n",
      "initial  value 178.767372 \n",
      "iter  10 value 87.261248\n",
      "iter  20 value 55.851999\n",
      "iter  30 value 32.189847\n",
      "iter  40 value 22.615202\n",
      "iter  50 value 18.686356\n",
      "iter  60 value 12.306010\n",
      "iter  70 value 9.190191\n",
      "iter  80 value 8.505023\n",
      "iter  90 value 8.485325\n",
      "iter 100 value 8.484586\n",
      "final  value 8.484586 \n",
      "stopped after 100 iterations\n"
     ]
    },
    {
     "name": "stderr",
     "output_type": "stream",
     "text": [
      "Warning message:\n",
      "\"model fit failed for Fold4.Rep1: size=12, decay=7.820e-01 Error in nnet.default(x, y, w, entropy = TRUE, ...) : \n",
      "  too many (2677) weights\n",
      "\"\n",
      "Warning message:\n",
      "\"model fit failed for Fold4.Rep1: size=10, decay=1.276e-01 Error in nnet.default(x, y, w, entropy = TRUE, ...) : \n",
      "  too many (2231) weights\n",
      "\"\n"
     ]
    },
    {
     "name": "stdout",
     "output_type": "stream",
     "text": [
      "# weights:  670\n",
      "initial  value 107.412790 \n",
      "iter  10 value 61.651758\n",
      "iter  20 value 40.872734\n",
      "iter  30 value 28.200982\n",
      "iter  40 value 22.152630\n",
      "iter  50 value 18.525650\n",
      "iter  60 value 13.612997\n",
      "iter  70 value 9.012064\n",
      "iter  80 value 5.626660\n",
      "iter  90 value 4.373712\n",
      "iter 100 value 3.654017\n",
      "final  value 3.654017 \n",
      "stopped after 100 iterations\n"
     ]
    },
    {
     "name": "stderr",
     "output_type": "stream",
     "text": [
      "Warning message:\n",
      "\"model fit failed for Fold4.Rep1: size= 8, decay=1.706e+00 Error in nnet.default(x, y, w, entropy = TRUE, ...) : \n",
      "  too many (1785) weights\n",
      "\"\n",
      "Warning message:\n",
      "\"model fit failed for Fold4.Rep1: size=18, decay=8.957e-02 Error in nnet.default(x, y, w, entropy = TRUE, ...) : \n",
      "  too many (4015) weights\n",
      "\"\n",
      "Warning message:\n",
      "\"model fit failed for Fold4.Rep1: size=11, decay=7.090e+00 Error in nnet.default(x, y, w, entropy = TRUE, ...) : \n",
      "  too many (2454) weights\n",
      "\"\n",
      "Warning message:\n",
      "\"model fit failed for Fold4.Rep1: size=14, decay=1.258e-05 Error in nnet.default(x, y, w, entropy = TRUE, ...) : \n",
      "  too many (3123) weights\n",
      "\"\n",
      "Warning message:\n",
      "\"model fit failed for Fold4.Rep1: size=10, decay=8.728e-04 Error in nnet.default(x, y, w, entropy = TRUE, ...) : \n",
      "  too many (2231) weights\n",
      "\"\n",
      "Warning message:\n",
      "\"model fit failed for Fold5.Rep1: size=20, decay=4.861e-02 Error in nnet.default(x, y, w, entropy = TRUE, ...) : \n",
      "  too many (4461) weights\n",
      "\"\n"
     ]
    },
    {
     "name": "stdout",
     "output_type": "stream",
     "text": [
      "# weights:  224\n",
      "initial  value 228.122653 \n",
      "iter  10 value 86.172221\n",
      "iter  20 value 62.343116\n",
      "iter  30 value 56.062298\n",
      "iter  40 value 50.178607\n",
      "iter  50 value 41.810107\n",
      "iter  60 value 36.382506\n",
      "iter  70 value 32.487760\n",
      "iter  80 value 27.612247\n",
      "iter  90 value 26.992808\n",
      "iter 100 value 21.682431\n",
      "final  value 21.682431 \n",
      "stopped after 100 iterations\n"
     ]
    },
    {
     "name": "stderr",
     "output_type": "stream",
     "text": [
      "Warning message:\n",
      "\"model fit failed for Fold5.Rep1: size=12, decay=7.820e-01 Error in nnet.default(x, y, w, entropy = TRUE, ...) : \n",
      "  too many (2677) weights\n",
      "\"\n",
      "Warning message:\n",
      "\"model fit failed for Fold5.Rep1: size=10, decay=1.276e-01 Error in nnet.default(x, y, w, entropy = TRUE, ...) : \n",
      "  too many (2231) weights\n",
      "\"\n"
     ]
    },
    {
     "name": "stdout",
     "output_type": "stream",
     "text": [
      "# weights:  670\n",
      "initial  value 220.326886 \n",
      "iter  10 value 91.347079\n",
      "iter  20 value 69.467447\n",
      "iter  30 value 57.976613\n",
      "iter  40 value 48.756069\n",
      "iter  50 value 30.449140\n",
      "iter  60 value 20.245393\n",
      "iter  70 value 12.143457\n",
      "iter  80 value 9.004038\n",
      "iter  90 value 6.181453\n",
      "iter 100 value 4.923297\n",
      "final  value 4.923297 \n",
      "stopped after 100 iterations\n"
     ]
    },
    {
     "name": "stderr",
     "output_type": "stream",
     "text": [
      "Warning message:\n",
      "\"model fit failed for Fold5.Rep1: size= 8, decay=1.706e+00 Error in nnet.default(x, y, w, entropy = TRUE, ...) : \n",
      "  too many (1785) weights\n",
      "\"\n",
      "Warning message:\n",
      "\"model fit failed for Fold5.Rep1: size=18, decay=8.957e-02 Error in nnet.default(x, y, w, entropy = TRUE, ...) : \n",
      "  too many (4015) weights\n",
      "\"\n",
      "Warning message:\n",
      "\"model fit failed for Fold5.Rep1: size=11, decay=7.090e+00 Error in nnet.default(x, y, w, entropy = TRUE, ...) : \n",
      "  too many (2454) weights\n",
      "\"\n",
      "Warning message:\n",
      "\"model fit failed for Fold5.Rep1: size=14, decay=1.258e-05 Error in nnet.default(x, y, w, entropy = TRUE, ...) : \n",
      "  too many (3123) weights\n",
      "\"\n",
      "Warning message:\n",
      "\"model fit failed for Fold5.Rep1: size=10, decay=8.728e-04 Error in nnet.default(x, y, w, entropy = TRUE, ...) : \n",
      "  too many (2231) weights\n",
      "\"\n",
      "Warning message:\n",
      "\"model fit failed for Fold1.Rep2: size=20, decay=4.861e-02 Error in nnet.default(x, y, w, entropy = TRUE, ...) : \n",
      "  too many (4461) weights\n",
      "\"\n"
     ]
    },
    {
     "name": "stdout",
     "output_type": "stream",
     "text": [
      "# weights:  224\n",
      "initial  value 167.302221 \n",
      "iter  10 value 66.439463\n",
      "iter  20 value 45.309649\n",
      "iter  30 value 24.874318\n",
      "iter  40 value 18.798745\n",
      "iter  50 value 15.507669\n",
      "iter  60 value 10.252516\n",
      "iter  70 value 8.355822\n",
      "iter  80 value 8.214659\n",
      "iter  90 value 8.210322\n",
      "final  value 8.210256 \n",
      "converged\n"
     ]
    },
    {
     "name": "stderr",
     "output_type": "stream",
     "text": [
      "Warning message:\n",
      "\"model fit failed for Fold1.Rep2: size=12, decay=7.820e-01 Error in nnet.default(x, y, w, entropy = TRUE, ...) : \n",
      "  too many (2677) weights\n",
      "\"\n",
      "Warning message:\n",
      "\"model fit failed for Fold1.Rep2: size=10, decay=1.276e-01 Error in nnet.default(x, y, w, entropy = TRUE, ...) : \n",
      "  too many (2231) weights\n",
      "\"\n"
     ]
    },
    {
     "name": "stdout",
     "output_type": "stream",
     "text": [
      "# weights:  670\n",
      "initial  value 157.329095 \n",
      "iter  10 value 54.968903\n",
      "iter  20 value 37.416511\n",
      "iter  30 value 26.452865\n",
      "iter  40 value 19.937704\n",
      "iter  50 value 15.169626\n",
      "iter  60 value 10.029660\n",
      "iter  70 value 7.796692\n",
      "iter  80 value 6.253677\n",
      "iter  90 value 5.029734\n",
      "iter 100 value 3.322401\n",
      "final  value 3.322401 \n",
      "stopped after 100 iterations\n"
     ]
    },
    {
     "name": "stderr",
     "output_type": "stream",
     "text": [
      "Warning message:\n",
      "\"model fit failed for Fold1.Rep2: size= 8, decay=1.706e+00 Error in nnet.default(x, y, w, entropy = TRUE, ...) : \n",
      "  too many (1785) weights\n",
      "\"\n",
      "Warning message:\n",
      "\"model fit failed for Fold1.Rep2: size=18, decay=8.957e-02 Error in nnet.default(x, y, w, entropy = TRUE, ...) : \n",
      "  too many (4015) weights\n",
      "\"\n",
      "Warning message:\n",
      "\"model fit failed for Fold1.Rep2: size=11, decay=7.090e+00 Error in nnet.default(x, y, w, entropy = TRUE, ...) : \n",
      "  too many (2454) weights\n",
      "\"\n",
      "Warning message:\n",
      "\"model fit failed for Fold1.Rep2: size=14, decay=1.258e-05 Error in nnet.default(x, y, w, entropy = TRUE, ...) : \n",
      "  too many (3123) weights\n",
      "\"\n",
      "Warning message:\n",
      "\"model fit failed for Fold1.Rep2: size=10, decay=8.728e-04 Error in nnet.default(x, y, w, entropy = TRUE, ...) : \n",
      "  too many (2231) weights\n",
      "\"\n",
      "Warning message:\n",
      "\"model fit failed for Fold2.Rep2: size=20, decay=4.861e-02 Error in nnet.default(x, y, w, entropy = TRUE, ...) : \n",
      "  too many (4461) weights\n",
      "\"\n"
     ]
    },
    {
     "name": "stdout",
     "output_type": "stream",
     "text": [
      "# weights:  224\n",
      "initial  value 195.035338 \n",
      "iter  10 value 87.315333\n",
      "iter  20 value 40.748515\n",
      "iter  30 value 29.500389\n",
      "iter  40 value 23.719280\n",
      "iter  50 value 19.086061\n",
      "iter  60 value 17.473265\n",
      "iter  70 value 12.285073\n",
      "iter  80 value 11.366996\n",
      "iter  90 value 11.325523\n",
      "iter 100 value 11.323606\n",
      "final  value 11.323606 \n",
      "stopped after 100 iterations\n"
     ]
    },
    {
     "name": "stderr",
     "output_type": "stream",
     "text": [
      "Warning message:\n",
      "\"model fit failed for Fold2.Rep2: size=12, decay=7.820e-01 Error in nnet.default(x, y, w, entropy = TRUE, ...) : \n",
      "  too many (2677) weights\n",
      "\"\n",
      "Warning message:\n",
      "\"model fit failed for Fold2.Rep2: size=10, decay=1.276e-01 Error in nnet.default(x, y, w, entropy = TRUE, ...) : \n",
      "  too many (2231) weights\n",
      "\"\n"
     ]
    },
    {
     "name": "stdout",
     "output_type": "stream",
     "text": [
      "# weights:  670\n",
      "initial  value 209.714499 \n",
      "iter  10 value 49.619773\n",
      "iter  20 value 29.361256\n",
      "iter  30 value 20.771976\n",
      "iter  40 value 13.125009\n",
      "iter  50 value 9.094948\n",
      "iter  60 value 6.473492\n",
      "iter  70 value 4.661593\n",
      "iter  80 value 3.800893\n",
      "iter  90 value 3.181649\n",
      "iter 100 value 2.925078\n",
      "final  value 2.925078 \n",
      "stopped after 100 iterations\n"
     ]
    },
    {
     "name": "stderr",
     "output_type": "stream",
     "text": [
      "Warning message:\n",
      "\"model fit failed for Fold2.Rep2: size= 8, decay=1.706e+00 Error in nnet.default(x, y, w, entropy = TRUE, ...) : \n",
      "  too many (1785) weights\n",
      "\"\n",
      "Warning message:\n",
      "\"model fit failed for Fold2.Rep2: size=18, decay=8.957e-02 Error in nnet.default(x, y, w, entropy = TRUE, ...) : \n",
      "  too many (4015) weights\n",
      "\"\n",
      "Warning message:\n",
      "\"model fit failed for Fold2.Rep2: size=11, decay=7.090e+00 Error in nnet.default(x, y, w, entropy = TRUE, ...) : \n",
      "  too many (2454) weights\n",
      "\"\n",
      "Warning message:\n",
      "\"model fit failed for Fold2.Rep2: size=14, decay=1.258e-05 Error in nnet.default(x, y, w, entropy = TRUE, ...) : \n",
      "  too many (3123) weights\n",
      "\"\n",
      "Warning message:\n",
      "\"model fit failed for Fold2.Rep2: size=10, decay=8.728e-04 Error in nnet.default(x, y, w, entropy = TRUE, ...) : \n",
      "  too many (2231) weights\n",
      "\"\n",
      "Warning message:\n",
      "\"model fit failed for Fold3.Rep2: size=20, decay=4.861e-02 Error in nnet.default(x, y, w, entropy = TRUE, ...) : \n",
      "  too many (4461) weights\n",
      "\"\n"
     ]
    },
    {
     "name": "stdout",
     "output_type": "stream",
     "text": [
      "# weights:  224\n",
      "initial  value 189.468392 \n",
      "iter  10 value 91.988560\n",
      "iter  20 value 60.710990\n",
      "iter  30 value 43.647989\n",
      "iter  40 value 33.441463\n",
      "iter  50 value 27.725942\n",
      "iter  60 value 23.635829\n",
      "iter  70 value 16.253760\n",
      "iter  80 value 10.108256\n",
      "iter  90 value 8.580611\n",
      "iter 100 value 8.520266\n",
      "final  value 8.520266 \n",
      "stopped after 100 iterations\n"
     ]
    },
    {
     "name": "stderr",
     "output_type": "stream",
     "text": [
      "Warning message:\n",
      "\"model fit failed for Fold3.Rep2: size=12, decay=7.820e-01 Error in nnet.default(x, y, w, entropy = TRUE, ...) : \n",
      "  too many (2677) weights\n",
      "\"\n",
      "Warning message:\n",
      "\"model fit failed for Fold3.Rep2: size=10, decay=1.276e-01 Error in nnet.default(x, y, w, entropy = TRUE, ...) : \n",
      "  too many (2231) weights\n",
      "\"\n"
     ]
    },
    {
     "name": "stdout",
     "output_type": "stream",
     "text": [
      "# weights:  670\n",
      "initial  value 265.975093 \n",
      "iter  10 value 92.731969\n",
      "iter  20 value 56.903898\n",
      "iter  30 value 30.468237\n",
      "iter  40 value 23.081306\n",
      "iter  50 value 17.849968\n",
      "iter  60 value 12.350207\n",
      "iter  70 value 8.209377\n",
      "iter  80 value 6.462675\n",
      "iter  90 value 4.572467\n",
      "iter 100 value 3.832654\n",
      "final  value 3.832654 \n",
      "stopped after 100 iterations\n"
     ]
    },
    {
     "name": "stderr",
     "output_type": "stream",
     "text": [
      "Warning message:\n",
      "\"model fit failed for Fold3.Rep2: size= 8, decay=1.706e+00 Error in nnet.default(x, y, w, entropy = TRUE, ...) : \n",
      "  too many (1785) weights\n",
      "\"\n",
      "Warning message:\n",
      "\"model fit failed for Fold3.Rep2: size=18, decay=8.957e-02 Error in nnet.default(x, y, w, entropy = TRUE, ...) : \n",
      "  too many (4015) weights\n",
      "\"\n",
      "Warning message:\n",
      "\"model fit failed for Fold3.Rep2: size=11, decay=7.090e+00 Error in nnet.default(x, y, w, entropy = TRUE, ...) : \n",
      "  too many (2454) weights\n",
      "\"\n",
      "Warning message:\n",
      "\"model fit failed for Fold3.Rep2: size=14, decay=1.258e-05 Error in nnet.default(x, y, w, entropy = TRUE, ...) : \n",
      "  too many (3123) weights\n",
      "\"\n",
      "Warning message:\n",
      "\"model fit failed for Fold3.Rep2: size=10, decay=8.728e-04 Error in nnet.default(x, y, w, entropy = TRUE, ...) : \n",
      "  too many (2231) weights\n",
      "\"\n",
      "Warning message:\n",
      "\"model fit failed for Fold4.Rep2: size=20, decay=4.861e-02 Error in nnet.default(x, y, w, entropy = TRUE, ...) : \n",
      "  too many (4461) weights\n",
      "\"\n"
     ]
    },
    {
     "name": "stdout",
     "output_type": "stream",
     "text": [
      "# weights:  224\n",
      "initial  value 253.012415 \n",
      "iter  10 value 87.290007\n",
      "iter  20 value 69.591274\n",
      "iter  30 value 64.068591\n",
      "iter  40 value 57.497445\n",
      "iter  50 value 51.075066\n",
      "iter  60 value 44.812985\n",
      "iter  70 value 40.606514\n",
      "iter  80 value 29.847608\n",
      "iter  90 value 23.548427\n",
      "iter 100 value 23.029993\n",
      "final  value 23.029993 \n",
      "stopped after 100 iterations\n"
     ]
    },
    {
     "name": "stderr",
     "output_type": "stream",
     "text": [
      "Warning message:\n",
      "\"model fit failed for Fold4.Rep2: size=12, decay=7.820e-01 Error in nnet.default(x, y, w, entropy = TRUE, ...) : \n",
      "  too many (2677) weights\n",
      "\"\n",
      "Warning message:\n",
      "\"model fit failed for Fold4.Rep2: size=10, decay=1.276e-01 Error in nnet.default(x, y, w, entropy = TRUE, ...) : \n",
      "  too many (2231) weights\n",
      "\"\n"
     ]
    },
    {
     "name": "stdout",
     "output_type": "stream",
     "text": [
      "# weights:  670\n",
      "initial  value 142.511950 \n",
      "iter  10 value 32.943974\n",
      "iter  20 value 20.305295\n",
      "iter  30 value 16.039694\n",
      "iter  40 value 10.813306\n",
      "iter  50 value 8.093215\n",
      "iter  60 value 5.144442\n",
      "iter  70 value 4.271232\n",
      "iter  80 value 3.529507\n",
      "iter  90 value 3.361630\n",
      "iter 100 value 3.333990\n",
      "final  value 3.333990 \n",
      "stopped after 100 iterations\n"
     ]
    },
    {
     "name": "stderr",
     "output_type": "stream",
     "text": [
      "Warning message:\n",
      "\"model fit failed for Fold4.Rep2: size= 8, decay=1.706e+00 Error in nnet.default(x, y, w, entropy = TRUE, ...) : \n",
      "  too many (1785) weights\n",
      "\"\n",
      "Warning message:\n",
      "\"model fit failed for Fold4.Rep2: size=18, decay=8.957e-02 Error in nnet.default(x, y, w, entropy = TRUE, ...) : \n",
      "  too many (4015) weights\n",
      "\"\n",
      "Warning message:\n",
      "\"model fit failed for Fold4.Rep2: size=11, decay=7.090e+00 Error in nnet.default(x, y, w, entropy = TRUE, ...) : \n",
      "  too many (2454) weights\n",
      "\"\n",
      "Warning message:\n",
      "\"model fit failed for Fold4.Rep2: size=14, decay=1.258e-05 Error in nnet.default(x, y, w, entropy = TRUE, ...) : \n",
      "  too many (3123) weights\n",
      "\"\n",
      "Warning message:\n",
      "\"model fit failed for Fold4.Rep2: size=10, decay=8.728e-04 Error in nnet.default(x, y, w, entropy = TRUE, ...) : \n",
      "  too many (2231) weights\n",
      "\"\n",
      "Warning message:\n",
      "\"model fit failed for Fold5.Rep2: size=20, decay=4.861e-02 Error in nnet.default(x, y, w, entropy = TRUE, ...) : \n",
      "  too many (4461) weights\n",
      "\"\n"
     ]
    },
    {
     "name": "stdout",
     "output_type": "stream",
     "text": [
      "# weights:  224\n",
      "initial  value 180.700566 \n",
      "iter  10 value 91.524073\n",
      "iter  20 value 52.606472\n",
      "iter  30 value 39.234161\n",
      "iter  40 value 21.212284\n",
      "iter  50 value 16.410687\n",
      "iter  60 value 11.488124\n",
      "iter  70 value 8.861074\n",
      "iter  80 value 8.666137\n",
      "iter  90 value 8.652720\n",
      "final  value 8.652678 \n",
      "converged\n"
     ]
    },
    {
     "name": "stderr",
     "output_type": "stream",
     "text": [
      "Warning message:\n",
      "\"model fit failed for Fold5.Rep2: size=12, decay=7.820e-01 Error in nnet.default(x, y, w, entropy = TRUE, ...) : \n",
      "  too many (2677) weights\n",
      "\"\n",
      "Warning message:\n",
      "\"model fit failed for Fold5.Rep2: size=10, decay=1.276e-01 Error in nnet.default(x, y, w, entropy = TRUE, ...) : \n",
      "  too many (2231) weights\n",
      "\"\n"
     ]
    },
    {
     "name": "stdout",
     "output_type": "stream",
     "text": [
      "# weights:  670\n",
      "initial  value 139.693144 \n",
      "iter  10 value 66.789844\n",
      "iter  20 value 55.348156\n",
      "iter  30 value 49.161659\n",
      "iter  40 value 46.632406\n",
      "iter  50 value 28.247142\n",
      "iter  60 value 17.499107\n",
      "iter  70 value 9.545484\n",
      "iter  80 value 7.576046\n",
      "iter  90 value 5.707248\n",
      "iter 100 value 4.432524\n",
      "final  value 4.432524 \n",
      "stopped after 100 iterations\n"
     ]
    },
    {
     "name": "stderr",
     "output_type": "stream",
     "text": [
      "Warning message:\n",
      "\"model fit failed for Fold5.Rep2: size= 8, decay=1.706e+00 Error in nnet.default(x, y, w, entropy = TRUE, ...) : \n",
      "  too many (1785) weights\n",
      "\"\n",
      "Warning message:\n",
      "\"model fit failed for Fold5.Rep2: size=18, decay=8.957e-02 Error in nnet.default(x, y, w, entropy = TRUE, ...) : \n",
      "  too many (4015) weights\n",
      "\"\n",
      "Warning message:\n",
      "\"model fit failed for Fold5.Rep2: size=11, decay=7.090e+00 Error in nnet.default(x, y, w, entropy = TRUE, ...) : \n",
      "  too many (2454) weights\n",
      "\"\n",
      "Warning message:\n",
      "\"model fit failed for Fold5.Rep2: size=14, decay=1.258e-05 Error in nnet.default(x, y, w, entropy = TRUE, ...) : \n",
      "  too many (3123) weights\n",
      "\"\n",
      "Warning message:\n",
      "\"model fit failed for Fold5.Rep2: size=10, decay=8.728e-04 Error in nnet.default(x, y, w, entropy = TRUE, ...) : \n",
      "  too many (2231) weights\n",
      "\"\n",
      "Warning message:\n",
      "\"model fit failed for Fold1.Rep3: size=20, decay=4.861e-02 Error in nnet.default(x, y, w, entropy = TRUE, ...) : \n",
      "  too many (4461) weights\n",
      "\"\n"
     ]
    },
    {
     "name": "stdout",
     "output_type": "stream",
     "text": [
      "# weights:  224\n",
      "initial  value 322.912393 \n",
      "iter  10 value 92.211277\n",
      "iter  20 value 60.955564\n",
      "iter  30 value 49.090477\n",
      "iter  40 value 39.562537\n",
      "iter  50 value 22.420181\n",
      "iter  60 value 16.720307\n",
      "iter  70 value 15.247371\n",
      "iter  80 value 10.648518\n",
      "iter  90 value 8.806868\n",
      "iter 100 value 8.540546\n",
      "final  value 8.540546 \n",
      "stopped after 100 iterations\n"
     ]
    },
    {
     "name": "stderr",
     "output_type": "stream",
     "text": [
      "Warning message:\n",
      "\"model fit failed for Fold1.Rep3: size=12, decay=7.820e-01 Error in nnet.default(x, y, w, entropy = TRUE, ...) : \n",
      "  too many (2677) weights\n",
      "\"\n",
      "Warning message:\n",
      "\"model fit failed for Fold1.Rep3: size=10, decay=1.276e-01 Error in nnet.default(x, y, w, entropy = TRUE, ...) : \n",
      "  too many (2231) weights\n",
      "\"\n"
     ]
    },
    {
     "name": "stdout",
     "output_type": "stream",
     "text": [
      "# weights:  670\n",
      "initial  value 331.564135 \n",
      "iter  10 value 64.856538\n",
      "iter  20 value 26.618230\n",
      "iter  30 value 18.445249\n",
      "iter  40 value 12.886837\n",
      "iter  50 value 10.599887\n",
      "iter  60 value 8.495685\n",
      "iter  70 value 6.821355\n",
      "iter  80 value 4.952307\n",
      "iter  90 value 4.264207\n",
      "iter 100 value 3.603792\n",
      "final  value 3.603792 \n",
      "stopped after 100 iterations\n"
     ]
    },
    {
     "name": "stderr",
     "output_type": "stream",
     "text": [
      "Warning message:\n",
      "\"model fit failed for Fold1.Rep3: size= 8, decay=1.706e+00 Error in nnet.default(x, y, w, entropy = TRUE, ...) : \n",
      "  too many (1785) weights\n",
      "\"\n",
      "Warning message:\n",
      "\"model fit failed for Fold1.Rep3: size=18, decay=8.957e-02 Error in nnet.default(x, y, w, entropy = TRUE, ...) : \n",
      "  too many (4015) weights\n",
      "\"\n",
      "Warning message:\n",
      "\"model fit failed for Fold1.Rep3: size=11, decay=7.090e+00 Error in nnet.default(x, y, w, entropy = TRUE, ...) : \n",
      "  too many (2454) weights\n",
      "\"\n",
      "Warning message:\n",
      "\"model fit failed for Fold1.Rep3: size=14, decay=1.258e-05 Error in nnet.default(x, y, w, entropy = TRUE, ...) : \n",
      "  too many (3123) weights\n",
      "\"\n",
      "Warning message:\n",
      "\"model fit failed for Fold1.Rep3: size=10, decay=8.728e-04 Error in nnet.default(x, y, w, entropy = TRUE, ...) : \n",
      "  too many (2231) weights\n",
      "\"\n",
      "Warning message:\n",
      "\"model fit failed for Fold2.Rep3: size=20, decay=4.861e-02 Error in nnet.default(x, y, w, entropy = TRUE, ...) : \n",
      "  too many (4461) weights\n",
      "\"\n"
     ]
    },
    {
     "name": "stdout",
     "output_type": "stream",
     "text": [
      "# weights:  224\n",
      "initial  value 168.865903 \n",
      "iter  10 value 80.835780\n",
      "iter  20 value 77.028785\n",
      "iter  30 value 70.911803\n",
      "iter  40 value 51.930515\n",
      "iter  50 value 35.821186\n",
      "iter  60 value 29.715668\n",
      "iter  70 value 19.438810\n",
      "iter  80 value 14.430507\n",
      "iter  90 value 12.438858\n",
      "iter 100 value 10.092850\n",
      "final  value 10.092850 \n",
      "stopped after 100 iterations\n"
     ]
    },
    {
     "name": "stderr",
     "output_type": "stream",
     "text": [
      "Warning message:\n",
      "\"model fit failed for Fold2.Rep3: size=12, decay=7.820e-01 Error in nnet.default(x, y, w, entropy = TRUE, ...) : \n",
      "  too many (2677) weights\n",
      "\"\n",
      "Warning message:\n",
      "\"model fit failed for Fold2.Rep3: size=10, decay=1.276e-01 Error in nnet.default(x, y, w, entropy = TRUE, ...) : \n",
      "  too many (2231) weights\n",
      "\"\n"
     ]
    },
    {
     "name": "stdout",
     "output_type": "stream",
     "text": [
      "# weights:  670\n",
      "initial  value 186.343204 \n",
      "iter  10 value 61.248472\n",
      "iter  20 value 49.113162\n",
      "iter  30 value 26.488130\n",
      "iter  40 value 19.877022\n",
      "iter  50 value 12.517152\n",
      "iter  60 value 7.620786\n",
      "iter  70 value 4.886871\n",
      "iter  80 value 4.030805\n",
      "iter  90 value 3.332775\n",
      "iter 100 value 3.207761\n",
      "final  value 3.207761 \n",
      "stopped after 100 iterations\n"
     ]
    },
    {
     "name": "stderr",
     "output_type": "stream",
     "text": [
      "Warning message:\n",
      "\"model fit failed for Fold2.Rep3: size= 8, decay=1.706e+00 Error in nnet.default(x, y, w, entropy = TRUE, ...) : \n",
      "  too many (1785) weights\n",
      "\"\n",
      "Warning message:\n",
      "\"model fit failed for Fold2.Rep3: size=18, decay=8.957e-02 Error in nnet.default(x, y, w, entropy = TRUE, ...) : \n",
      "  too many (4015) weights\n",
      "\"\n",
      "Warning message:\n",
      "\"model fit failed for Fold2.Rep3: size=11, decay=7.090e+00 Error in nnet.default(x, y, w, entropy = TRUE, ...) : \n",
      "  too many (2454) weights\n",
      "\"\n",
      "Warning message:\n",
      "\"model fit failed for Fold2.Rep3: size=14, decay=1.258e-05 Error in nnet.default(x, y, w, entropy = TRUE, ...) : \n",
      "  too many (3123) weights\n",
      "\"\n",
      "Warning message:\n",
      "\"model fit failed for Fold2.Rep3: size=10, decay=8.728e-04 Error in nnet.default(x, y, w, entropy = TRUE, ...) : \n",
      "  too many (2231) weights\n",
      "\"\n",
      "Warning message:\n",
      "\"model fit failed for Fold3.Rep3: size=20, decay=4.861e-02 Error in nnet.default(x, y, w, entropy = TRUE, ...) : \n",
      "  too many (4461) weights\n",
      "\"\n"
     ]
    },
    {
     "name": "stdout",
     "output_type": "stream",
     "text": [
      "# weights:  224\n",
      "initial  value 238.915656 \n",
      "iter  10 value 74.379832\n",
      "iter  20 value 61.990112\n",
      "iter  30 value 53.021233\n",
      "iter  40 value 37.342452\n",
      "iter  50 value 29.105315\n",
      "iter  60 value 25.914765\n",
      "iter  70 value 18.813499\n",
      "iter  80 value 15.123564\n",
      "iter  90 value 13.043099\n",
      "iter 100 value 11.363580\n",
      "final  value 11.363580 \n",
      "stopped after 100 iterations\n"
     ]
    },
    {
     "name": "stderr",
     "output_type": "stream",
     "text": [
      "Warning message:\n",
      "\"model fit failed for Fold3.Rep3: size=12, decay=7.820e-01 Error in nnet.default(x, y, w, entropy = TRUE, ...) : \n",
      "  too many (2677) weights\n",
      "\"\n",
      "Warning message:\n",
      "\"model fit failed for Fold3.Rep3: size=10, decay=1.276e-01 Error in nnet.default(x, y, w, entropy = TRUE, ...) : \n",
      "  too many (2231) weights\n",
      "\"\n"
     ]
    },
    {
     "name": "stdout",
     "output_type": "stream",
     "text": [
      "# weights:  670\n",
      "initial  value 203.014208 \n",
      "iter  10 value 63.067159\n",
      "iter  20 value 37.477722\n",
      "iter  30 value 18.130069\n",
      "iter  40 value 10.767954\n",
      "iter  50 value 7.470125\n",
      "iter  60 value 5.452418\n",
      "iter  70 value 4.092216\n",
      "iter  80 value 3.326763\n",
      "iter  90 value 2.907054\n",
      "iter 100 value 2.775173\n",
      "final  value 2.775173 \n",
      "stopped after 100 iterations\n"
     ]
    },
    {
     "name": "stderr",
     "output_type": "stream",
     "text": [
      "Warning message:\n",
      "\"model fit failed for Fold3.Rep3: size= 8, decay=1.706e+00 Error in nnet.default(x, y, w, entropy = TRUE, ...) : \n",
      "  too many (1785) weights\n",
      "\"\n",
      "Warning message:\n",
      "\"model fit failed for Fold3.Rep3: size=18, decay=8.957e-02 Error in nnet.default(x, y, w, entropy = TRUE, ...) : \n",
      "  too many (4015) weights\n",
      "\"\n",
      "Warning message:\n",
      "\"model fit failed for Fold3.Rep3: size=11, decay=7.090e+00 Error in nnet.default(x, y, w, entropy = TRUE, ...) : \n",
      "  too many (2454) weights\n",
      "\"\n",
      "Warning message:\n",
      "\"model fit failed for Fold3.Rep3: size=14, decay=1.258e-05 Error in nnet.default(x, y, w, entropy = TRUE, ...) : \n",
      "  too many (3123) weights\n",
      "\"\n",
      "Warning message:\n",
      "\"model fit failed for Fold3.Rep3: size=10, decay=8.728e-04 Error in nnet.default(x, y, w, entropy = TRUE, ...) : \n",
      "  too many (2231) weights\n",
      "\"\n",
      "Warning message:\n",
      "\"model fit failed for Fold4.Rep3: size=20, decay=4.861e-02 Error in nnet.default(x, y, w, entropy = TRUE, ...) : \n",
      "  too many (4461) weights\n",
      "\"\n"
     ]
    },
    {
     "name": "stdout",
     "output_type": "stream",
     "text": [
      "# weights:  224\n",
      "initial  value 294.505331 \n",
      "iter  10 value 85.834772\n",
      "iter  20 value 51.049213\n",
      "iter  30 value 41.586819\n",
      "iter  40 value 32.828839\n",
      "iter  50 value 26.492384\n",
      "iter  60 value 23.372743\n",
      "iter  70 value 19.631624\n",
      "iter  80 value 14.298375\n",
      "iter  90 value 10.114384\n",
      "iter 100 value 8.600647\n",
      "final  value 8.600647 \n",
      "stopped after 100 iterations\n"
     ]
    },
    {
     "name": "stderr",
     "output_type": "stream",
     "text": [
      "Warning message:\n",
      "\"model fit failed for Fold4.Rep3: size=12, decay=7.820e-01 Error in nnet.default(x, y, w, entropy = TRUE, ...) : \n",
      "  too many (2677) weights\n",
      "\"\n",
      "Warning message:\n",
      "\"model fit failed for Fold4.Rep3: size=10, decay=1.276e-01 Error in nnet.default(x, y, w, entropy = TRUE, ...) : \n",
      "  too many (2231) weights\n",
      "\"\n"
     ]
    },
    {
     "name": "stdout",
     "output_type": "stream",
     "text": [
      "# weights:  670\n",
      "initial  value 207.748128 \n",
      "iter  10 value 75.757018\n",
      "iter  20 value 40.912926\n",
      "iter  30 value 30.838065\n",
      "iter  40 value 19.850406\n",
      "iter  50 value 12.513937\n",
      "iter  60 value 7.701879\n",
      "iter  70 value 5.148245\n",
      "iter  80 value 4.104563\n",
      "iter  90 value 3.512306\n",
      "iter 100 value 3.098786\n",
      "final  value 3.098786 \n",
      "stopped after 100 iterations\n"
     ]
    },
    {
     "name": "stderr",
     "output_type": "stream",
     "text": [
      "Warning message:\n",
      "\"model fit failed for Fold4.Rep3: size= 8, decay=1.706e+00 Error in nnet.default(x, y, w, entropy = TRUE, ...) : \n",
      "  too many (1785) weights\n",
      "\"\n",
      "Warning message:\n",
      "\"model fit failed for Fold4.Rep3: size=18, decay=8.957e-02 Error in nnet.default(x, y, w, entropy = TRUE, ...) : \n",
      "  too many (4015) weights\n",
      "\"\n",
      "Warning message:\n",
      "\"model fit failed for Fold4.Rep3: size=11, decay=7.090e+00 Error in nnet.default(x, y, w, entropy = TRUE, ...) : \n",
      "  too many (2454) weights\n",
      "\"\n",
      "Warning message:\n",
      "\"model fit failed for Fold4.Rep3: size=14, decay=1.258e-05 Error in nnet.default(x, y, w, entropy = TRUE, ...) : \n",
      "  too many (3123) weights\n",
      "\"\n",
      "Warning message:\n",
      "\"model fit failed for Fold4.Rep3: size=10, decay=8.728e-04 Error in nnet.default(x, y, w, entropy = TRUE, ...) : \n",
      "  too many (2231) weights\n",
      "\"\n",
      "Warning message:\n",
      "\"model fit failed for Fold5.Rep3: size=20, decay=4.861e-02 Error in nnet.default(x, y, w, entropy = TRUE, ...) : \n",
      "  too many (4461) weights\n",
      "\"\n"
     ]
    },
    {
     "name": "stdout",
     "output_type": "stream",
     "text": [
      "# weights:  224\n",
      "initial  value 195.228151 \n",
      "iter  10 value 90.847511\n",
      "iter  20 value 45.867701\n",
      "iter  30 value 26.932828\n",
      "iter  40 value 21.112229\n",
      "iter  50 value 18.291739\n",
      "iter  60 value 17.208101\n",
      "iter  70 value 14.687212\n",
      "iter  80 value 12.658905\n",
      "iter  90 value 11.614720\n",
      "iter 100 value 10.986759\n",
      "final  value 10.986759 \n",
      "stopped after 100 iterations\n"
     ]
    },
    {
     "name": "stderr",
     "output_type": "stream",
     "text": [
      "Warning message:\n",
      "\"model fit failed for Fold5.Rep3: size=12, decay=7.820e-01 Error in nnet.default(x, y, w, entropy = TRUE, ...) : \n",
      "  too many (2677) weights\n",
      "\"\n",
      "Warning message:\n",
      "\"model fit failed for Fold5.Rep3: size=10, decay=1.276e-01 Error in nnet.default(x, y, w, entropy = TRUE, ...) : \n",
      "  too many (2231) weights\n",
      "\"\n"
     ]
    },
    {
     "name": "stdout",
     "output_type": "stream",
     "text": [
      "# weights:  670\n",
      "initial  value 127.812716 \n",
      "iter  10 value 51.474625\n",
      "iter  20 value 38.552027\n",
      "iter  30 value 30.201023\n",
      "iter  40 value 24.677983\n",
      "iter  50 value 22.020654\n",
      "iter  60 value 19.829629\n",
      "iter  70 value 17.273533\n",
      "iter  80 value 10.925569\n",
      "iter  90 value 5.658741\n",
      "iter 100 value 4.515715\n",
      "final  value 4.515715 \n",
      "stopped after 100 iterations\n"
     ]
    },
    {
     "name": "stderr",
     "output_type": "stream",
     "text": [
      "Warning message:\n",
      "\"model fit failed for Fold5.Rep3: size= 8, decay=1.706e+00 Error in nnet.default(x, y, w, entropy = TRUE, ...) : \n",
      "  too many (1785) weights\n",
      "\"\n",
      "Warning message:\n",
      "\"model fit failed for Fold5.Rep3: size=18, decay=8.957e-02 Error in nnet.default(x, y, w, entropy = TRUE, ...) : \n",
      "  too many (4015) weights\n",
      "\"\n",
      "Warning message:\n",
      "\"model fit failed for Fold5.Rep3: size=11, decay=7.090e+00 Error in nnet.default(x, y, w, entropy = TRUE, ...) : \n",
      "  too many (2454) weights\n",
      "\"\n",
      "Warning message:\n",
      "\"model fit failed for Fold5.Rep3: size=14, decay=1.258e-05 Error in nnet.default(x, y, w, entropy = TRUE, ...) : \n",
      "  too many (3123) weights\n",
      "\"\n",
      "Warning message:\n",
      "\"model fit failed for Fold5.Rep3: size=10, decay=8.728e-04 Error in nnet.default(x, y, w, entropy = TRUE, ...) : \n",
      "  too many (2231) weights\n",
      "\"\n",
      "Warning message:\n",
      "\"model fit failed for Fold1.Rep4: size=20, decay=4.861e-02 Error in nnet.default(x, y, w, entropy = TRUE, ...) : \n",
      "  too many (4461) weights\n",
      "\"\n"
     ]
    },
    {
     "name": "stdout",
     "output_type": "stream",
     "text": [
      "# weights:  224\n",
      "initial  value 212.018314 \n",
      "iter  10 value 60.497283\n",
      "iter  20 value 39.952168\n",
      "iter  30 value 28.082456\n",
      "iter  40 value 24.056259\n",
      "iter  50 value 22.384040\n",
      "iter  60 value 20.863083\n",
      "iter  70 value 17.440687\n",
      "iter  80 value 17.059094\n",
      "iter  90 value 14.620710\n",
      "iter 100 value 14.313562\n",
      "final  value 14.313562 \n",
      "stopped after 100 iterations\n"
     ]
    },
    {
     "name": "stderr",
     "output_type": "stream",
     "text": [
      "Warning message:\n",
      "\"model fit failed for Fold1.Rep4: size=12, decay=7.820e-01 Error in nnet.default(x, y, w, entropy = TRUE, ...) : \n",
      "  too many (2677) weights\n",
      "\"\n",
      "Warning message:\n",
      "\"model fit failed for Fold1.Rep4: size=10, decay=1.276e-01 Error in nnet.default(x, y, w, entropy = TRUE, ...) : \n",
      "  too many (2231) weights\n",
      "\"\n"
     ]
    },
    {
     "name": "stdout",
     "output_type": "stream",
     "text": [
      "# weights:  670\n",
      "initial  value 263.628831 \n",
      "iter  10 value 45.130686\n",
      "iter  20 value 33.018089\n",
      "iter  30 value 24.129419\n",
      "iter  40 value 13.506698\n",
      "iter  50 value 8.707237\n",
      "iter  60 value 7.138157\n",
      "iter  70 value 5.492277\n",
      "iter  80 value 4.363438\n",
      "iter  90 value 3.476863\n",
      "iter 100 value 3.126233\n",
      "final  value 3.126233 \n",
      "stopped after 100 iterations\n"
     ]
    },
    {
     "name": "stderr",
     "output_type": "stream",
     "text": [
      "Warning message:\n",
      "\"model fit failed for Fold1.Rep4: size= 8, decay=1.706e+00 Error in nnet.default(x, y, w, entropy = TRUE, ...) : \n",
      "  too many (1785) weights\n",
      "\"\n",
      "Warning message:\n",
      "\"model fit failed for Fold1.Rep4: size=18, decay=8.957e-02 Error in nnet.default(x, y, w, entropy = TRUE, ...) : \n",
      "  too many (4015) weights\n",
      "\"\n",
      "Warning message:\n",
      "\"model fit failed for Fold1.Rep4: size=11, decay=7.090e+00 Error in nnet.default(x, y, w, entropy = TRUE, ...) : \n",
      "  too many (2454) weights\n",
      "\"\n",
      "Warning message:\n",
      "\"model fit failed for Fold1.Rep4: size=14, decay=1.258e-05 Error in nnet.default(x, y, w, entropy = TRUE, ...) : \n",
      "  too many (3123) weights\n",
      "\"\n",
      "Warning message:\n",
      "\"model fit failed for Fold1.Rep4: size=10, decay=8.728e-04 Error in nnet.default(x, y, w, entropy = TRUE, ...) : \n",
      "  too many (2231) weights\n",
      "\"\n",
      "Warning message:\n",
      "\"model fit failed for Fold2.Rep4: size=20, decay=4.861e-02 Error in nnet.default(x, y, w, entropy = TRUE, ...) : \n",
      "  too many (4461) weights\n",
      "\"\n"
     ]
    },
    {
     "name": "stdout",
     "output_type": "stream",
     "text": [
      "# weights:  224\n",
      "initial  value 236.703002 \n",
      "iter  10 value 88.512350\n",
      "iter  20 value 54.627123\n",
      "iter  30 value 35.438914\n",
      "iter  40 value 25.150007\n",
      "iter  50 value 18.999475\n",
      "iter  60 value 16.565777\n",
      "iter  70 value 13.703767\n",
      "iter  80 value 13.612514\n",
      "iter  90 value 13.610239\n",
      "iter 100 value 13.610183\n",
      "final  value 13.610183 \n",
      "stopped after 100 iterations\n"
     ]
    },
    {
     "name": "stderr",
     "output_type": "stream",
     "text": [
      "Warning message:\n",
      "\"model fit failed for Fold2.Rep4: size=12, decay=7.820e-01 Error in nnet.default(x, y, w, entropy = TRUE, ...) : \n",
      "  too many (2677) weights\n",
      "\"\n",
      "Warning message:\n",
      "\"model fit failed for Fold2.Rep4: size=10, decay=1.276e-01 Error in nnet.default(x, y, w, entropy = TRUE, ...) : \n",
      "  too many (2231) weights\n",
      "\"\n"
     ]
    },
    {
     "name": "stdout",
     "output_type": "stream",
     "text": [
      "# weights:  670\n",
      "initial  value 188.170840 \n",
      "iter  10 value 67.369187\n",
      "iter  20 value 44.791997\n",
      "iter  30 value 28.991767\n",
      "iter  40 value 21.133301\n",
      "iter  50 value 12.484483\n",
      "iter  60 value 9.594318\n",
      "iter  70 value 6.622732\n",
      "iter  80 value 4.289308\n",
      "iter  90 value 3.324475\n",
      "iter 100 value 2.930589\n",
      "final  value 2.930589 \n",
      "stopped after 100 iterations\n"
     ]
    },
    {
     "name": "stderr",
     "output_type": "stream",
     "text": [
      "Warning message:\n",
      "\"model fit failed for Fold2.Rep4: size= 8, decay=1.706e+00 Error in nnet.default(x, y, w, entropy = TRUE, ...) : \n",
      "  too many (1785) weights\n",
      "\"\n",
      "Warning message:\n",
      "\"model fit failed for Fold2.Rep4: size=18, decay=8.957e-02 Error in nnet.default(x, y, w, entropy = TRUE, ...) : \n",
      "  too many (4015) weights\n",
      "\"\n",
      "Warning message:\n",
      "\"model fit failed for Fold2.Rep4: size=11, decay=7.090e+00 Error in nnet.default(x, y, w, entropy = TRUE, ...) : \n",
      "  too many (2454) weights\n",
      "\"\n",
      "Warning message:\n",
      "\"model fit failed for Fold2.Rep4: size=14, decay=1.258e-05 Error in nnet.default(x, y, w, entropy = TRUE, ...) : \n",
      "  too many (3123) weights\n",
      "\"\n",
      "Warning message:\n",
      "\"model fit failed for Fold2.Rep4: size=10, decay=8.728e-04 Error in nnet.default(x, y, w, entropy = TRUE, ...) : \n",
      "  too many (2231) weights\n",
      "\"\n",
      "Warning message:\n",
      "\"model fit failed for Fold3.Rep4: size=20, decay=4.861e-02 Error in nnet.default(x, y, w, entropy = TRUE, ...) : \n",
      "  too many (4461) weights\n",
      "\"\n"
     ]
    },
    {
     "name": "stdout",
     "output_type": "stream",
     "text": [
      "# weights:  224\n",
      "initial  value 194.496492 \n",
      "iter  10 value 79.441581\n",
      "iter  20 value 72.396771\n",
      "iter  30 value 67.183907\n",
      "iter  40 value 58.976256\n",
      "iter  50 value 53.985970\n",
      "iter  60 value 45.240970\n",
      "iter  70 value 38.421839\n",
      "iter  80 value 32.966151\n",
      "iter  90 value 17.624086\n",
      "iter 100 value 9.107915\n",
      "final  value 9.107915 \n",
      "stopped after 100 iterations\n"
     ]
    },
    {
     "name": "stderr",
     "output_type": "stream",
     "text": [
      "Warning message:\n",
      "\"model fit failed for Fold3.Rep4: size=12, decay=7.820e-01 Error in nnet.default(x, y, w, entropy = TRUE, ...) : \n",
      "  too many (2677) weights\n",
      "\"\n",
      "Warning message:\n",
      "\"model fit failed for Fold3.Rep4: size=10, decay=1.276e-01 Error in nnet.default(x, y, w, entropy = TRUE, ...) : \n",
      "  too many (2231) weights\n",
      "\"\n"
     ]
    },
    {
     "name": "stdout",
     "output_type": "stream",
     "text": [
      "# weights:  670\n",
      "initial  value 176.840839 \n",
      "iter  10 value 69.008800\n",
      "iter  20 value 44.274574\n",
      "iter  30 value 28.431704\n",
      "iter  40 value 20.601473\n",
      "iter  50 value 12.251605\n",
      "iter  60 value 6.684917\n",
      "iter  70 value 4.164529\n",
      "iter  80 value 3.420659\n",
      "iter  90 value 2.897155\n",
      "iter 100 value 2.629161\n",
      "final  value 2.629161 \n",
      "stopped after 100 iterations\n"
     ]
    },
    {
     "name": "stderr",
     "output_type": "stream",
     "text": [
      "Warning message:\n",
      "\"model fit failed for Fold3.Rep4: size= 8, decay=1.706e+00 Error in nnet.default(x, y, w, entropy = TRUE, ...) : \n",
      "  too many (1785) weights\n",
      "\"\n",
      "Warning message:\n",
      "\"model fit failed for Fold3.Rep4: size=18, decay=8.957e-02 Error in nnet.default(x, y, w, entropy = TRUE, ...) : \n",
      "  too many (4015) weights\n",
      "\"\n",
      "Warning message:\n",
      "\"model fit failed for Fold3.Rep4: size=11, decay=7.090e+00 Error in nnet.default(x, y, w, entropy = TRUE, ...) : \n",
      "  too many (2454) weights\n",
      "\"\n",
      "Warning message:\n",
      "\"model fit failed for Fold3.Rep4: size=14, decay=1.258e-05 Error in nnet.default(x, y, w, entropy = TRUE, ...) : \n",
      "  too many (3123) weights\n",
      "\"\n",
      "Warning message:\n",
      "\"model fit failed for Fold3.Rep4: size=10, decay=8.728e-04 Error in nnet.default(x, y, w, entropy = TRUE, ...) : \n",
      "  too many (2231) weights\n",
      "\"\n",
      "Warning message:\n",
      "\"model fit failed for Fold4.Rep4: size=20, decay=4.861e-02 Error in nnet.default(x, y, w, entropy = TRUE, ...) : \n",
      "  too many (4461) weights\n",
      "\"\n"
     ]
    },
    {
     "name": "stdout",
     "output_type": "stream",
     "text": [
      "# weights:  224\n",
      "initial  value 188.761081 \n",
      "iter  10 value 89.670756\n",
      "iter  20 value 69.840204\n",
      "iter  30 value 67.002578\n",
      "iter  40 value 66.372154\n",
      "iter  50 value 64.532315\n",
      "iter  60 value 54.479457\n",
      "iter  70 value 51.014990\n",
      "iter  80 value 40.581261\n",
      "iter  90 value 28.999255\n",
      "iter 100 value 20.141516\n",
      "final  value 20.141516 \n",
      "stopped after 100 iterations\n"
     ]
    },
    {
     "name": "stderr",
     "output_type": "stream",
     "text": [
      "Warning message:\n",
      "\"model fit failed for Fold4.Rep4: size=12, decay=7.820e-01 Error in nnet.default(x, y, w, entropy = TRUE, ...) : \n",
      "  too many (2677) weights\n",
      "\"\n",
      "Warning message:\n",
      "\"model fit failed for Fold4.Rep4: size=10, decay=1.276e-01 Error in nnet.default(x, y, w, entropy = TRUE, ...) : \n",
      "  too many (2231) weights\n",
      "\"\n"
     ]
    },
    {
     "name": "stdout",
     "output_type": "stream",
     "text": [
      "# weights:  670\n",
      "initial  value 256.673778 \n",
      "iter  10 value 60.263617\n",
      "iter  20 value 38.209730\n",
      "iter  30 value 20.544171\n",
      "iter  40 value 11.776852\n",
      "iter  50 value 5.816540\n",
      "iter  60 value 4.302554\n",
      "iter  70 value 3.540274\n",
      "iter  80 value 3.100157\n",
      "iter  90 value 2.883276\n",
      "iter 100 value 2.758848\n",
      "final  value 2.758848 \n",
      "stopped after 100 iterations\n"
     ]
    },
    {
     "name": "stderr",
     "output_type": "stream",
     "text": [
      "Warning message:\n",
      "\"model fit failed for Fold4.Rep4: size= 8, decay=1.706e+00 Error in nnet.default(x, y, w, entropy = TRUE, ...) : \n",
      "  too many (1785) weights\n",
      "\"\n",
      "Warning message:\n",
      "\"model fit failed for Fold4.Rep4: size=18, decay=8.957e-02 Error in nnet.default(x, y, w, entropy = TRUE, ...) : \n",
      "  too many (4015) weights\n",
      "\"\n",
      "Warning message:\n",
      "\"model fit failed for Fold4.Rep4: size=11, decay=7.090e+00 Error in nnet.default(x, y, w, entropy = TRUE, ...) : \n",
      "  too many (2454) weights\n",
      "\"\n",
      "Warning message:\n",
      "\"model fit failed for Fold4.Rep4: size=14, decay=1.258e-05 Error in nnet.default(x, y, w, entropy = TRUE, ...) : \n",
      "  too many (3123) weights\n",
      "\"\n",
      "Warning message:\n",
      "\"model fit failed for Fold4.Rep4: size=10, decay=8.728e-04 Error in nnet.default(x, y, w, entropy = TRUE, ...) : \n",
      "  too many (2231) weights\n",
      "\"\n",
      "Warning message:\n",
      "\"model fit failed for Fold5.Rep4: size=20, decay=4.861e-02 Error in nnet.default(x, y, w, entropy = TRUE, ...) : \n",
      "  too many (4461) weights\n",
      "\"\n"
     ]
    },
    {
     "name": "stdout",
     "output_type": "stream",
     "text": [
      "# weights:  224\n",
      "initial  value 156.836540 \n",
      "iter  10 value 87.440764\n",
      "iter  20 value 59.543821\n",
      "iter  30 value 49.253244\n",
      "iter  40 value 30.273701\n",
      "iter  50 value 24.835877\n",
      "iter  60 value 11.857075\n",
      "iter  70 value 8.900131\n",
      "iter  80 value 8.660664\n",
      "iter  90 value 8.639999\n",
      "iter 100 value 8.638524\n",
      "final  value 8.638524 \n",
      "stopped after 100 iterations\n"
     ]
    },
    {
     "name": "stderr",
     "output_type": "stream",
     "text": [
      "Warning message:\n",
      "\"model fit failed for Fold5.Rep4: size=12, decay=7.820e-01 Error in nnet.default(x, y, w, entropy = TRUE, ...) : \n",
      "  too many (2677) weights\n",
      "\"\n",
      "Warning message:\n",
      "\"model fit failed for Fold5.Rep4: size=10, decay=1.276e-01 Error in nnet.default(x, y, w, entropy = TRUE, ...) : \n",
      "  too many (2231) weights\n",
      "\"\n"
     ]
    },
    {
     "name": "stdout",
     "output_type": "stream",
     "text": [
      "# weights:  670\n",
      "initial  value 192.681105 \n",
      "iter  10 value 54.949930\n",
      "iter  20 value 40.027685\n",
      "iter  30 value 26.679037\n",
      "iter  40 value 19.836197\n",
      "iter  50 value 15.123859\n",
      "iter  60 value 12.031016\n",
      "iter  70 value 7.403443\n",
      "iter  80 value 6.331167\n",
      "iter  90 value 5.227063\n",
      "iter 100 value 4.508314\n",
      "final  value 4.508314 \n",
      "stopped after 100 iterations\n"
     ]
    },
    {
     "name": "stderr",
     "output_type": "stream",
     "text": [
      "Warning message:\n",
      "\"model fit failed for Fold5.Rep4: size= 8, decay=1.706e+00 Error in nnet.default(x, y, w, entropy = TRUE, ...) : \n",
      "  too many (1785) weights\n",
      "\"\n",
      "Warning message:\n",
      "\"model fit failed for Fold5.Rep4: size=18, decay=8.957e-02 Error in nnet.default(x, y, w, entropy = TRUE, ...) : \n",
      "  too many (4015) weights\n",
      "\"\n",
      "Warning message:\n",
      "\"model fit failed for Fold5.Rep4: size=11, decay=7.090e+00 Error in nnet.default(x, y, w, entropy = TRUE, ...) : \n",
      "  too many (2454) weights\n",
      "\"\n",
      "Warning message:\n",
      "\"model fit failed for Fold5.Rep4: size=14, decay=1.258e-05 Error in nnet.default(x, y, w, entropy = TRUE, ...) : \n",
      "  too many (3123) weights\n",
      "\"\n",
      "Warning message:\n",
      "\"model fit failed for Fold5.Rep4: size=10, decay=8.728e-04 Error in nnet.default(x, y, w, entropy = TRUE, ...) : \n",
      "  too many (2231) weights\n",
      "\"\n",
      "Warning message:\n",
      "\"model fit failed for Fold1.Rep5: size=20, decay=4.861e-02 Error in nnet.default(x, y, w, entropy = TRUE, ...) : \n",
      "  too many (4461) weights\n",
      "\"\n"
     ]
    },
    {
     "name": "stdout",
     "output_type": "stream",
     "text": [
      "# weights:  224\n",
      "initial  value 258.137171 \n",
      "iter  10 value 88.777212\n",
      "iter  20 value 68.841267\n",
      "iter  30 value 56.982355\n",
      "iter  40 value 50.147091\n",
      "iter  50 value 40.048624\n",
      "iter  60 value 30.161720\n",
      "iter  70 value 24.061927\n",
      "iter  80 value 21.299160\n",
      "iter  90 value 12.365232\n",
      "iter 100 value 11.387090\n",
      "final  value 11.387090 \n",
      "stopped after 100 iterations\n"
     ]
    },
    {
     "name": "stderr",
     "output_type": "stream",
     "text": [
      "Warning message:\n",
      "\"model fit failed for Fold1.Rep5: size=12, decay=7.820e-01 Error in nnet.default(x, y, w, entropy = TRUE, ...) : \n",
      "  too many (2677) weights\n",
      "\"\n",
      "Warning message:\n",
      "\"model fit failed for Fold1.Rep5: size=10, decay=1.276e-01 Error in nnet.default(x, y, w, entropy = TRUE, ...) : \n",
      "  too many (2231) weights\n",
      "\"\n"
     ]
    },
    {
     "name": "stdout",
     "output_type": "stream",
     "text": [
      "# weights:  670\n",
      "initial  value 387.856500 \n",
      "iter  10 value 61.301536\n",
      "iter  20 value 41.260836\n",
      "iter  30 value 26.997564\n",
      "iter  40 value 14.541377\n",
      "iter  50 value 9.778460\n",
      "iter  60 value 8.251410\n",
      "iter  70 value 6.056427\n",
      "iter  80 value 4.625171\n",
      "iter  90 value 3.732028\n",
      "iter 100 value 3.269274\n",
      "final  value 3.269274 \n",
      "stopped after 100 iterations\n"
     ]
    },
    {
     "name": "stderr",
     "output_type": "stream",
     "text": [
      "Warning message:\n",
      "\"model fit failed for Fold1.Rep5: size= 8, decay=1.706e+00 Error in nnet.default(x, y, w, entropy = TRUE, ...) : \n",
      "  too many (1785) weights\n",
      "\"\n",
      "Warning message:\n",
      "\"model fit failed for Fold1.Rep5: size=18, decay=8.957e-02 Error in nnet.default(x, y, w, entropy = TRUE, ...) : \n",
      "  too many (4015) weights\n",
      "\"\n",
      "Warning message:\n",
      "\"model fit failed for Fold1.Rep5: size=11, decay=7.090e+00 Error in nnet.default(x, y, w, entropy = TRUE, ...) : \n",
      "  too many (2454) weights\n",
      "\"\n",
      "Warning message:\n",
      "\"model fit failed for Fold1.Rep5: size=14, decay=1.258e-05 Error in nnet.default(x, y, w, entropy = TRUE, ...) : \n",
      "  too many (3123) weights\n",
      "\"\n",
      "Warning message:\n",
      "\"model fit failed for Fold1.Rep5: size=10, decay=8.728e-04 Error in nnet.default(x, y, w, entropy = TRUE, ...) : \n",
      "  too many (2231) weights\n",
      "\"\n",
      "Warning message:\n",
      "\"model fit failed for Fold2.Rep5: size=20, decay=4.861e-02 Error in nnet.default(x, y, w, entropy = TRUE, ...) : \n",
      "  too many (4461) weights\n",
      "\"\n"
     ]
    },
    {
     "name": "stdout",
     "output_type": "stream",
     "text": [
      "# weights:  224\n",
      "initial  value 241.960531 \n",
      "iter  10 value 92.835509\n",
      "iter  20 value 72.377950\n",
      "iter  30 value 57.540138\n",
      "iter  40 value 47.716669\n",
      "iter  50 value 39.028273\n",
      "iter  60 value 26.199979\n",
      "iter  70 value 22.240538\n",
      "iter  80 value 16.123291\n",
      "iter  90 value 13.995793\n",
      "iter 100 value 13.708043\n",
      "final  value 13.708043 \n",
      "stopped after 100 iterations\n"
     ]
    },
    {
     "name": "stderr",
     "output_type": "stream",
     "text": [
      "Warning message:\n",
      "\"model fit failed for Fold2.Rep5: size=12, decay=7.820e-01 Error in nnet.default(x, y, w, entropy = TRUE, ...) : \n",
      "  too many (2677) weights\n",
      "\"\n",
      "Warning message:\n",
      "\"model fit failed for Fold2.Rep5: size=10, decay=1.276e-01 Error in nnet.default(x, y, w, entropy = TRUE, ...) : \n",
      "  too many (2231) weights\n",
      "\"\n"
     ]
    },
    {
     "name": "stdout",
     "output_type": "stream",
     "text": [
      "# weights:  670\n",
      "initial  value 310.105100 \n",
      "iter  10 value 70.216419\n",
      "iter  20 value 64.612271\n",
      "iter  30 value 55.527877\n",
      "iter  40 value 41.186697\n",
      "iter  50 value 30.679532\n",
      "iter  60 value 21.768950\n",
      "iter  70 value 12.869660\n",
      "iter  80 value 7.595286\n",
      "iter  90 value 5.171066\n",
      "iter 100 value 3.927734\n",
      "final  value 3.927734 \n",
      "stopped after 100 iterations\n"
     ]
    },
    {
     "name": "stderr",
     "output_type": "stream",
     "text": [
      "Warning message:\n",
      "\"model fit failed for Fold2.Rep5: size= 8, decay=1.706e+00 Error in nnet.default(x, y, w, entropy = TRUE, ...) : \n",
      "  too many (1785) weights\n",
      "\"\n",
      "Warning message:\n",
      "\"model fit failed for Fold2.Rep5: size=18, decay=8.957e-02 Error in nnet.default(x, y, w, entropy = TRUE, ...) : \n",
      "  too many (4015) weights\n",
      "\"\n",
      "Warning message:\n",
      "\"model fit failed for Fold2.Rep5: size=11, decay=7.090e+00 Error in nnet.default(x, y, w, entropy = TRUE, ...) : \n",
      "  too many (2454) weights\n",
      "\"\n",
      "Warning message:\n",
      "\"model fit failed for Fold2.Rep5: size=14, decay=1.258e-05 Error in nnet.default(x, y, w, entropy = TRUE, ...) : \n",
      "  too many (3123) weights\n",
      "\"\n",
      "Warning message:\n",
      "\"model fit failed for Fold2.Rep5: size=10, decay=8.728e-04 Error in nnet.default(x, y, w, entropy = TRUE, ...) : \n",
      "  too many (2231) weights\n",
      "\"\n",
      "Warning message:\n",
      "\"model fit failed for Fold3.Rep5: size=20, decay=4.861e-02 Error in nnet.default(x, y, w, entropy = TRUE, ...) : \n",
      "  too many (4461) weights\n",
      "\"\n"
     ]
    },
    {
     "name": "stdout",
     "output_type": "stream",
     "text": [
      "# weights:  224\n",
      "initial  value 317.692092 \n",
      "iter  10 value 60.810002\n",
      "iter  20 value 45.803336\n",
      "iter  30 value 28.953388\n",
      "iter  40 value 19.504663\n",
      "iter  50 value 16.207031\n",
      "iter  60 value 10.303551\n",
      "iter  70 value 8.346937\n",
      "iter  80 value 8.196673\n",
      "iter  90 value 8.192528\n",
      "iter 100 value 8.192478\n",
      "final  value 8.192478 \n",
      "stopped after 100 iterations\n"
     ]
    },
    {
     "name": "stderr",
     "output_type": "stream",
     "text": [
      "Warning message:\n",
      "\"model fit failed for Fold3.Rep5: size=12, decay=7.820e-01 Error in nnet.default(x, y, w, entropy = TRUE, ...) : \n",
      "  too many (2677) weights\n",
      "\"\n",
      "Warning message:\n",
      "\"model fit failed for Fold3.Rep5: size=10, decay=1.276e-01 Error in nnet.default(x, y, w, entropy = TRUE, ...) : \n",
      "  too many (2231) weights\n",
      "\"\n"
     ]
    },
    {
     "name": "stdout",
     "output_type": "stream",
     "text": [
      "# weights:  670\n",
      "initial  value 342.810117 \n",
      "iter  10 value 84.045222\n",
      "iter  20 value 37.649001\n",
      "iter  30 value 28.476700\n",
      "iter  40 value 15.312612\n",
      "iter  50 value 8.016729\n",
      "iter  60 value 4.829635\n",
      "iter  70 value 3.818712\n",
      "iter  80 value 3.155572\n",
      "iter  90 value 2.511994\n",
      "iter 100 value 2.426843\n",
      "final  value 2.426843 \n",
      "stopped after 100 iterations\n"
     ]
    },
    {
     "name": "stderr",
     "output_type": "stream",
     "text": [
      "Warning message:\n",
      "\"model fit failed for Fold3.Rep5: size= 8, decay=1.706e+00 Error in nnet.default(x, y, w, entropy = TRUE, ...) : \n",
      "  too many (1785) weights\n",
      "\"\n",
      "Warning message:\n",
      "\"model fit failed for Fold3.Rep5: size=18, decay=8.957e-02 Error in nnet.default(x, y, w, entropy = TRUE, ...) : \n",
      "  too many (4015) weights\n",
      "\"\n",
      "Warning message:\n",
      "\"model fit failed for Fold3.Rep5: size=11, decay=7.090e+00 Error in nnet.default(x, y, w, entropy = TRUE, ...) : \n",
      "  too many (2454) weights\n",
      "\"\n",
      "Warning message:\n",
      "\"model fit failed for Fold3.Rep5: size=14, decay=1.258e-05 Error in nnet.default(x, y, w, entropy = TRUE, ...) : \n",
      "  too many (3123) weights\n",
      "\"\n",
      "Warning message:\n",
      "\"model fit failed for Fold3.Rep5: size=10, decay=8.728e-04 Error in nnet.default(x, y, w, entropy = TRUE, ...) : \n",
      "  too many (2231) weights\n",
      "\"\n",
      "Warning message:\n",
      "\"model fit failed for Fold4.Rep5: size=20, decay=4.861e-02 Error in nnet.default(x, y, w, entropy = TRUE, ...) : \n",
      "  too many (4461) weights\n",
      "\"\n"
     ]
    },
    {
     "name": "stdout",
     "output_type": "stream",
     "text": [
      "# weights:  224\n",
      "initial  value 200.464309 \n",
      "iter  10 value 72.473626\n",
      "iter  20 value 48.786366\n",
      "iter  30 value 27.617003\n",
      "iter  40 value 17.640817\n",
      "iter  50 value 13.929179\n",
      "iter  60 value 9.818716\n",
      "iter  70 value 8.717665\n",
      "iter  80 value 8.649691\n",
      "iter  90 value 8.642894\n",
      "iter 100 value 8.641836\n",
      "final  value 8.641836 \n",
      "stopped after 100 iterations\n"
     ]
    },
    {
     "name": "stderr",
     "output_type": "stream",
     "text": [
      "Warning message:\n",
      "\"model fit failed for Fold4.Rep5: size=12, decay=7.820e-01 Error in nnet.default(x, y, w, entropy = TRUE, ...) : \n",
      "  too many (2677) weights\n",
      "\"\n",
      "Warning message:\n",
      "\"model fit failed for Fold4.Rep5: size=10, decay=1.276e-01 Error in nnet.default(x, y, w, entropy = TRUE, ...) : \n",
      "  too many (2231) weights\n",
      "\"\n"
     ]
    },
    {
     "name": "stdout",
     "output_type": "stream",
     "text": [
      "# weights:  670\n",
      "initial  value 362.233047 \n",
      "iter  10 value 48.251540\n",
      "iter  20 value 33.115905\n",
      "iter  30 value 15.716945\n",
      "iter  40 value 9.452852\n",
      "iter  50 value 5.362485\n",
      "iter  60 value 4.044278\n",
      "iter  70 value 3.539719\n",
      "iter  80 value 3.357666\n",
      "iter  90 value 3.318776\n",
      "iter 100 value 3.310490\n",
      "final  value 3.310490 \n",
      "stopped after 100 iterations\n"
     ]
    },
    {
     "name": "stderr",
     "output_type": "stream",
     "text": [
      "Warning message:\n",
      "\"model fit failed for Fold4.Rep5: size= 8, decay=1.706e+00 Error in nnet.default(x, y, w, entropy = TRUE, ...) : \n",
      "  too many (1785) weights\n",
      "\"\n",
      "Warning message:\n",
      "\"model fit failed for Fold4.Rep5: size=18, decay=8.957e-02 Error in nnet.default(x, y, w, entropy = TRUE, ...) : \n",
      "  too many (4015) weights\n",
      "\"\n",
      "Warning message:\n",
      "\"model fit failed for Fold4.Rep5: size=11, decay=7.090e+00 Error in nnet.default(x, y, w, entropy = TRUE, ...) : \n",
      "  too many (2454) weights\n",
      "\"\n",
      "Warning message:\n",
      "\"model fit failed for Fold4.Rep5: size=14, decay=1.258e-05 Error in nnet.default(x, y, w, entropy = TRUE, ...) : \n",
      "  too many (3123) weights\n",
      "\"\n",
      "Warning message:\n",
      "\"model fit failed for Fold4.Rep5: size=10, decay=8.728e-04 Error in nnet.default(x, y, w, entropy = TRUE, ...) : \n",
      "  too many (2231) weights\n",
      "\"\n",
      "Warning message:\n",
      "\"model fit failed for Fold5.Rep5: size=20, decay=4.861e-02 Error in nnet.default(x, y, w, entropy = TRUE, ...) : \n",
      "  too many (4461) weights\n",
      "\"\n"
     ]
    },
    {
     "name": "stdout",
     "output_type": "stream",
     "text": [
      "# weights:  224\n",
      "initial  value 234.239589 \n",
      "iter  10 value 70.748206\n",
      "iter  20 value 61.637971\n",
      "iter  30 value 55.954088\n",
      "iter  40 value 51.865815\n",
      "iter  50 value 48.931255\n",
      "iter  60 value 36.835531\n",
      "iter  70 value 22.185691\n",
      "iter  80 value 17.724661\n",
      "iter  90 value 15.756505\n",
      "iter 100 value 14.135156\n",
      "final  value 14.135156 \n",
      "stopped after 100 iterations\n"
     ]
    },
    {
     "name": "stderr",
     "output_type": "stream",
     "text": [
      "Warning message:\n",
      "\"model fit failed for Fold5.Rep5: size=12, decay=7.820e-01 Error in nnet.default(x, y, w, entropy = TRUE, ...) : \n",
      "  too many (2677) weights\n",
      "\"\n",
      "Warning message:\n",
      "\"model fit failed for Fold5.Rep5: size=10, decay=1.276e-01 Error in nnet.default(x, y, w, entropy = TRUE, ...) : \n",
      "  too many (2231) weights\n",
      "\"\n"
     ]
    },
    {
     "name": "stdout",
     "output_type": "stream",
     "text": [
      "# weights:  670\n",
      "initial  value 231.161139 \n",
      "iter  10 value 76.781312\n",
      "iter  20 value 46.651068\n",
      "iter  30 value 36.394699\n",
      "iter  40 value 21.300553\n",
      "iter  50 value 13.317369\n",
      "iter  60 value 6.383165\n",
      "iter  70 value 4.708763\n",
      "iter  80 value 4.194323\n",
      "iter  90 value 3.929888\n",
      "iter 100 value 3.562193\n",
      "final  value 3.562193 \n",
      "stopped after 100 iterations\n"
     ]
    },
    {
     "name": "stderr",
     "output_type": "stream",
     "text": [
      "Warning message:\n",
      "\"model fit failed for Fold5.Rep5: size= 8, decay=1.706e+00 Error in nnet.default(x, y, w, entropy = TRUE, ...) : \n",
      "  too many (1785) weights\n",
      "\"\n",
      "Warning message:\n",
      "\"model fit failed for Fold5.Rep5: size=18, decay=8.957e-02 Error in nnet.default(x, y, w, entropy = TRUE, ...) : \n",
      "  too many (4015) weights\n",
      "\"\n",
      "Warning message:\n",
      "\"model fit failed for Fold5.Rep5: size=11, decay=7.090e+00 Error in nnet.default(x, y, w, entropy = TRUE, ...) : \n",
      "  too many (2454) weights\n",
      "\"\n",
      "Warning message:\n",
      "\"model fit failed for Fold5.Rep5: size=14, decay=1.258e-05 Error in nnet.default(x, y, w, entropy = TRUE, ...) : \n",
      "  too many (3123) weights\n",
      "\"\n",
      "Warning message:\n",
      "\"model fit failed for Fold5.Rep5: size=10, decay=8.728e-04 Error in nnet.default(x, y, w, entropy = TRUE, ...) : \n",
      "  too many (2231) weights\n",
      "\"\n",
      "Warning message in nominalTrainWorkflow(x = x, y = y, wts = weights, info = trainInfo, :\n",
      "\"There were missing values in resampled performance measures.\"\n",
      "Warning message in train.default(x, y, weights = w, ...):\n",
      "\"missing values found in aggregated results\"\n"
     ]
    },
    {
     "name": "stdout",
     "output_type": "stream",
     "text": [
      "# weights:  670\n",
      "initial  value 307.071121 \n",
      "iter  10 value 114.574227\n",
      "iter  20 value 98.594503\n",
      "iter  30 value 69.040004\n",
      "iter  40 value 60.466029\n",
      "iter  50 value 49.323733\n",
      "iter  60 value 34.458602\n",
      "iter  70 value 13.829736\n",
      "iter  80 value 8.978872\n",
      "iter  90 value 7.169316\n",
      "iter 100 value 6.115740\n",
      "final  value 6.115740 \n",
      "stopped after 100 iterations\n"
     ]
    },
    {
     "data": {
      "text/plain": [
       "Neural Network \n",
       "\n",
       "389 samples\n",
       "221 predictors\n",
       "  2 classes: 'Death', 'Survive' \n",
       "\n",
       "No pre-processing\n",
       "Resampling: Cross-Validated (5 fold, repeated 5 times) \n",
       "Summary of sample sizes: 311, 311, 312, 311, 311, 312, ... \n",
       "Resampling results across tuning parameters:\n",
       "\n",
       "  size  decay         ROC        Sens       Spec     \n",
       "   1    5.263823e-02  0.7746108  0.3609524  0.9417527\n",
       "   3    2.084368e-02  0.7974952  0.3733333  0.9462520\n",
       "   8    1.705789e+00        NaN        NaN        NaN\n",
       "  10    8.727621e-04        NaN        NaN        NaN\n",
       "  10    1.276378e-01        NaN        NaN        NaN\n",
       "  11    7.090494e+00        NaN        NaN        NaN\n",
       "  12    7.820381e-01        NaN        NaN        NaN\n",
       "  14    1.257693e-05        NaN        NaN        NaN\n",
       "  18    8.957219e-02        NaN        NaN        NaN\n",
       "  20    4.860594e-02        NaN        NaN        NaN\n",
       "\n",
       "ROC was used to select the optimal model using the largest value.\n",
       "The final values used for the model were size = 3 and decay = 0.02084368."
      ]
     },
     "metadata": {},
     "output_type": "display_data"
    },
    {
     "data": {
      "text/plain": [
       "Confusion Matrix and Statistics\n",
       "\n",
       "          Reference\n",
       "Prediction Death Survive\n",
       "   Death      32       0\n",
       "   Survive     0     357\n",
       "                                     \n",
       "               Accuracy : 1          \n",
       "                 95% CI : (0.9906, 1)\n",
       "    No Information Rate : 0.9177     \n",
       "    P-Value [Acc > NIR] : 3.144e-15  \n",
       "                                     \n",
       "                  Kappa : 1          \n",
       "                                     \n",
       " Mcnemar's Test P-Value : NA         \n",
       "                                     \n",
       "            Sensitivity : 1.00000    \n",
       "            Specificity : 1.00000    \n",
       "         Pos Pred Value : 1.00000    \n",
       "         Neg Pred Value : 1.00000    \n",
       "             Prevalence : 0.08226    \n",
       "         Detection Rate : 0.08226    \n",
       "   Detection Prevalence : 0.08226    \n",
       "      Balanced Accuracy : 1.00000    \n",
       "                                     \n",
       "       'Positive' Class : Death      \n",
       "                                     "
      ]
     },
     "metadata": {},
     "output_type": "display_data"
    },
    {
     "data": {
      "text/plain": [
       "Confusion Matrix and Statistics\n",
       "\n",
       "          Reference\n",
       "Prediction Death Survive\n",
       "   Death       5       8\n",
       "   Survive     8     145\n",
       "                                          \n",
       "               Accuracy : 0.9036          \n",
       "                 95% CI : (0.8482, 0.9439)\n",
       "    No Information Rate : 0.9217          \n",
       "    P-Value [Acc > NIR] : 0.8444          \n",
       "                                          \n",
       "                  Kappa : 0.3323          \n",
       "                                          \n",
       " Mcnemar's Test P-Value : 1.0000          \n",
       "                                          \n",
       "            Sensitivity : 0.38462         \n",
       "            Specificity : 0.94771         \n",
       "         Pos Pred Value : 0.38462         \n",
       "         Neg Pred Value : 0.94771         \n",
       "             Prevalence : 0.07831         \n",
       "         Detection Rate : 0.03012         \n",
       "   Detection Prevalence : 0.07831         \n",
       "      Balanced Accuracy : 0.66616         \n",
       "                                          \n",
       "       'Positive' Class : Death           \n",
       "                                          "
      ]
     },
     "metadata": {},
     "output_type": "display_data"
    },
    {
     "name": "stderr",
     "output_type": "stream",
     "text": [
      "Setting direction: controls < cases\n",
      "\n",
      "Setting direction: controls < cases\n",
      "\n"
     ]
    },
    {
     "data": {
      "text/plain": [
       "\n",
       "Call:\n",
       "roc.default(response = training$death_binary, predictor = train_results[,     \"Death\"], levels = c(\"Survive\", \"Death\"))\n",
       "\n",
       "Data: train_results[, \"Death\"] in 357 controls (training$death_binary Survive) < 32 cases (training$death_binary Death).\n",
       "Area under the curve: 1"
      ]
     },
     "metadata": {},
     "output_type": "display_data"
    },
    {
     "name": "stderr",
     "output_type": "stream",
     "text": [
      "Warning message in ci.auc.roc(ROC_train):\n",
      "\"ci.auc() of a ROC curve with AUC == 1 is always 1-1 and can be misleading.\"\n"
     ]
    },
    {
     "data": {
      "text/html": [
       "<style>\n",
       ".list-inline {list-style: none; margin:0; padding: 0}\n",
       ".list-inline>li {display: inline-block}\n",
       ".list-inline>li:not(:last-child)::after {content: \"\\00b7\"; padding: 0 .5ex}\n",
       "</style>\n",
       "<ol class=list-inline><li>1</li><li>1</li><li>1</li></ol>\n"
      ],
      "text/latex": [
       "\\begin{enumerate*}\n",
       "\\item 1\n",
       "\\item 1\n",
       "\\item 1\n",
       "\\end{enumerate*}\n"
      ],
      "text/markdown": [
       "1. 1\n",
       "2. 1\n",
       "3. 1\n",
       "\n",
       "\n"
      ],
      "text/plain": [
       "95% CI: 1-1 (DeLong)"
      ]
     },
     "metadata": {},
     "output_type": "display_data"
    },
    {
     "data": {
      "text/plain": [
       "\n",
       "Call:\n",
       "roc.default(response = testing$death_binary, predictor = test_results[,     \"Death\"], levels = c(\"Survive\", \"Death\"))\n",
       "\n",
       "Data: test_results[, \"Death\"] in 153 controls (testing$death_binary Survive) < 13 cases (testing$death_binary Death).\n",
       "Area under the curve: 0.8467"
      ]
     },
     "metadata": {},
     "output_type": "display_data"
    },
    {
     "data": {
      "text/html": [
       "<style>\n",
       ".list-inline {list-style: none; margin:0; padding: 0}\n",
       ".list-inline>li {display: inline-block}\n",
       ".list-inline>li:not(:last-child)::after {content: \"\\00b7\"; padding: 0 .5ex}\n",
       "</style>\n",
       "<ol class=list-inline><li>0.702633758325505</li><li>0.846656611362494</li><li>0.990679464399482</li></ol>\n"
      ],
      "text/latex": [
       "\\begin{enumerate*}\n",
       "\\item 0.702633758325505\n",
       "\\item 0.846656611362494\n",
       "\\item 0.990679464399482\n",
       "\\end{enumerate*}\n"
      ],
      "text/markdown": [
       "1. 0.702633758325505\n",
       "2. 0.846656611362494\n",
       "3. 0.990679464399482\n",
       "\n",
       "\n"
      ],
      "text/plain": [
       "95% CI: 0.7026-0.9907 (DeLong)"
      ]
     },
     "metadata": {},
     "output_type": "display_data"
    }
   ],
   "source": [
    "nnetmodelfit<-train(death_binary ~ .,\n",
    "                    data=training,\n",
    "                    method=\"nnet\",\n",
    "                    metric=\"ROC\",\n",
    "                    tuneLength=10,\n",
    "                    trControl=fitControl)\n",
    "\n",
    "nnetmodelfit\n",
    "\n",
    "predictions_train=predict(nnetmodelfit,newdata=training)\n",
    "predictions_test=predict(nnetmodelfit,newdata=testing)\n",
    "confusionMatrix(predict(nnetmodelfit,training),training$death_binary)\n",
    "confusionMatrix(predict(nnetmodelfit,testing),testing$death_binary)\n",
    "\n",
    "train_results=predict(nnetmodelfit,training,type=\"prob\")\n",
    "test_results=predict(nnetmodelfit,testing,type=\"prob\")\n",
    "train_results$obs=training$death_binary\n",
    "train_results$pred=predictions_train\n",
    "test_results$obs=testing$death_binary\n",
    "test_results$pred=predictions_test\n",
    "ROC_train<-roc(training$death_binary,train_results[,\"Death\"],levels=c(\"Survive\",\"Death\"))\n",
    "ROC_test<-roc(testing$death_binary,test_results[,\"Death\"],levels=c(\"Survive\",\"Death\"))\n",
    "ROC_train\n",
    "ci.auc(ROC_train)\n",
    "ROC_test\n",
    "ci.auc(ROC_test)"
   ]
  },
  {
   "cell_type": "markdown",
   "id": "00980e08",
   "metadata": {},
   "source": [
    "### Plot ROC Curve for NNET MODEL"
   ]
  },
  {
   "cell_type": "code",
   "execution_count": 18,
   "id": "6a3d4757",
   "metadata": {},
   "outputs": [
    {
     "data": {
      "image/png": "[encoded data removed]",
      "text/plain": [
       "plot without title"
      ]
     },
     "metadata": {
      "image/png": {
       "height": 420,
       "width": 420
      }
     },
     "output_type": "display_data"
    }
   ],
   "source": [
    "plot(ROC_train)\n",
    "plot(ROC_test,add=TRUE,col=\"red\")"
   ]
  },
  {
   "cell_type": "markdown",
   "id": "b545e27c",
   "metadata": {},
   "source": [
    "### Visualizing neural networks"
   ]
  },
  {
   "cell_type": "code",
   "execution_count": 20,
   "id": "7cbac2dc",
   "metadata": {},
   "outputs": [
    {
     "name": "stderr",
     "output_type": "stream",
     "text": [
      "\u001b[36mi\u001b[39m<U+00A0>SHA-1 hash of file is 74c80bd5ddbc17ab3ae5ece9c0ed9beb612e87ef\n",
      "\n",
      "載入需要的套件：reshape\n",
      "\n",
      "\n",
      "載入套件：'reshape'\n",
      "\n",
      "\n",
      "下列物件被遮斷自 'package:dplyr':\n",
      "\n",
      "    rename\n",
      "\n",
      "\n",
      "下列物件被遮斷自 'package:data.table':\n",
      "\n",
      "    melt\n",
      "\n",
      "\n"
     ]
    },
    {
     "data": {
      "image/png": "[encoded data removed]",
      "text/plain": [
       "plot without title"
      ]
     },
     "metadata": {
      "image/png": {
       "height": 420,
       "width": 420
      }
     },
     "output_type": "display_data"
    }
   ],
   "source": [
    "nnetmodelfit1<-neuralnet(death_binary ~ .,\n",
    "                         data=training,\n",
    "                         hidden=4)\n",
    "\n",
    "source_url('https://gist.githubusercontent.com/fawda123/7471137/raw/466c1474d0a505ff044412703516c34f1a4684a5/nnet_plot_update.r')\n",
    "par(mar=numeric(4),family='serif')\n",
    "plot.nnet(nnetmodelfit1)"
   ]
  },
  {
   "cell_type": "markdown",
   "id": "36b26525",
   "metadata": {},
   "source": [
    "### Support vector machine MODEL"
   ]
  },
  {
   "cell_type": "code",
   "execution_count": 21,
   "id": "9b912a3b",
   "metadata": {},
   "outputs": [
    {
     "name": "stderr",
     "output_type": "stream",
     "text": [
      "Warning message in .local(x, ...):\n",
      "\"Variable(s) `' constant. Cannot scale data.\"\n",
      "Warning message in .local(x, ...):\n",
      "\"Variable(s) `' constant. Cannot scale data.\"\n",
      "Warning message in .local(x, ...):\n",
      "\"Variable(s) `' constant. Cannot scale data.\"\n",
      "Warning message in .local(x, ...):\n",
      "\"Variable(s) `' constant. Cannot scale data.\"\n",
      "Warning message in .local(x, ...):\n",
      "\"Variable(s) `' constant. Cannot scale data.\"\n",
      "Warning message in .local(x, ...):\n",
      "\"Variable(s) `' constant. Cannot scale data.\"\n",
      "Warning message in .local(x, ...):\n",
      "\"Variable(s) `' constant. Cannot scale data.\"\n",
      "Warning message in .local(x, ...):\n",
      "\"Variable(s) `' constant. Cannot scale data.\"\n",
      "Warning message in .local(x, ...):\n",
      "\"Variable(s) `' constant. Cannot scale data.\"\n",
      "Warning message in .local(x, ...):\n",
      "\"Variable(s) `' constant. Cannot scale data.\"\n",
      "Warning message in .local(x, ...):\n",
      "\"Variable(s) `' constant. Cannot scale data.\"\n",
      "Warning message in .local(x, ...):\n",
      "\"Variable(s) `' constant. Cannot scale data.\"\n",
      "Warning message in .local(x, ...):\n",
      "\"Variable(s) `' constant. Cannot scale data.\"\n",
      "Warning message in .local(x, ...):\n",
      "\"Variable(s) `' constant. Cannot scale data.\"\n",
      "Warning message in .local(x, ...):\n",
      "\"Variable(s) `' constant. Cannot scale data.\"\n",
      "Warning message in .local(x, ...):\n",
      "\"Variable(s) `' constant. Cannot scale data.\"\n",
      "Warning message in .local(x, ...):\n",
      "\"Variable(s) `' constant. Cannot scale data.\"\n",
      "Warning message in .local(x, ...):\n",
      "\"Variable(s) `' constant. Cannot scale data.\"\n",
      "Warning message in .local(x, ...):\n",
      "\"Variable(s) `' constant. Cannot scale data.\"\n",
      "Warning message in .local(x, ...):\n",
      "\"Variable(s) `' constant. Cannot scale data.\"\n",
      "Warning message in .local(x, ...):\n",
      "\"Variable(s) `' constant. Cannot scale data.\"\n",
      "Warning message in .local(x, ...):\n",
      "\"Variable(s) `' constant. Cannot scale data.\"\n",
      "Warning message in .local(x, ...):\n",
      "\"Variable(s) `' constant. Cannot scale data.\"\n",
      "Warning message in .local(x, ...):\n",
      "\"Variable(s) `' constant. Cannot scale data.\"\n",
      "Warning message in .local(x, ...):\n",
      "\"Variable(s) `' constant. Cannot scale data.\"\n",
      "Warning message in .local(x, ...):\n",
      "\"Variable(s) `' constant. Cannot scale data.\"\n",
      "Warning message in .local(x, ...):\n",
      "\"Variable(s) `' constant. Cannot scale data.\"\n",
      "Warning message in .local(x, ...):\n",
      "\"Variable(s) `' constant. Cannot scale data.\"\n",
      "Warning message in .local(x, ...):\n",
      "\"Variable(s) `' constant. Cannot scale data.\"\n",
      "Warning message in .local(x, ...):\n",
      "\"Variable(s) `' constant. Cannot scale data.\"\n",
      "Warning message in .local(x, ...):\n",
      "\"Variable(s) `' constant. Cannot scale data.\"\n",
      "Warning message in .local(x, ...):\n",
      "\"Variable(s) `' constant. Cannot scale data.\"\n",
      "Warning message in .local(x, ...):\n",
      "\"Variable(s) `' constant. Cannot scale data.\"\n",
      "Warning message in .local(x, ...):\n",
      "\"Variable(s) `' constant. Cannot scale data.\"\n",
      "Warning message in .local(x, ...):\n",
      "\"Variable(s) `' constant. Cannot scale data.\"\n",
      "Warning message in .local(x, ...):\n",
      "\"Variable(s) `' constant. Cannot scale data.\"\n",
      "Warning message in .local(x, ...):\n",
      "\"Variable(s) `' constant. Cannot scale data.\"\n",
      "Warning message in .local(x, ...):\n",
      "\"Variable(s) `' constant. Cannot scale data.\"\n",
      "Warning message in .local(x, ...):\n",
      "\"Variable(s) `' constant. Cannot scale data.\"\n",
      "Warning message in .local(x, ...):\n",
      "\"Variable(s) `' constant. Cannot scale data.\"\n",
      "Warning message in .local(x, ...):\n",
      "\"Variable(s) `' constant. Cannot scale data.\"\n",
      "Warning message in .local(x, ...):\n",
      "\"Variable(s) `' constant. Cannot scale data.\"\n",
      "Warning message in .local(x, ...):\n",
      "\"Variable(s) `' constant. Cannot scale data.\"\n",
      "Warning message in .local(x, ...):\n",
      "\"Variable(s) `' constant. Cannot scale data.\"\n",
      "Warning message in .local(x, ...):\n",
      "\"Variable(s) `' constant. Cannot scale data.\"\n",
      "Warning message in .local(x, ...):\n",
      "\"Variable(s) `' constant. Cannot scale data.\"\n",
      "Warning message in .local(x, ...):\n",
      "\"Variable(s) `' constant. Cannot scale data.\"\n",
      "Warning message in .local(x, ...):\n",
      "\"Variable(s) `' constant. Cannot scale data.\"\n",
      "Warning message in .local(x, ...):\n",
      "\"Variable(s) `' constant. Cannot scale data.\"\n",
      "Warning message in .local(x, ...):\n",
      "\"Variable(s) `' constant. Cannot scale data.\"\n",
      "Warning message in .local(x, ...):\n",
      "\"Variable(s) `' constant. Cannot scale data.\"\n",
      "Warning message in .local(x, ...):\n",
      "\"Variable(s) `' constant. Cannot scale data.\"\n",
      "Warning message in .local(x, ...):\n",
      "\"Variable(s) `' constant. Cannot scale data.\"\n",
      "Warning message in .local(x, ...):\n",
      "\"Variable(s) `' constant. Cannot scale data.\"\n",
      "Warning message in .local(x, ...):\n",
      "\"Variable(s) `' constant. Cannot scale data.\"\n",
      "Warning message in .local(x, ...):\n",
      "\"Variable(s) `' constant. Cannot scale data.\"\n",
      "Warning message in .local(x, ...):\n",
      "\"Variable(s) `' constant. Cannot scale data.\"\n",
      "Warning message in .local(x, ...):\n",
      "\"Variable(s) `' constant. Cannot scale data.\"\n",
      "Warning message in .local(x, ...):\n",
      "\"Variable(s) `' constant. Cannot scale data.\"\n",
      "Warning message in .local(x, ...):\n",
      "\"Variable(s) `' constant. Cannot scale data.\"\n",
      "Warning message in .local(x, ...):\n",
      "\"Variable(s) `' constant. Cannot scale data.\"\n",
      "Warning message in .local(x, ...):\n",
      "\"Variable(s) `' constant. Cannot scale data.\"\n",
      "Warning message in .local(x, ...):\n",
      "\"Variable(s) `' constant. Cannot scale data.\"\n",
      "Warning message in .local(x, ...):\n",
      "\"Variable(s) `' constant. Cannot scale data.\"\n",
      "Warning message in .local(x, ...):\n",
      "\"Variable(s) `' constant. Cannot scale data.\"\n",
      "Warning message in .local(x, ...):\n",
      "\"Variable(s) `' constant. Cannot scale data.\"\n",
      "Warning message in .local(x, ...):\n",
      "\"Variable(s) `' constant. Cannot scale data.\"\n",
      "Warning message in .local(x, ...):\n",
      "\"Variable(s) `' constant. Cannot scale data.\"\n",
      "Warning message in .local(x, ...):\n",
      "\"Variable(s) `' constant. Cannot scale data.\"\n",
      "Warning message in .local(x, ...):\n",
      "\"Variable(s) `' constant. Cannot scale data.\"\n",
      "Warning message in .local(x, ...):\n",
      "\"Variable(s) `' constant. Cannot scale data.\"\n",
      "Warning message in .local(x, ...):\n",
      "\"Variable(s) `' constant. Cannot scale data.\"\n",
      "Warning message in .local(x, ...):\n",
      "\"Variable(s) `' constant. Cannot scale data.\"\n",
      "Warning message in .local(x, ...):\n",
      "\"Variable(s) `' constant. Cannot scale data.\"\n",
      "Warning message in .local(x, ...):\n",
      "\"Variable(s) `' constant. Cannot scale data.\"\n",
      "Warning message in .local(x, ...):\n",
      "\"Variable(s) `' constant. Cannot scale data.\"\n",
      "Warning message in .local(x, ...):\n",
      "\"Variable(s) `' constant. Cannot scale data.\"\n",
      "Warning message in .local(x, ...):\n",
      "\"Variable(s) `' constant. Cannot scale data.\"\n",
      "Warning message in .local(x, ...):\n",
      "\"Variable(s) `' constant. Cannot scale data.\"\n",
      "Warning message in .local(x, ...):\n",
      "\"Variable(s) `' constant. Cannot scale data.\"\n",
      "Warning message in .local(x, ...):\n",
      "\"Variable(s) `' constant. Cannot scale data.\"\n",
      "Warning message in .local(x, ...):\n",
      "\"Variable(s) `' constant. Cannot scale data.\"\n",
      "Warning message in .local(x, ...):\n",
      "\"Variable(s) `' constant. Cannot scale data.\"\n",
      "Warning message in .local(x, ...):\n",
      "\"Variable(s) `' constant. Cannot scale data.\"\n",
      "Warning message in .local(x, ...):\n",
      "\"Variable(s) `' constant. Cannot scale data.\"\n",
      "Warning message in .local(x, ...):\n",
      "\"Variable(s) `' constant. Cannot scale data.\"\n",
      "Warning message in .local(x, ...):\n",
      "\"Variable(s) `' constant. Cannot scale data.\"\n",
      "Warning message in .local(x, ...):\n",
      "\"Variable(s) `' constant. Cannot scale data.\"\n",
      "Warning message in .local(x, ...):\n",
      "\"Variable(s) `' constant. Cannot scale data.\"\n",
      "Warning message in .local(x, ...):\n",
      "\"Variable(s) `' constant. Cannot scale data.\"\n",
      "Warning message in .local(x, ...):\n",
      "\"Variable(s) `' constant. Cannot scale data.\"\n",
      "Warning message in .local(x, ...):\n",
      "\"Variable(s) `' constant. Cannot scale data.\"\n",
      "Warning message in .local(x, ...):\n",
      "\"Variable(s) `' constant. Cannot scale data.\"\n",
      "Warning message in .local(x, ...):\n",
      "\"Variable(s) `' constant. Cannot scale data.\"\n",
      "Warning message in .local(x, ...):\n",
      "\"Variable(s) `' constant. Cannot scale data.\"\n",
      "Warning message in .local(x, ...):\n",
      "\"Variable(s) `' constant. Cannot scale data.\"\n",
      "Warning message in .local(x, ...):\n",
      "\"Variable(s) `' constant. Cannot scale data.\"\n",
      "Warning message in .local(x, ...):\n",
      "\"Variable(s) `' constant. Cannot scale data.\"\n",
      "Warning message in .local(x, ...):\n",
      "\"Variable(s) `' constant. Cannot scale data.\"\n",
      "Warning message in .local(x, ...):\n",
      "\"Variable(s) `' constant. Cannot scale data.\"\n",
      "Warning message in .local(x, ...):\n",
      "\"Variable(s) `' constant. Cannot scale data.\"\n",
      "Warning message in .local(x, ...):\n",
      "\"Variable(s) `' constant. Cannot scale data.\"\n"
     ]
    },
    {
     "name": "stderr",
     "output_type": "stream",
     "text": [
      "Warning message in .local(x, ...):\n",
      "\"Variable(s) `' constant. Cannot scale data.\"\n",
      "Warning message in .local(x, ...):\n",
      "\"Variable(s) `' constant. Cannot scale data.\"\n",
      "Warning message in .local(x, ...):\n",
      "\"Variable(s) `' constant. Cannot scale data.\"\n",
      "Warning message in .local(x, ...):\n",
      "\"Variable(s) `' constant. Cannot scale data.\"\n",
      "Warning message in .local(x, ...):\n",
      "\"Variable(s) `' constant. Cannot scale data.\"\n",
      "Warning message in .local(x, ...):\n",
      "\"Variable(s) `' constant. Cannot scale data.\"\n",
      "Warning message in .local(x, ...):\n",
      "\"Variable(s) `' constant. Cannot scale data.\"\n",
      "Warning message in .local(x, ...):\n",
      "\"Variable(s) `' constant. Cannot scale data.\"\n",
      "Warning message in .local(x, ...):\n",
      "\"Variable(s) `' constant. Cannot scale data.\"\n",
      "Warning message in .local(x, ...):\n",
      "\"Variable(s) `' constant. Cannot scale data.\"\n",
      "Warning message in .local(x, ...):\n",
      "\"Variable(s) `' constant. Cannot scale data.\"\n",
      "Warning message in .local(x, ...):\n",
      "\"Variable(s) `' constant. Cannot scale data.\"\n",
      "Warning message in .local(x, ...):\n",
      "\"Variable(s) `' constant. Cannot scale data.\"\n",
      "Warning message in .local(x, ...):\n",
      "\"Variable(s) `' constant. Cannot scale data.\"\n",
      "Warning message in .local(x, ...):\n",
      "\"Variable(s) `' constant. Cannot scale data.\"\n",
      "Warning message in .local(x, ...):\n",
      "\"Variable(s) `' constant. Cannot scale data.\"\n",
      "Warning message in .local(x, ...):\n",
      "\"Variable(s) `' constant. Cannot scale data.\"\n",
      "Warning message in .local(x, ...):\n",
      "\"Variable(s) `' constant. Cannot scale data.\"\n",
      "Warning message in .local(x, ...):\n",
      "\"Variable(s) `' constant. Cannot scale data.\"\n",
      "Warning message in .local(x, ...):\n",
      "\"Variable(s) `' constant. Cannot scale data.\"\n",
      "Warning message in .local(x, ...):\n",
      "\"Variable(s) `' constant. Cannot scale data.\"\n",
      "Warning message in .local(x, ...):\n",
      "\"Variable(s) `' constant. Cannot scale data.\"\n",
      "Warning message in .local(x, ...):\n",
      "\"Variable(s) `' constant. Cannot scale data.\"\n",
      "Warning message in .local(x, ...):\n",
      "\"Variable(s) `' constant. Cannot scale data.\"\n",
      "Warning message in .local(x, ...):\n",
      "\"Variable(s) `' constant. Cannot scale data.\"\n",
      "Warning message in .local(x, ...):\n",
      "\"Variable(s) `' constant. Cannot scale data.\"\n",
      "Warning message in .local(x, ...):\n",
      "\"Variable(s) `' constant. Cannot scale data.\"\n",
      "Warning message in .local(x, ...):\n",
      "\"Variable(s) `' constant. Cannot scale data.\"\n",
      "Warning message in .local(x, ...):\n",
      "\"Variable(s) `' constant. Cannot scale data.\"\n",
      "Warning message in .local(x, ...):\n",
      "\"Variable(s) `' constant. Cannot scale data.\"\n",
      "Warning message in .local(x, ...):\n",
      "\"Variable(s) `' constant. Cannot scale data.\"\n",
      "Warning message in .local(x, ...):\n",
      "\"Variable(s) `' constant. Cannot scale data.\"\n",
      "Warning message in .local(x, ...):\n",
      "\"Variable(s) `' constant. Cannot scale data.\"\n",
      "Warning message in .local(x, ...):\n",
      "\"Variable(s) `' constant. Cannot scale data.\"\n",
      "Warning message in .local(x, ...):\n",
      "\"Variable(s) `' constant. Cannot scale data.\"\n",
      "Warning message in .local(x, ...):\n",
      "\"Variable(s) `' constant. Cannot scale data.\"\n",
      "Warning message in .local(x, ...):\n",
      "\"Variable(s) `' constant. Cannot scale data.\"\n",
      "Warning message in .local(x, ...):\n",
      "\"Variable(s) `' constant. Cannot scale data.\"\n",
      "Warning message in .local(x, ...):\n",
      "\"Variable(s) `' constant. Cannot scale data.\"\n",
      "Warning message in .local(x, ...):\n",
      "\"Variable(s) `' constant. Cannot scale data.\"\n",
      "Warning message in .local(x, ...):\n",
      "\"Variable(s) `' constant. Cannot scale data.\"\n",
      "Warning message in .local(x, ...):\n",
      "\"Variable(s) `' constant. Cannot scale data.\"\n",
      "Warning message in .local(x, ...):\n",
      "\"Variable(s) `' constant. Cannot scale data.\"\n",
      "Warning message in .local(x, ...):\n",
      "\"Variable(s) `' constant. Cannot scale data.\"\n",
      "Warning message in .local(x, ...):\n",
      "\"Variable(s) `' constant. Cannot scale data.\"\n",
      "Warning message in .local(x, ...):\n",
      "\"Variable(s) `' constant. Cannot scale data.\"\n",
      "Warning message in .local(x, ...):\n",
      "\"Variable(s) `' constant. Cannot scale data.\"\n",
      "Warning message in .local(x, ...):\n",
      "\"Variable(s) `' constant. Cannot scale data.\"\n",
      "Warning message in .local(x, ...):\n",
      "\"Variable(s) `' constant. Cannot scale data.\"\n",
      "Warning message in .local(x, ...):\n",
      "\"Variable(s) `' constant. Cannot scale data.\"\n",
      "Warning message in .local(x, ...):\n",
      "\"Variable(s) `' constant. Cannot scale data.\"\n",
      "Warning message in .local(x, ...):\n",
      "\"Variable(s) `' constant. Cannot scale data.\"\n",
      "Warning message in .local(x, ...):\n",
      "\"Variable(s) `' constant. Cannot scale data.\"\n",
      "Warning message in .local(x, ...):\n",
      "\"Variable(s) `' constant. Cannot scale data.\"\n",
      "Warning message in .local(x, ...):\n",
      "\"Variable(s) `' constant. Cannot scale data.\"\n",
      "Warning message in .local(x, ...):\n",
      "\"Variable(s) `' constant. Cannot scale data.\"\n",
      "Warning message in .local(x, ...):\n",
      "\"Variable(s) `' constant. Cannot scale data.\"\n",
      "Warning message in .local(x, ...):\n",
      "\"Variable(s) `' constant. Cannot scale data.\"\n",
      "Warning message in .local(x, ...):\n",
      "\"Variable(s) `' constant. Cannot scale data.\"\n",
      "Warning message in .local(x, ...):\n",
      "\"Variable(s) `' constant. Cannot scale data.\"\n",
      "Warning message in .local(x, ...):\n",
      "\"Variable(s) `' constant. Cannot scale data.\"\n",
      "Warning message in .local(x, ...):\n",
      "\"Variable(s) `' constant. Cannot scale data.\"\n",
      "Warning message in .local(x, ...):\n",
      "\"Variable(s) `' constant. Cannot scale data.\"\n",
      "Warning message in .local(x, ...):\n",
      "\"Variable(s) `' constant. Cannot scale data.\"\n",
      "Warning message in .local(x, ...):\n",
      "\"Variable(s) `' constant. Cannot scale data.\"\n",
      "Warning message in .local(x, ...):\n",
      "\"Variable(s) `' constant. Cannot scale data.\"\n",
      "Warning message in .local(x, ...):\n",
      "\"Variable(s) `' constant. Cannot scale data.\"\n",
      "Warning message in .local(x, ...):\n",
      "\"Variable(s) `' constant. Cannot scale data.\"\n",
      "Warning message in .local(x, ...):\n",
      "\"Variable(s) `' constant. Cannot scale data.\"\n",
      "Warning message in .local(x, ...):\n",
      "\"Variable(s) `' constant. Cannot scale data.\"\n",
      "Warning message in .local(x, ...):\n",
      "\"Variable(s) `' constant. Cannot scale data.\"\n",
      "Warning message in .local(x, ...):\n",
      "\"Variable(s) `' constant. Cannot scale data.\"\n",
      "Warning message in .local(x, ...):\n",
      "\"Variable(s) `' constant. Cannot scale data.\"\n",
      "Warning message in .local(x, ...):\n",
      "\"Variable(s) `' constant. Cannot scale data.\"\n",
      "Warning message in .local(x, ...):\n",
      "\"Variable(s) `' constant. Cannot scale data.\"\n",
      "Warning message in .local(x, ...):\n",
      "\"Variable(s) `' constant. Cannot scale data.\"\n",
      "Warning message in .local(x, ...):\n",
      "\"Variable(s) `' constant. Cannot scale data.\"\n",
      "Warning message in .local(x, ...):\n",
      "\"Variable(s) `' constant. Cannot scale data.\"\n",
      "Warning message in .local(x, ...):\n",
      "\"Variable(s) `' constant. Cannot scale data.\"\n",
      "Warning message in .local(x, ...):\n",
      "\"Variable(s) `' constant. Cannot scale data.\"\n",
      "Warning message in .local(x, ...):\n",
      "\"Variable(s) `' constant. Cannot scale data.\"\n",
      "Warning message in .local(x, ...):\n",
      "\"Variable(s) `' constant. Cannot scale data.\"\n",
      "Warning message in .local(x, ...):\n",
      "\"Variable(s) `' constant. Cannot scale data.\"\n",
      "Warning message in .local(x, ...):\n",
      "\"Variable(s) `' constant. Cannot scale data.\"\n",
      "Warning message in .local(x, ...):\n",
      "\"Variable(s) `' constant. Cannot scale data.\"\n",
      "Warning message in .local(x, ...):\n",
      "\"Variable(s) `' constant. Cannot scale data.\"\n",
      "Warning message in .local(x, ...):\n",
      "\"Variable(s) `' constant. Cannot scale data.\"\n",
      "Warning message in .local(x, ...):\n",
      "\"Variable(s) `' constant. Cannot scale data.\"\n",
      "Warning message in .local(x, ...):\n",
      "\"Variable(s) `' constant. Cannot scale data.\"\n",
      "Warning message in .local(x, ...):\n",
      "\"Variable(s) `' constant. Cannot scale data.\"\n",
      "Warning message in .local(x, ...):\n",
      "\"Variable(s) `' constant. Cannot scale data.\"\n",
      "Warning message in .local(x, ...):\n",
      "\"Variable(s) `' constant. Cannot scale data.\"\n",
      "Warning message in .local(x, ...):\n",
      "\"Variable(s) `' constant. Cannot scale data.\"\n",
      "Warning message in .local(x, ...):\n",
      "\"Variable(s) `' constant. Cannot scale data.\"\n",
      "Warning message in .local(x, ...):\n",
      "\"Variable(s) `' constant. Cannot scale data.\"\n",
      "Warning message in .local(x, ...):\n",
      "\"Variable(s) `' constant. Cannot scale data.\"\n",
      "Warning message in .local(x, ...):\n",
      "\"Variable(s) `' constant. Cannot scale data.\"\n",
      "Warning message in .local(x, ...):\n",
      "\"Variable(s) `' constant. Cannot scale data.\"\n",
      "Warning message in .local(x, ...):\n",
      "\"Variable(s) `' constant. Cannot scale data.\"\n",
      "Warning message in .local(x, ...):\n",
      "\"Variable(s) `' constant. Cannot scale data.\"\n",
      "Warning message in .local(x, ...):\n",
      "\"Variable(s) `' constant. Cannot scale data.\"\n",
      "Warning message in .local(x, ...):\n",
      "\"Variable(s) `' constant. Cannot scale data.\"\n"
     ]
    },
    {
     "name": "stderr",
     "output_type": "stream",
     "text": [
      "Warning message in .local(x, ...):\n",
      "\"Variable(s) `' constant. Cannot scale data.\"\n",
      "Warning message in .local(x, ...):\n",
      "\"Variable(s) `' constant. Cannot scale data.\"\n",
      "Warning message in .local(x, ...):\n",
      "\"Variable(s) `' constant. Cannot scale data.\"\n",
      "Warning message in .local(x, ...):\n",
      "\"Variable(s) `' constant. Cannot scale data.\"\n",
      "Warning message in .local(x, ...):\n",
      "\"Variable(s) `' constant. Cannot scale data.\"\n",
      "Warning message in .local(x, ...):\n",
      "\"Variable(s) `' constant. Cannot scale data.\"\n",
      "Warning message in .local(x, ...):\n",
      "\"Variable(s) `' constant. Cannot scale data.\"\n",
      "Warning message in .local(x, ...):\n",
      "\"Variable(s) `' constant. Cannot scale data.\"\n",
      "Warning message in .local(x, ...):\n",
      "\"Variable(s) `' constant. Cannot scale data.\"\n",
      "Warning message in .local(x, ...):\n",
      "\"Variable(s) `' constant. Cannot scale data.\"\n",
      "Warning message in .local(x, ...):\n",
      "\"Variable(s) `' constant. Cannot scale data.\"\n",
      "Warning message in .local(x, ...):\n",
      "\"Variable(s) `' constant. Cannot scale data.\"\n",
      "Warning message in .local(x, ...):\n",
      "\"Variable(s) `' constant. Cannot scale data.\"\n",
      "Warning message in .local(x, ...):\n",
      "\"Variable(s) `' constant. Cannot scale data.\"\n",
      "Warning message in .local(x, ...):\n",
      "\"Variable(s) `' constant. Cannot scale data.\"\n",
      "Warning message in .local(x, ...):\n",
      "\"Variable(s) `' constant. Cannot scale data.\"\n",
      "Warning message in .local(x, ...):\n",
      "\"Variable(s) `' constant. Cannot scale data.\"\n",
      "Warning message in .local(x, ...):\n",
      "\"Variable(s) `' constant. Cannot scale data.\"\n",
      "Warning message in .local(x, ...):\n",
      "\"Variable(s) `' constant. Cannot scale data.\"\n",
      "Warning message in .local(x, ...):\n",
      "\"Variable(s) `' constant. Cannot scale data.\"\n",
      "Warning message in .local(x, ...):\n",
      "\"Variable(s) `' constant. Cannot scale data.\"\n",
      "Warning message in .local(x, ...):\n",
      "\"Variable(s) `' constant. Cannot scale data.\"\n",
      "Warning message in .local(x, ...):\n",
      "\"Variable(s) `' constant. Cannot scale data.\"\n",
      "Warning message in .local(x, ...):\n",
      "\"Variable(s) `' constant. Cannot scale data.\"\n",
      "Warning message in .local(x, ...):\n",
      "\"Variable(s) `' constant. Cannot scale data.\"\n",
      "Warning message in .local(x, ...):\n",
      "\"Variable(s) `' constant. Cannot scale data.\"\n",
      "Warning message in .local(x, ...):\n",
      "\"Variable(s) `' constant. Cannot scale data.\"\n",
      "Warning message in .local(x, ...):\n",
      "\"Variable(s) `' constant. Cannot scale data.\"\n",
      "Warning message in .local(x, ...):\n",
      "\"Variable(s) `' constant. Cannot scale data.\"\n",
      "Warning message in .local(x, ...):\n",
      "\"Variable(s) `' constant. Cannot scale data.\"\n",
      "Warning message in .local(x, ...):\n",
      "\"Variable(s) `' constant. Cannot scale data.\"\n",
      "Warning message in .local(x, ...):\n",
      "\"Variable(s) `' constant. Cannot scale data.\"\n",
      "Warning message in .local(x, ...):\n",
      "\"Variable(s) `' constant. Cannot scale data.\"\n",
      "Warning message in .local(x, ...):\n",
      "\"Variable(s) `' constant. Cannot scale data.\"\n",
      "Warning message in .local(x, ...):\n",
      "\"Variable(s) `' constant. Cannot scale data.\"\n",
      "Warning message in .local(x, ...):\n",
      "\"Variable(s) `' constant. Cannot scale data.\"\n",
      "Warning message in .local(x, ...):\n",
      "\"Variable(s) `' constant. Cannot scale data.\"\n",
      "Warning message in .local(x, ...):\n",
      "\"Variable(s) `' constant. Cannot scale data.\"\n",
      "Warning message in .local(x, ...):\n",
      "\"Variable(s) `' constant. Cannot scale data.\"\n",
      "Warning message in .local(x, ...):\n",
      "\"Variable(s) `' constant. Cannot scale data.\"\n",
      "Warning message in .local(x, ...):\n",
      "\"Variable(s) `' constant. Cannot scale data.\"\n",
      "Warning message in .local(x, ...):\n",
      "\"Variable(s) `' constant. Cannot scale data.\"\n",
      "Warning message in .local(x, ...):\n",
      "\"Variable(s) `' constant. Cannot scale data.\"\n",
      "Warning message in .local(x, ...):\n",
      "\"Variable(s) `' constant. Cannot scale data.\"\n",
      "Warning message in .local(x, ...):\n",
      "\"Variable(s) `' constant. Cannot scale data.\"\n",
      "Warning message in .local(x, ...):\n",
      "\"Variable(s) `' constant. Cannot scale data.\"\n",
      "Warning message in .local(x, ...):\n",
      "\"Variable(s) `' constant. Cannot scale data.\"\n",
      "Warning message in .local(x, ...):\n",
      "\"Variable(s) `' constant. Cannot scale data.\"\n"
     ]
    },
    {
     "data": {
      "text/plain": [
       "Support Vector Machines with Radial Basis Function Kernel \n",
       "\n",
       "389 samples\n",
       "221 predictors\n",
       "  2 classes: 'Death', 'Survive' \n",
       "\n",
       "No pre-processing\n",
       "Resampling: Cross-Validated (5 fold, repeated 5 times) \n",
       "Summary of sample sizes: 310, 311, 312, 311, 312, 312, ... \n",
       "Resampling results across tuning parameters:\n",
       "\n",
       "  sigma        C             ROC        Sens        Spec     \n",
       "  0.001119309    0.53340739  0.8796764  0.30190476  0.9837246\n",
       "  0.002118651    7.09375703  0.8923897  0.21904762  0.9871205\n",
       "  0.002329079   40.27182064  0.8848159  0.14095238  0.9899374\n",
       "  0.002340036    0.37162787  0.8714796  0.30761905  0.9842723\n",
       "  0.006806085  333.41244895  0.8800866  0.04476190  0.9893505\n",
       "  0.011513395    5.70928699  0.8708423  0.03238095  0.9910329\n",
       "  0.014806552    1.59286730  0.8671371  0.01333333  0.9960876\n",
       "  0.018558047   29.49917971  0.8559870  0.02666667  0.9949531\n",
       "  0.020383199    0.05575357  0.8563431  0.01333333  0.9977621\n",
       "  0.021092788   18.49492439  0.8506424  0.01333333  0.9944053\n",
       "\n",
       "ROC was used to select the optimal model using the largest value.\n",
       "The final values used for the model were sigma = 0.002118651 and C = 7.093757."
      ]
     },
     "metadata": {},
     "output_type": "display_data"
    },
    {
     "data": {
      "text/plain": [
       "Confusion Matrix and Statistics\n",
       "\n",
       "          Reference\n",
       "Prediction Death Survive\n",
       "   Death      22       0\n",
       "   Survive    10     357\n",
       "                                          \n",
       "               Accuracy : 0.9743          \n",
       "                 95% CI : (0.9532, 0.9876)\n",
       "    No Information Rate : 0.9177          \n",
       "    P-Value [Acc > NIR] : 2.855e-06       \n",
       "                                          \n",
       "                  Kappa : 0.8015          \n",
       "                                          \n",
       " Mcnemar's Test P-Value : 0.004427        \n",
       "                                          \n",
       "            Sensitivity : 0.68750         \n",
       "            Specificity : 1.00000         \n",
       "         Pos Pred Value : 1.00000         \n",
       "         Neg Pred Value : 0.97275         \n",
       "             Prevalence : 0.08226         \n",
       "         Detection Rate : 0.05656         \n",
       "   Detection Prevalence : 0.05656         \n",
       "      Balanced Accuracy : 0.84375         \n",
       "                                          \n",
       "       'Positive' Class : Death           \n",
       "                                          "
      ]
     },
     "metadata": {},
     "output_type": "display_data"
    },
    {
     "data": {
      "text/plain": [
       "Confusion Matrix and Statistics\n",
       "\n",
       "          Reference\n",
       "Prediction Death Survive\n",
       "   Death       3       1\n",
       "   Survive    10     152\n",
       "                                          \n",
       "               Accuracy : 0.9337          \n",
       "                 95% CI : (0.8845, 0.9665)\n",
       "    No Information Rate : 0.9217          \n",
       "    P-Value [Acc > NIR] : 0.34483         \n",
       "                                          \n",
       "                  Kappa : 0.3282          \n",
       "                                          \n",
       " Mcnemar's Test P-Value : 0.01586         \n",
       "                                          \n",
       "            Sensitivity : 0.23077         \n",
       "            Specificity : 0.99346         \n",
       "         Pos Pred Value : 0.75000         \n",
       "         Neg Pred Value : 0.93827         \n",
       "             Prevalence : 0.07831         \n",
       "         Detection Rate : 0.01807         \n",
       "   Detection Prevalence : 0.02410         \n",
       "      Balanced Accuracy : 0.61212         \n",
       "                                          \n",
       "       'Positive' Class : Death           \n",
       "                                          "
      ]
     },
     "metadata": {},
     "output_type": "display_data"
    },
    {
     "name": "stderr",
     "output_type": "stream",
     "text": [
      "Setting direction: controls < cases\n",
      "\n",
      "Setting direction: controls < cases\n",
      "\n"
     ]
    },
    {
     "data": {
      "text/plain": [
       "\n",
       "Call:\n",
       "roc.default(response = training$death, predictor = train_results[,     \"Death\"], levels = c(\"Survive\", \"Death\"))\n",
       "\n",
       "Data: train_results[, \"Death\"] in 357 controls (training$death Survive) < 32 cases (training$death Death).\n",
       "Area under the curve: 1"
      ]
     },
     "metadata": {},
     "output_type": "display_data"
    },
    {
     "name": "stderr",
     "output_type": "stream",
     "text": [
      "Warning message in ci.auc.roc(ROC_train):\n",
      "\"ci.auc() of a ROC curve with AUC == 1 is always 1-1 and can be misleading.\"\n"
     ]
    },
    {
     "data": {
      "text/html": [
       "<style>\n",
       ".list-inline {list-style: none; margin:0; padding: 0}\n",
       ".list-inline>li {display: inline-block}\n",
       ".list-inline>li:not(:last-child)::after {content: \"\\00b7\"; padding: 0 .5ex}\n",
       "</style>\n",
       "<ol class=list-inline><li>1</li><li>1</li><li>1</li></ol>\n"
      ],
      "text/latex": [
       "\\begin{enumerate*}\n",
       "\\item 1\n",
       "\\item 1\n",
       "\\item 1\n",
       "\\end{enumerate*}\n"
      ],
      "text/markdown": [
       "1. 1\n",
       "2. 1\n",
       "3. 1\n",
       "\n",
       "\n"
      ],
      "text/plain": [
       "95% CI: 1-1 (DeLong)"
      ]
     },
     "metadata": {},
     "output_type": "display_data"
    },
    {
     "data": {
      "text/plain": [
       "\n",
       "Call:\n",
       "roc.default(response = testing$death, predictor = test_results[,     \"Death\"], levels = c(\"Survive\", \"Death\"))\n",
       "\n",
       "Data: test_results[, \"Death\"] in 153 controls (testing$death Survive) < 13 cases (testing$death Death).\n",
       "Area under the curve: 0.8632"
      ]
     },
     "metadata": {},
     "output_type": "display_data"
    },
    {
     "data": {
      "text/html": [
       "<style>\n",
       ".list-inline {list-style: none; margin:0; padding: 0}\n",
       ".list-inline>li {display: inline-block}\n",
       ".list-inline>li:not(:last-child)::after {content: \"\\00b7\"; padding: 0 .5ex}\n",
       "</style>\n",
       "<ol class=list-inline><li>0.722111672843864</li><li>0.863247863247863</li><li>1</li></ol>\n"
      ],
      "text/latex": [
       "\\begin{enumerate*}\n",
       "\\item 0.722111672843864\n",
       "\\item 0.863247863247863\n",
       "\\item 1\n",
       "\\end{enumerate*}\n"
      ],
      "text/markdown": [
       "1. 0.722111672843864\n",
       "2. 0.863247863247863\n",
       "3. 1\n",
       "\n",
       "\n"
      ],
      "text/plain": [
       "95% CI: 0.7221-1 (DeLong)"
      ]
     },
     "metadata": {},
     "output_type": "display_data"
    }
   ],
   "source": [
    "svmmodelfit<-train(death_binary ~ .,\n",
    "                   data=training,\n",
    "                   method=\"svmRadial\",\n",
    "                   metric=\"ROC\",\n",
    "                   tuneLength=10,\n",
    "                   trControl=fitControl)\n",
    "\n",
    "svmmodelfit\n",
    "\n",
    "predictions_train=predict(svmmodelfit,newdata=training)\n",
    "predictions_test=predict(svmmodelfit,newdata=testing)\n",
    "confusionMatrix(predict(svmmodelfit,training),training$death)\n",
    "confusionMatrix(predict(svmmodelfit,testing),testing$death)\n",
    "\n",
    "train_results=predict(svmmodelfit,training,type=\"prob\")\n",
    "test_results=predict(svmmodelfit,testing,type=\"prob\")\n",
    "train_results$obs=training$death\n",
    "train_results$pred=predictions_train\n",
    "test_results$obs=testing$death\n",
    "test_results$pred=predictions_test\n",
    "ROC_train<-roc(training$death,train_results[,\"Death\"],levels=c(\"Survive\",\"Death\"))\n",
    "ROC_test<-roc(testing$death,test_results[,\"Death\"],levels=c(\"Survive\",\"Death\"))\n",
    "ROC_train\n",
    "ci.auc(ROC_train)\n",
    "ROC_test\n",
    "ci.auc(ROC_test)"
   ]
  },
  {
   "cell_type": "markdown",
   "id": "94048029",
   "metadata": {},
   "source": [
    "### Plot ROC Curve for SVM MODEL"
   ]
  },
  {
   "cell_type": "code",
   "execution_count": 22,
   "id": "571650c3",
   "metadata": {},
   "outputs": [
    {
     "data": {
      "image/png": "[encoded data removed]",
      "text/plain": [
       "plot without title"
      ]
     },
     "metadata": {
      "image/png": {
       "height": 420,
       "width": 420
      }
     },
     "output_type": "display_data"
    }
   ],
   "source": [
    "plot(ROC_train)\n",
    "plot(ROC_test,add=TRUE,col=\"red\")"
   ]
  },
  {
   "cell_type": "markdown",
   "id": "ae3e8784",
   "metadata": {},
   "source": [
    "### EXtreme Gradient Boosting MODEL"
   ]
  },
  {
   "cell_type": "code",
   "execution_count": 23,
   "id": "4a4c5e97",
   "metadata": {},
   "outputs": [
    {
     "data": {
      "text/plain": [
       "eXtreme Gradient Boosting \n",
       "\n",
       "389 samples\n",
       "221 predictors\n",
       "  2 classes: 'Death', 'Survive' \n",
       "\n",
       "No pre-processing\n",
       "Resampling: Cross-Validated (5 fold, repeated 5 times) \n",
       "Summary of sample sizes: 311, 310, 312, 312, 311, 312, ... \n",
       "Resampling results across tuning parameters:\n",
       "\n",
       "  eta        max_depth  gamma      colsample_bytree  min_child_weight\n",
       "  0.0779666  4          2.4714032  0.6496652          5              \n",
       "  0.1316450  3          9.1523608  0.5003962          1              \n",
       "  0.1474716  1          0.7574930  0.4237192          0              \n",
       "  0.2725314  1          1.9523117  0.3508468         20              \n",
       "  0.3579528  1          7.7262955  0.4969313          8              \n",
       "  0.3599751  4          6.8368647  0.5617849          1              \n",
       "  0.4047378  7          8.6042461  0.5689045          4              \n",
       "  0.4797515  5          5.3716157  0.4543582          8              \n",
       "  0.5552330  5          0.5947495  0.3284182         13              \n",
       "  0.5904911  3          3.9332384  0.6224407          6              \n",
       "  subsample  nrounds  ROC        Sens        Spec     \n",
       "  0.2936368  716      0.8266888  0.00000000  1.0000000\n",
       "  0.4648742  314      0.8409287  0.08190476  0.9938576\n",
       "  0.8570004  729      0.8290644  0.20190476  0.9787089\n",
       "  0.5404454  302      0.5526291  0.00000000  1.0000000\n",
       "  0.9340386  438      0.8246714  0.00000000  0.9971987\n",
       "  0.6974851  570      0.8064733  0.14666667  0.9859937\n",
       "  0.9427387  881      0.8291307  0.07142857  0.9944131\n",
       "  0.3035808  774      0.5187520  0.00000000  1.0000000\n",
       "  0.9696594  772      0.8332794  0.00000000  1.0000000\n",
       "  0.3178235  957      0.7036524  0.00000000  1.0000000\n",
       "\n",
       "ROC was used to select the optimal model using the largest value.\n",
       "The final values used for the model were nrounds = 314, max_depth = 3, eta\n",
       " = 0.131645, gamma = 9.152361, colsample_bytree = 0.5003962, min_child_weight\n",
       " = 1 and subsample = 0.4648742."
      ]
     },
     "metadata": {},
     "output_type": "display_data"
    },
    {
     "data": {
      "text/plain": [
       "Confusion Matrix and Statistics\n",
       "\n",
       "          Reference\n",
       "Prediction Death Survive\n",
       "   Death      12       0\n",
       "   Survive    20     357\n",
       "                                          \n",
       "               Accuracy : 0.9486          \n",
       "                 95% CI : (0.9217, 0.9683)\n",
       "    No Information Rate : 0.9177          \n",
       "    P-Value [Acc > NIR] : 0.0128          \n",
       "                                          \n",
       "                  Kappa : 0.5241          \n",
       "                                          \n",
       " Mcnemar's Test P-Value : 2.152e-05       \n",
       "                                          \n",
       "            Sensitivity : 0.37500         \n",
       "            Specificity : 1.00000         \n",
       "         Pos Pred Value : 1.00000         \n",
       "         Neg Pred Value : 0.94695         \n",
       "             Prevalence : 0.08226         \n",
       "         Detection Rate : 0.03085         \n",
       "   Detection Prevalence : 0.03085         \n",
       "      Balanced Accuracy : 0.68750         \n",
       "                                          \n",
       "       'Positive' Class : Death           \n",
       "                                          "
      ]
     },
     "metadata": {},
     "output_type": "display_data"
    },
    {
     "data": {
      "text/plain": [
       "Confusion Matrix and Statistics\n",
       "\n",
       "          Reference\n",
       "Prediction Death Survive\n",
       "   Death       1       1\n",
       "   Survive    12     152\n",
       "                                          \n",
       "               Accuracy : 0.9217          \n",
       "                 95% CI : (0.8698, 0.9576)\n",
       "    No Information Rate : 0.9217          \n",
       "    P-Value [Acc > NIR] : 0.573105        \n",
       "                                          \n",
       "                  Kappa : 0.1148          \n",
       "                                          \n",
       " Mcnemar's Test P-Value : 0.005546        \n",
       "                                          \n",
       "            Sensitivity : 0.076923        \n",
       "            Specificity : 0.993464        \n",
       "         Pos Pred Value : 0.500000        \n",
       "         Neg Pred Value : 0.926829        \n",
       "             Prevalence : 0.078313        \n",
       "         Detection Rate : 0.006024        \n",
       "   Detection Prevalence : 0.012048        \n",
       "      Balanced Accuracy : 0.535194        \n",
       "                                          \n",
       "       'Positive' Class : Death           \n",
       "                                          "
      ]
     },
     "metadata": {},
     "output_type": "display_data"
    },
    {
     "name": "stderr",
     "output_type": "stream",
     "text": [
      "Setting direction: controls < cases\n",
      "\n",
      "Setting direction: controls < cases\n",
      "\n"
     ]
    },
    {
     "data": {
      "text/plain": [
       "\n",
       "Call:\n",
       "roc.default(response = training$death, predictor = train_results[,     \"Death\"], levels = c(\"Survive\", \"Death\"))\n",
       "\n",
       "Data: train_results[, \"Death\"] in 357 controls (training$death Survive) < 32 cases (training$death Death).\n",
       "Area under the curve: 0.9697"
      ]
     },
     "metadata": {},
     "output_type": "display_data"
    },
    {
     "data": {
      "text/html": [
       "<style>\n",
       ".list-inline {list-style: none; margin:0; padding: 0}\n",
       ".list-inline>li {display: inline-block}\n",
       ".list-inline>li:not(:last-child)::after {content: \"\\00b7\"; padding: 0 .5ex}\n",
       "</style>\n",
       "<ol class=list-inline><li>0.950035012318443</li><li>0.969712885154062</li><li>0.989390757989681</li></ol>\n"
      ],
      "text/latex": [
       "\\begin{enumerate*}\n",
       "\\item 0.950035012318443\n",
       "\\item 0.969712885154062\n",
       "\\item 0.989390757989681\n",
       "\\end{enumerate*}\n"
      ],
      "text/markdown": [
       "1. 0.950035012318443\n",
       "2. 0.969712885154062\n",
       "3. 0.989390757989681\n",
       "\n",
       "\n"
      ],
      "text/plain": [
       "95% CI: 0.95-0.9894 (DeLong)"
      ]
     },
     "metadata": {},
     "output_type": "display_data"
    },
    {
     "data": {
      "text/plain": [
       "\n",
       "Call:\n",
       "roc.default(response = testing$death, predictor = test_results[,     \"Death\"], levels = c(\"Survive\", \"Death\"))\n",
       "\n",
       "Data: test_results[, \"Death\"] in 153 controls (testing$death Survive) < 13 cases (testing$death Death).\n",
       "Area under the curve: 0.8638"
      ]
     },
     "metadata": {},
     "output_type": "display_data"
    },
    {
     "data": {
      "text/html": [
       "<style>\n",
       ".list-inline {list-style: none; margin:0; padding: 0}\n",
       ".list-inline>li {display: inline-block}\n",
       ".list-inline>li:not(:last-child)::after {content: \"\\00b7\"; padding: 0 .5ex}\n",
       "</style>\n",
       "<ol class=list-inline><li>0.777709816153313</li><li>0.863750628456511</li><li>0.949791440759709</li></ol>\n"
      ],
      "text/latex": [
       "\\begin{enumerate*}\n",
       "\\item 0.777709816153313\n",
       "\\item 0.863750628456511\n",
       "\\item 0.949791440759709\n",
       "\\end{enumerate*}\n"
      ],
      "text/markdown": [
       "1. 0.777709816153313\n",
       "2. 0.863750628456511\n",
       "3. 0.949791440759709\n",
       "\n",
       "\n"
      ],
      "text/plain": [
       "95% CI: 0.7777-0.9498 (DeLong)"
      ]
     },
     "metadata": {},
     "output_type": "display_data"
    }
   ],
   "source": [
    "XgbTreemodelfit<-train(death_binary ~.,\n",
    "                       data=training,\n",
    "                       method=\"xgbTree\",\n",
    "                       metric=\"ROC\",\n",
    "                       tuneLength=10,\n",
    "                       trControl=fitControl)\n",
    "\n",
    "XgbTreemodelfit\n",
    "\n",
    "predictions_train=predict(XgbTreemodelfit,newdata=training)\n",
    "predictions_test=predict(XgbTreemodelfit,newdata=testing)\n",
    "confusionMatrix(predict(XgbTreemodelfit,training),training$death)\n",
    "confusionMatrix(predict(XgbTreemodelfit,testing),testing$death)\n",
    "\n",
    "train_results=predict(XgbTreemodelfit,training,type=\"prob\")\n",
    "test_results=predict(XgbTreemodelfit,testing,type=\"prob\")\n",
    "train_results$obs=training$death\n",
    "train_results$pred=predictions_train\n",
    "test_results$obs=testing$death\n",
    "test_results$pred=predictions_test\n",
    "ROC_train<-roc(training$death,train_results[,\"Death\"],levels=c(\"Survive\",\"Death\"))\n",
    "ROC_test<-roc(testing$death,test_results[,\"Death\"],levels=c(\"Survive\",\"Death\"))\n",
    "ROC_train\n",
    "ci.auc(ROC_train)\n",
    "ROC_test\n",
    "ci.auc(ROC_test)"
   ]
  },
  {
   "cell_type": "markdown",
   "id": "bf8cf989",
   "metadata": {},
   "source": [
    "### Plot ROC Curve for XGBoost MODEL"
   ]
  },
  {
   "cell_type": "code",
   "execution_count": 24,
   "id": "202ca71a",
   "metadata": {},
   "outputs": [
    {
     "data": {
      "image/png": "[encoded data removed]",
      "text/plain": [
       "plot without title"
      ]
     },
     "metadata": {
      "image/png": {
       "height": 420,
       "width": 420
      }
     },
     "output_type": "display_data"
    }
   ],
   "source": [
    "plot(ROC_train)\n",
    "plot(ROC_test,add=TRUE,col=\"red\")"
   ]
  },
  {
   "cell_type": "markdown",
   "id": "b8ddd83a",
   "metadata": {},
   "source": [
    "### SHAP for XGBoost"
   ]
  },
  {
   "cell_type": "code",
   "execution_count": 25,
   "id": "3e1a1ad2",
   "metadata": {},
   "outputs": [
    {
     "data": {
      "text/html": [
       "<style>\n",
       ".dl-inline {width: auto; margin:0; padding: 0}\n",
       ".dl-inline>dt, .dl-inline>dd {float: none; width: auto; display: inline-block}\n",
       ".dl-inline>dt::after {content: \":\\0020\"; padding-right: .5ex}\n",
       ".dl-inline>dt:not(:first-of-type) {padding-left: .5ex}\n",
       "</style><dl class=dl-inline><dt>sofa_score</dt><dd>0.0532477792354832</dd><dt>Na</dt><dd>0.0390200620962446</dd><dt>il8_norm</dt><dd>0.018025700090295</dd><dt>rbc</dt><dd>0.0131249182751632</dd><dt>pco2</dt><dd>0.0113061605006993</dd><dt>cd64_norm</dt><dd>0.0110638979104154</dd><dt>tmp</dt><dd>0.00654921538626253</dd><dt>wbc_center15</dt><dd>0.00488840396576477</dd><dt>age</dt><dd>0.00352672588620048</dd><dt>icam1_norm</dt><dd>0.00347018049063836</dd><dt>sbp_center120</dt><dd>0.00323038903656978</dd><dt>pulse_center100</dt><dd>0</dd><dt>dbp_center75</dt><dd>0</dd><dt>rr_center18</dt><dd>0</dd><dt>spao2</dt><dd>0</dd><dt>map_center100</dt><dd>0</dd><dt>gcs</dt><dd>0</dd><dt>angiopoietin2_norm</dt><dd>0</dd><dt>il6_norm</dt><dd>0</dd><dt>tnfa_norm</dt><dd>0</dd><dt>scd163_norm</dt><dd>0</dd><dt>il10_norm</dt><dd>0</dd><dt>pentraxin3_norm</dt><dd>0</dd><dt>ifnr_norm</dt><dd>0</dd><dt>cd14_norm</dt><dd>0</dd><dt>trem1_norm</dt><dd>0</dd><dt>eselectin_norm</dt><dd>0</dd><dt>pselectin_norm</dt><dd>0</dd><dt>vcam1_norm</dt><dd>0</dd><dt>sugar_fs_center180</dt><dd>0</dd><dt>pct</dt><dd>0</dd><dt>crp</dt><dd>0</dd><dt>lactate</dt><dd>0</dd><dt>alb</dt><dd>0</dd><dt>aptt_center30</dt><dd>0</dd><dt>pt</dt><dd>0</dd><dt>inr</dt><dd>0</dd><dt>bilt</dt><dd>0</dd><dt>bun</dt><dd>0</dd><dt>ast</dt><dd>0</dd><dt>inorp_center3</dt><dd>0</dd><dt>tro</dt><dd>0</dd><dt>ddimer</dt><dd>0</dd><dt>cortisol</dt><dd>0</dd><dt>ca_center8.75</dt><dd>0</dd><dt>cl</dt><dd>0</dd><dt>uric</dt><dd>0</dd><dt>c3</dt><dd>0</dd><dt>proteinc_center75</dt><dd>0</dd><dt>po2</dt><dd>0</dd><dt>sat</dt><dd>0</dd><dt>hco3_center25</dt><dd>0</dd><dt>ph</dt><dd>0</dd><dt>tco2</dt><dd>0</dd><dt>abe</dt><dd>0</dd><dt>aado2</dt><dd>0</dd><dt>fio2</dt><dd>0</dd><dt>sbc</dt><dd>0</dd><dt>sbe</dt><dd>0</dd><dt>fdp</dt><dd>0</dd><dt>band</dt><dd>0</dd><dt>cre</dt><dd>0</dd><dt>eos</dt><dd>0</dd><dt>hb</dt><dd>0</dd><dt>hct</dt><dd>0</dd><dt>mchc</dt><dd>0</dd><dt>mcv</dt><dd>0</dd><dt>plt</dt><dd>0</dd><dt>rdw</dt><dd>0</dd><dt>K</dt><dd>0</dd><dt>high_blood_pressure</dt><dd>0</dd><dt>asthma</dt><dd>0</dd><dt>gout</dt><dd>0</dd><dt>parkinson</dt><dd>0</dd><dt>hiv</dt><dd>0</dd><dt>stroke</dt><dd>0</dd><dt>allergy</dt><dd>0</dd><dt>misum</dt><dd>0</dd><dt>chfsum</dt><dd>0</dd><dt>pvdsum</dt><dd>0</dd><dt>cdsum</dt><dd>0</dd><dt>dementia</dt><dd>0</dd><dt>cpdsum</dt><dd>0</dd><dt>rdsum</dt><dd>0</dd><dt>pudsum</dt><dd>0</dd><dt>mldsum</dt><dd>0</dd><dt>hopsum</dt><dd>0</dd><dt>renalsum</dt><dd>0</dd><dt>leukemiasum</dt><dd>0</dd><dt>lymphomasum</dt><dd>0</dd><dt>msldsum</dt><dd>0</dd><dt>mstsum</dt><dd>0</dd><dt>tumorsum</dt><dd>0</dd><dt>ckdsum</dt><dd>0</dd><dt>carriersum</dt><dd>0</dd><dt>flsum</dt><dd>0</dd><dt>cirrhosissum</dt><dd>0</dd><dt>liversum</dt><dd>0</dd><dt>copd_final_sum</dt><dd>0</dd><dt>malignancy_final</dt><dd>0</dd><dt>dm_final</dt><dd>0</dd><dt>res_infection</dt><dd>0</dd><dt>gu_infection</dt><dd>0</dd><dt>skin_infection</dt><dd>0</dd><dt>abdominal_infection</dt><dd>0</dd><dt>cns_infection</dt><dd>0</dd><dt>msk_infection</dt><dd>0</dd><dt>other_infection</dt><dd>0</dd><dt>card_dysfunction</dt><dd>0</dd><dt>res_dysfunction</dt><dd>0</dd><dt>gt_dysfunction</dt><dd>0</dd><dt>ren_dysfunction</dt><dd>0</dd><dt>hep_dysfunction</dt><dd>0</dd><dt>neu_dysfunction</dt><dd>0</dd><dt>met_dysfunction</dt><dd>0</dd><dt>hem_dysfunction</dt><dd>0</dd><dt>sofa_sepsis</dt><dd>0</dd><dt>sofa_sep_shock</dt><dd>0</dd><dt>gene_sore</dt><dd>0</dd><dt>musc_sore</dt><dd>0</dd><dt>convulsion</dt><dd>0</dd><dt>gene_weak</dt><dd>0</dd><dt>chills</dt><dd>0</dd><dt>shak_chil</dt><dd>0</dd><dt>cyanosis</dt><dd>0</dd><dt>fever</dt><dd>0</dd><dt>sweat</dt><dd>0</dd><dt>no_sweat</dt><dd>0</dd><dt>dry_lips</dt><dd>0</dd><dt>thirsty</dt><dd>0</dd><dt>cold_extr</dt><dd>0</dd><dt>malaise</dt><dd>0</dd><dt>drawsy</dt><dd>0</dd><dt>syncope</dt><dd>0</dd><dt>confusion</dt><dd>0</dd><dt>tachycardia</dt><dd>0</dd><dt>agitation</dt><dd>0</dd><dt>acut_conf</dt><dd>0</dd><dt>fluc_cour</dt><dd>0</dd><dt>inattention</dt><dd>0</dd><dt>diso_thin</dt><dd>0</dd><dt>urin_freq</dt><dd>0</dd><dt>oliguria</dt><dd>0</dd><dt>hematuria</dt><dd>0</dd><dt>diff_void</dt><dd>0</dd><dt>dysuria</dt><dd>0</dd><dt>flan_pain</dt><dd>0</dd><dt>headache</dt><dd>0</dd><dt>dizziness</dt><dd>0</dd><dt>sore_thro</dt><dd>0</dd><dt>ches_tigh</dt><dd>0</dd><dt>dyspnea</dt><dd>0</dd><dt>ches_pain</dt><dd>0</dd><dt>neck_pain</dt><dd>0</dd><dt>nasa_cong</dt><dd>0</dd><dt>sneezing</dt><dd>0</dd><dt>runn_nose</dt><dd>0</dd><dt>dry_coug</dt><dd>0</dd><dt>prod_coug</dt><dd>0</dd><dt>sputum</dt><dd>0</dd><dt>hemoptysis</dt><dd>0</dd><dt>abdo_dist</dt><dd>0</dd><dt>abdo_pain</dt><dd>0</dd><dt>diarrhea</dt><dd>0</dd><dt>constipation</dt><dd>0</dd><dt>nausea</dt><dd>0</dd><dt>vomit</dt><dd>0</dd><dt>anorexia</dt><dd>0</dd><dt>jaundice</dt><dd>0</dd><dt>hypotension</dt><dd>0</dd><dt>lactate_overlimit</dt><dd>0</dd><dt>cre_over2</dt><dd>0</dd><dt>bilt_over2</dt><dd>0</dd><dt>plt_100less</dt><dd>0</dd><dt>inr_over15</dt><dd>0</dd><dt>male</dt><dd>0</dd><dt>infilt</dt><dd>0</dd><dt>consol</dt><dd>0</dd><dt>patch</dt><dd>0</dd><dt>edema</dt><dd>0</dd><dt>haz</dt><dd>0</dd><dt>cxrpn</dt><dd>0</dd><dt>lrti1e</dt><dd>0</dd><dt>meds_age65u</dt><dd>0</dd><dt>meds_lti1e</dt><dd>0</dd><dt>meds_nur1e</dt><dd>0</dd><dt>meds_ams15b</dt><dd>0</dd><dt>meds_ban5u</dt><dd>0</dd><dt>meds_plt150b</dt><dd>0</dd><dt>meds_sho90b</dt><dd>0</dd><dt>meds_sob20u</dt><dd>0</dd><dt>meds_ter1e</dt><dd>0</dd><dt>meds</dt><dd>0</dd><dt>sirs_t38u36b</dt><dd>0</dd><dt>sirs_p90u</dt><dd>0</dd><dt>sirs_r20u</dt><dd>0</dd><dt>sirs_wbc12u4b</dt><dd>0</dd><dt>sirs_score</dt><dd>0</dd><dt>ams</dt><dd>0</dd><dt>dop5b_dob</dt><dd>0</dd><dt>dop5u_nor01b</dt><dd>0</dd><dt>dop15u_nor01u</dt><dd>0</dd><dt>sofa_res</dt><dd>0</dd><dt>sofa_ner</dt><dd>0</dd><dt>sofa_vas</dt><dd>0</dd><dt>sofa_liver</dt><dd>0</dd><dt>sofa_coag</dt><dd>0</dd><dt>sofa_renal</dt><dd>0</dd><dt>vasopressor</dt><dd>0</dd><dt>bacteremia</dt><dd>0</dd><dt>icu_admission</dt><dd>0</dd><dt>sev_sep_chen</dt><dd>0</dd><dt>chills_final</dt><dd>0</dd><dt>bthypo</dt><dd>0</dd><dt>rdw145</dt><dd>0</dd><dt>rbc4</dt><dd>0</dd><dt>no_chills</dt><dd>0</dd><dt>charm</dt><dd>0</dd><dt>without_blooddrawn</dt><dd>0</dd><dt>doi_symptom</dt><dd>0</dd><dt>POD_in_15days</dt><dd>0</dd></dl>\n"
      ],
      "text/latex": [
       "\\begin{description*}\n",
       "\\item[sofa\\textbackslash{}\\_score] 0.0532477792354832\n",
       "\\item[Na] 0.0390200620962446\n",
       "\\item[il8\\textbackslash{}\\_norm] 0.018025700090295\n",
       "\\item[rbc] 0.0131249182751632\n",
       "\\item[pco2] 0.0113061605006993\n",
       "\\item[cd64\\textbackslash{}\\_norm] 0.0110638979104154\n",
       "\\item[tmp] 0.00654921538626253\n",
       "\\item[wbc\\textbackslash{}\\_center15] 0.00488840396576477\n",
       "\\item[age] 0.00352672588620048\n",
       "\\item[icam1\\textbackslash{}\\_norm] 0.00347018049063836\n",
       "\\item[sbp\\textbackslash{}\\_center120] 0.00323038903656978\n",
       "\\item[pulse\\textbackslash{}\\_center100] 0\n",
       "\\item[dbp\\textbackslash{}\\_center75] 0\n",
       "\\item[rr\\textbackslash{}\\_center18] 0\n",
       "\\item[spao2] 0\n",
       "\\item[map\\textbackslash{}\\_center100] 0\n",
       "\\item[gcs] 0\n",
       "\\item[angiopoietin2\\textbackslash{}\\_norm] 0\n",
       "\\item[il6\\textbackslash{}\\_norm] 0\n",
       "\\item[tnfa\\textbackslash{}\\_norm] 0\n",
       "\\item[scd163\\textbackslash{}\\_norm] 0\n",
       "\\item[il10\\textbackslash{}\\_norm] 0\n",
       "\\item[pentraxin3\\textbackslash{}\\_norm] 0\n",
       "\\item[ifnr\\textbackslash{}\\_norm] 0\n",
       "\\item[cd14\\textbackslash{}\\_norm] 0\n",
       "\\item[trem1\\textbackslash{}\\_norm] 0\n",
       "\\item[eselectin\\textbackslash{}\\_norm] 0\n",
       "\\item[pselectin\\textbackslash{}\\_norm] 0\n",
       "\\item[vcam1\\textbackslash{}\\_norm] 0\n",
       "\\item[sugar\\textbackslash{}\\_fs\\textbackslash{}\\_center180] 0\n",
       "\\item[pct] 0\n",
       "\\item[crp] 0\n",
       "\\item[lactate] 0\n",
       "\\item[alb] 0\n",
       "\\item[aptt\\textbackslash{}\\_center30] 0\n",
       "\\item[pt] 0\n",
       "\\item[inr] 0\n",
       "\\item[bilt] 0\n",
       "\\item[bun] 0\n",
       "\\item[ast] 0\n",
       "\\item[inorp\\textbackslash{}\\_center3] 0\n",
       "\\item[tro] 0\n",
       "\\item[ddimer] 0\n",
       "\\item[cortisol] 0\n",
       "\\item[ca\\textbackslash{}\\_center8.75] 0\n",
       "\\item[cl] 0\n",
       "\\item[uric] 0\n",
       "\\item[c3] 0\n",
       "\\item[proteinc\\textbackslash{}\\_center75] 0\n",
       "\\item[po2] 0\n",
       "\\item[sat] 0\n",
       "\\item[hco3\\textbackslash{}\\_center25] 0\n",
       "\\item[ph] 0\n",
       "\\item[tco2] 0\n",
       "\\item[abe] 0\n",
       "\\item[aado2] 0\n",
       "\\item[fio2] 0\n",
       "\\item[sbc] 0\n",
       "\\item[sbe] 0\n",
       "\\item[fdp] 0\n",
       "\\item[band] 0\n",
       "\\item[cre] 0\n",
       "\\item[eos] 0\n",
       "\\item[hb] 0\n",
       "\\item[hct] 0\n",
       "\\item[mchc] 0\n",
       "\\item[mcv] 0\n",
       "\\item[plt] 0\n",
       "\\item[rdw] 0\n",
       "\\item[K] 0\n",
       "\\item[high\\textbackslash{}\\_blood\\textbackslash{}\\_pressure] 0\n",
       "\\item[asthma] 0\n",
       "\\item[gout] 0\n",
       "\\item[parkinson] 0\n",
       "\\item[hiv] 0\n",
       "\\item[stroke] 0\n",
       "\\item[allergy] 0\n",
       "\\item[misum] 0\n",
       "\\item[chfsum] 0\n",
       "\\item[pvdsum] 0\n",
       "\\item[cdsum] 0\n",
       "\\item[dementia] 0\n",
       "\\item[cpdsum] 0\n",
       "\\item[rdsum] 0\n",
       "\\item[pudsum] 0\n",
       "\\item[mldsum] 0\n",
       "\\item[hopsum] 0\n",
       "\\item[renalsum] 0\n",
       "\\item[leukemiasum] 0\n",
       "\\item[lymphomasum] 0\n",
       "\\item[msldsum] 0\n",
       "\\item[mstsum] 0\n",
       "\\item[tumorsum] 0\n",
       "\\item[ckdsum] 0\n",
       "\\item[carriersum] 0\n",
       "\\item[flsum] 0\n",
       "\\item[cirrhosissum] 0\n",
       "\\item[liversum] 0\n",
       "\\item[copd\\textbackslash{}\\_final\\textbackslash{}\\_sum] 0\n",
       "\\item[malignancy\\textbackslash{}\\_final] 0\n",
       "\\item[dm\\textbackslash{}\\_final] 0\n",
       "\\item[res\\textbackslash{}\\_infection] 0\n",
       "\\item[gu\\textbackslash{}\\_infection] 0\n",
       "\\item[skin\\textbackslash{}\\_infection] 0\n",
       "\\item[abdominal\\textbackslash{}\\_infection] 0\n",
       "\\item[cns\\textbackslash{}\\_infection] 0\n",
       "\\item[msk\\textbackslash{}\\_infection] 0\n",
       "\\item[other\\textbackslash{}\\_infection] 0\n",
       "\\item[card\\textbackslash{}\\_dysfunction] 0\n",
       "\\item[res\\textbackslash{}\\_dysfunction] 0\n",
       "\\item[gt\\textbackslash{}\\_dysfunction] 0\n",
       "\\item[ren\\textbackslash{}\\_dysfunction] 0\n",
       "\\item[hep\\textbackslash{}\\_dysfunction] 0\n",
       "\\item[neu\\textbackslash{}\\_dysfunction] 0\n",
       "\\item[met\\textbackslash{}\\_dysfunction] 0\n",
       "\\item[hem\\textbackslash{}\\_dysfunction] 0\n",
       "\\item[sofa\\textbackslash{}\\_sepsis] 0\n",
       "\\item[sofa\\textbackslash{}\\_sep\\textbackslash{}\\_shock] 0\n",
       "\\item[gene\\textbackslash{}\\_sore] 0\n",
       "\\item[musc\\textbackslash{}\\_sore] 0\n",
       "\\item[convulsion] 0\n",
       "\\item[gene\\textbackslash{}\\_weak] 0\n",
       "\\item[chills] 0\n",
       "\\item[shak\\textbackslash{}\\_chil] 0\n",
       "\\item[cyanosis] 0\n",
       "\\item[fever] 0\n",
       "\\item[sweat] 0\n",
       "\\item[no\\textbackslash{}\\_sweat] 0\n",
       "\\item[dry\\textbackslash{}\\_lips] 0\n",
       "\\item[thirsty] 0\n",
       "\\item[cold\\textbackslash{}\\_extr] 0\n",
       "\\item[malaise] 0\n",
       "\\item[drawsy] 0\n",
       "\\item[syncope] 0\n",
       "\\item[confusion] 0\n",
       "\\item[tachycardia] 0\n",
       "\\item[agitation] 0\n",
       "\\item[acut\\textbackslash{}\\_conf] 0\n",
       "\\item[fluc\\textbackslash{}\\_cour] 0\n",
       "\\item[inattention] 0\n",
       "\\item[diso\\textbackslash{}\\_thin] 0\n",
       "\\item[urin\\textbackslash{}\\_freq] 0\n",
       "\\item[oliguria] 0\n",
       "\\item[hematuria] 0\n",
       "\\item[diff\\textbackslash{}\\_void] 0\n",
       "\\item[dysuria] 0\n",
       "\\item[flan\\textbackslash{}\\_pain] 0\n",
       "\\item[headache] 0\n",
       "\\item[dizziness] 0\n",
       "\\item[sore\\textbackslash{}\\_thro] 0\n",
       "\\item[ches\\textbackslash{}\\_tigh] 0\n",
       "\\item[dyspnea] 0\n",
       "\\item[ches\\textbackslash{}\\_pain] 0\n",
       "\\item[neck\\textbackslash{}\\_pain] 0\n",
       "\\item[nasa\\textbackslash{}\\_cong] 0\n",
       "\\item[sneezing] 0\n",
       "\\item[runn\\textbackslash{}\\_nose] 0\n",
       "\\item[dry\\textbackslash{}\\_coug] 0\n",
       "\\item[prod\\textbackslash{}\\_coug] 0\n",
       "\\item[sputum] 0\n",
       "\\item[hemoptysis] 0\n",
       "\\item[abdo\\textbackslash{}\\_dist] 0\n",
       "\\item[abdo\\textbackslash{}\\_pain] 0\n",
       "\\item[diarrhea] 0\n",
       "\\item[constipation] 0\n",
       "\\item[nausea] 0\n",
       "\\item[vomit] 0\n",
       "\\item[anorexia] 0\n",
       "\\item[jaundice] 0\n",
       "\\item[hypotension] 0\n",
       "\\item[lactate\\textbackslash{}\\_overlimit] 0\n",
       "\\item[cre\\textbackslash{}\\_over2] 0\n",
       "\\item[bilt\\textbackslash{}\\_over2] 0\n",
       "\\item[plt\\textbackslash{}\\_100less] 0\n",
       "\\item[inr\\textbackslash{}\\_over15] 0\n",
       "\\item[male] 0\n",
       "\\item[infilt] 0\n",
       "\\item[consol] 0\n",
       "\\item[patch] 0\n",
       "\\item[edema] 0\n",
       "\\item[haz] 0\n",
       "\\item[cxrpn] 0\n",
       "\\item[lrti1e] 0\n",
       "\\item[meds\\textbackslash{}\\_age65u] 0\n",
       "\\item[meds\\textbackslash{}\\_lti1e] 0\n",
       "\\item[meds\\textbackslash{}\\_nur1e] 0\n",
       "\\item[meds\\textbackslash{}\\_ams15b] 0\n",
       "\\item[meds\\textbackslash{}\\_ban5u] 0\n",
       "\\item[meds\\textbackslash{}\\_plt150b] 0\n",
       "\\item[meds\\textbackslash{}\\_sho90b] 0\n",
       "\\item[meds\\textbackslash{}\\_sob20u] 0\n",
       "\\item[meds\\textbackslash{}\\_ter1e] 0\n",
       "\\item[meds] 0\n",
       "\\item[sirs\\textbackslash{}\\_t38u36b] 0\n",
       "\\item[sirs\\textbackslash{}\\_p90u] 0\n",
       "\\item[sirs\\textbackslash{}\\_r20u] 0\n",
       "\\item[sirs\\textbackslash{}\\_wbc12u4b] 0\n",
       "\\item[sirs\\textbackslash{}\\_score] 0\n",
       "\\item[ams] 0\n",
       "\\item[dop5b\\textbackslash{}\\_dob] 0\n",
       "\\item[dop5u\\textbackslash{}\\_nor01b] 0\n",
       "\\item[dop15u\\textbackslash{}\\_nor01u] 0\n",
       "\\item[sofa\\textbackslash{}\\_res] 0\n",
       "\\item[sofa\\textbackslash{}\\_ner] 0\n",
       "\\item[sofa\\textbackslash{}\\_vas] 0\n",
       "\\item[sofa\\textbackslash{}\\_liver] 0\n",
       "\\item[sofa\\textbackslash{}\\_coag] 0\n",
       "\\item[sofa\\textbackslash{}\\_renal] 0\n",
       "\\item[vasopressor] 0\n",
       "\\item[bacteremia] 0\n",
       "\\item[icu\\textbackslash{}\\_admission] 0\n",
       "\\item[sev\\textbackslash{}\\_sep\\textbackslash{}\\_chen] 0\n",
       "\\item[chills\\textbackslash{}\\_final] 0\n",
       "\\item[bthypo] 0\n",
       "\\item[rdw145] 0\n",
       "\\item[rbc4] 0\n",
       "\\item[no\\textbackslash{}\\_chills] 0\n",
       "\\item[charm] 0\n",
       "\\item[without\\textbackslash{}\\_blooddrawn] 0\n",
       "\\item[doi\\textbackslash{}\\_symptom] 0\n",
       "\\item[POD\\textbackslash{}\\_in\\textbackslash{}\\_15days] 0\n",
       "\\end{description*}\n"
      ],
      "text/markdown": [
       "sofa_score\n",
       ":   0.0532477792354832Na\n",
       ":   0.0390200620962446il8_norm\n",
       ":   0.018025700090295rbc\n",
       ":   0.0131249182751632pco2\n",
       ":   0.0113061605006993cd64_norm\n",
       ":   0.0110638979104154tmp\n",
       ":   0.00654921538626253wbc_center15\n",
       ":   0.00488840396576477age\n",
       ":   0.00352672588620048icam1_norm\n",
       ":   0.00347018049063836sbp_center120\n",
       ":   0.00323038903656978pulse_center100\n",
       ":   0dbp_center75\n",
       ":   0rr_center18\n",
       ":   0spao2\n",
       ":   0map_center100\n",
       ":   0gcs\n",
       ":   0angiopoietin2_norm\n",
       ":   0il6_norm\n",
       ":   0tnfa_norm\n",
       ":   0scd163_norm\n",
       ":   0il10_norm\n",
       ":   0pentraxin3_norm\n",
       ":   0ifnr_norm\n",
       ":   0cd14_norm\n",
       ":   0trem1_norm\n",
       ":   0eselectin_norm\n",
       ":   0pselectin_norm\n",
       ":   0vcam1_norm\n",
       ":   0sugar_fs_center180\n",
       ":   0pct\n",
       ":   0crp\n",
       ":   0lactate\n",
       ":   0alb\n",
       ":   0aptt_center30\n",
       ":   0pt\n",
       ":   0inr\n",
       ":   0bilt\n",
       ":   0bun\n",
       ":   0ast\n",
       ":   0inorp_center3\n",
       ":   0tro\n",
       ":   0ddimer\n",
       ":   0cortisol\n",
       ":   0ca_center8.75\n",
       ":   0cl\n",
       ":   0uric\n",
       ":   0c3\n",
       ":   0proteinc_center75\n",
       ":   0po2\n",
       ":   0sat\n",
       ":   0hco3_center25\n",
       ":   0ph\n",
       ":   0tco2\n",
       ":   0abe\n",
       ":   0aado2\n",
       ":   0fio2\n",
       ":   0sbc\n",
       ":   0sbe\n",
       ":   0fdp\n",
       ":   0band\n",
       ":   0cre\n",
       ":   0eos\n",
       ":   0hb\n",
       ":   0hct\n",
       ":   0mchc\n",
       ":   0mcv\n",
       ":   0plt\n",
       ":   0rdw\n",
       ":   0K\n",
       ":   0high_blood_pressure\n",
       ":   0asthma\n",
       ":   0gout\n",
       ":   0parkinson\n",
       ":   0hiv\n",
       ":   0stroke\n",
       ":   0allergy\n",
       ":   0misum\n",
       ":   0chfsum\n",
       ":   0pvdsum\n",
       ":   0cdsum\n",
       ":   0dementia\n",
       ":   0cpdsum\n",
       ":   0rdsum\n",
       ":   0pudsum\n",
       ":   0mldsum\n",
       ":   0hopsum\n",
       ":   0renalsum\n",
       ":   0leukemiasum\n",
       ":   0lymphomasum\n",
       ":   0msldsum\n",
       ":   0mstsum\n",
       ":   0tumorsum\n",
       ":   0ckdsum\n",
       ":   0carriersum\n",
       ":   0flsum\n",
       ":   0cirrhosissum\n",
       ":   0liversum\n",
       ":   0copd_final_sum\n",
       ":   0malignancy_final\n",
       ":   0dm_final\n",
       ":   0res_infection\n",
       ":   0gu_infection\n",
       ":   0skin_infection\n",
       ":   0abdominal_infection\n",
       ":   0cns_infection\n",
       ":   0msk_infection\n",
       ":   0other_infection\n",
       ":   0card_dysfunction\n",
       ":   0res_dysfunction\n",
       ":   0gt_dysfunction\n",
       ":   0ren_dysfunction\n",
       ":   0hep_dysfunction\n",
       ":   0neu_dysfunction\n",
       ":   0met_dysfunction\n",
       ":   0hem_dysfunction\n",
       ":   0sofa_sepsis\n",
       ":   0sofa_sep_shock\n",
       ":   0gene_sore\n",
       ":   0musc_sore\n",
       ":   0convulsion\n",
       ":   0gene_weak\n",
       ":   0chills\n",
       ":   0shak_chil\n",
       ":   0cyanosis\n",
       ":   0fever\n",
       ":   0sweat\n",
       ":   0no_sweat\n",
       ":   0dry_lips\n",
       ":   0thirsty\n",
       ":   0cold_extr\n",
       ":   0malaise\n",
       ":   0drawsy\n",
       ":   0syncope\n",
       ":   0confusion\n",
       ":   0tachycardia\n",
       ":   0agitation\n",
       ":   0acut_conf\n",
       ":   0fluc_cour\n",
       ":   0inattention\n",
       ":   0diso_thin\n",
       ":   0urin_freq\n",
       ":   0oliguria\n",
       ":   0hematuria\n",
       ":   0diff_void\n",
       ":   0dysuria\n",
       ":   0flan_pain\n",
       ":   0headache\n",
       ":   0dizziness\n",
       ":   0sore_thro\n",
       ":   0ches_tigh\n",
       ":   0dyspnea\n",
       ":   0ches_pain\n",
       ":   0neck_pain\n",
       ":   0nasa_cong\n",
       ":   0sneezing\n",
       ":   0runn_nose\n",
       ":   0dry_coug\n",
       ":   0prod_coug\n",
       ":   0sputum\n",
       ":   0hemoptysis\n",
       ":   0abdo_dist\n",
       ":   0abdo_pain\n",
       ":   0diarrhea\n",
       ":   0constipation\n",
       ":   0nausea\n",
       ":   0vomit\n",
       ":   0anorexia\n",
       ":   0jaundice\n",
       ":   0hypotension\n",
       ":   0lactate_overlimit\n",
       ":   0cre_over2\n",
       ":   0bilt_over2\n",
       ":   0plt_100less\n",
       ":   0inr_over15\n",
       ":   0male\n",
       ":   0infilt\n",
       ":   0consol\n",
       ":   0patch\n",
       ":   0edema\n",
       ":   0haz\n",
       ":   0cxrpn\n",
       ":   0lrti1e\n",
       ":   0meds_age65u\n",
       ":   0meds_lti1e\n",
       ":   0meds_nur1e\n",
       ":   0meds_ams15b\n",
       ":   0meds_ban5u\n",
       ":   0meds_plt150b\n",
       ":   0meds_sho90b\n",
       ":   0meds_sob20u\n",
       ":   0meds_ter1e\n",
       ":   0meds\n",
       ":   0sirs_t38u36b\n",
       ":   0sirs_p90u\n",
       ":   0sirs_r20u\n",
       ":   0sirs_wbc12u4b\n",
       ":   0sirs_score\n",
       ":   0ams\n",
       ":   0dop5b_dob\n",
       ":   0dop5u_nor01b\n",
       ":   0dop15u_nor01u\n",
       ":   0sofa_res\n",
       ":   0sofa_ner\n",
       ":   0sofa_vas\n",
       ":   0sofa_liver\n",
       ":   0sofa_coag\n",
       ":   0sofa_renal\n",
       ":   0vasopressor\n",
       ":   0bacteremia\n",
       ":   0icu_admission\n",
       ":   0sev_sep_chen\n",
       ":   0chills_final\n",
       ":   0bthypo\n",
       ":   0rdw145\n",
       ":   0rbc4\n",
       ":   0no_chills\n",
       ":   0charm\n",
       ":   0without_blooddrawn\n",
       ":   0doi_symptom\n",
       ":   0POD_in_15days\n",
       ":   0\n",
       "\n"
      ],
      "text/plain": [
       "         sofa_score                  Na            il8_norm                 rbc \n",
       "        0.053247779         0.039020062         0.018025700         0.013124918 \n",
       "               pco2           cd64_norm                 tmp        wbc_center15 \n",
       "        0.011306161         0.011063898         0.006549215         0.004888404 \n",
       "                age          icam1_norm       sbp_center120     pulse_center100 \n",
       "        0.003526726         0.003470180         0.003230389         0.000000000 \n",
       "       dbp_center75         rr_center18               spao2       map_center100 \n",
       "        0.000000000         0.000000000         0.000000000         0.000000000 \n",
       "                gcs  angiopoietin2_norm            il6_norm           tnfa_norm \n",
       "        0.000000000         0.000000000         0.000000000         0.000000000 \n",
       "        scd163_norm           il10_norm     pentraxin3_norm           ifnr_norm \n",
       "        0.000000000         0.000000000         0.000000000         0.000000000 \n",
       "          cd14_norm          trem1_norm      eselectin_norm      pselectin_norm \n",
       "        0.000000000         0.000000000         0.000000000         0.000000000 \n",
       "         vcam1_norm  sugar_fs_center180                 pct                 crp \n",
       "        0.000000000         0.000000000         0.000000000         0.000000000 \n",
       "            lactate                 alb       aptt_center30                  pt \n",
       "        0.000000000         0.000000000         0.000000000         0.000000000 \n",
       "                inr                bilt                 bun                 ast \n",
       "        0.000000000         0.000000000         0.000000000         0.000000000 \n",
       "      inorp_center3                 tro              ddimer            cortisol \n",
       "        0.000000000         0.000000000         0.000000000         0.000000000 \n",
       "      ca_center8.75                  cl                uric                  c3 \n",
       "        0.000000000         0.000000000         0.000000000         0.000000000 \n",
       "  proteinc_center75                 po2                 sat       hco3_center25 \n",
       "        0.000000000         0.000000000         0.000000000         0.000000000 \n",
       "                 ph                tco2                 abe               aado2 \n",
       "        0.000000000         0.000000000         0.000000000         0.000000000 \n",
       "               fio2                 sbc                 sbe                 fdp \n",
       "        0.000000000         0.000000000         0.000000000         0.000000000 \n",
       "               band                 cre                 eos                  hb \n",
       "        0.000000000         0.000000000         0.000000000         0.000000000 \n",
       "                hct                mchc                 mcv                 plt \n",
       "        0.000000000         0.000000000         0.000000000         0.000000000 \n",
       "                rdw                   K high_blood_pressure              asthma \n",
       "        0.000000000         0.000000000         0.000000000         0.000000000 \n",
       "               gout           parkinson                 hiv              stroke \n",
       "        0.000000000         0.000000000         0.000000000         0.000000000 \n",
       "            allergy               misum              chfsum              pvdsum \n",
       "        0.000000000         0.000000000         0.000000000         0.000000000 \n",
       "              cdsum            dementia              cpdsum               rdsum \n",
       "        0.000000000         0.000000000         0.000000000         0.000000000 \n",
       "             pudsum              mldsum              hopsum            renalsum \n",
       "        0.000000000         0.000000000         0.000000000         0.000000000 \n",
       "        leukemiasum         lymphomasum             msldsum              mstsum \n",
       "        0.000000000         0.000000000         0.000000000         0.000000000 \n",
       "           tumorsum              ckdsum          carriersum               flsum \n",
       "        0.000000000         0.000000000         0.000000000         0.000000000 \n",
       "       cirrhosissum            liversum      copd_final_sum    malignancy_final \n",
       "        0.000000000         0.000000000         0.000000000         0.000000000 \n",
       "           dm_final       res_infection        gu_infection      skin_infection \n",
       "        0.000000000         0.000000000         0.000000000         0.000000000 \n",
       "abdominal_infection       cns_infection       msk_infection     other_infection \n",
       "        0.000000000         0.000000000         0.000000000         0.000000000 \n",
       "   card_dysfunction     res_dysfunction      gt_dysfunction     ren_dysfunction \n",
       "        0.000000000         0.000000000         0.000000000         0.000000000 \n",
       "    hep_dysfunction     neu_dysfunction     met_dysfunction     hem_dysfunction \n",
       "        0.000000000         0.000000000         0.000000000         0.000000000 \n",
       "        sofa_sepsis      sofa_sep_shock           gene_sore           musc_sore \n",
       "        0.000000000         0.000000000         0.000000000         0.000000000 \n",
       "         convulsion           gene_weak              chills           shak_chil \n",
       "        0.000000000         0.000000000         0.000000000         0.000000000 \n",
       "           cyanosis               fever               sweat            no_sweat \n",
       "        0.000000000         0.000000000         0.000000000         0.000000000 \n",
       "           dry_lips             thirsty           cold_extr             malaise \n",
       "        0.000000000         0.000000000         0.000000000         0.000000000 \n",
       "             drawsy             syncope           confusion         tachycardia \n",
       "        0.000000000         0.000000000         0.000000000         0.000000000 \n",
       "          agitation           acut_conf           fluc_cour         inattention \n",
       "        0.000000000         0.000000000         0.000000000         0.000000000 \n",
       "          diso_thin           urin_freq            oliguria           hematuria \n",
       "        0.000000000         0.000000000         0.000000000         0.000000000 \n",
       "          diff_void             dysuria           flan_pain            headache \n",
       "        0.000000000         0.000000000         0.000000000         0.000000000 \n",
       "          dizziness           sore_thro           ches_tigh             dyspnea \n",
       "        0.000000000         0.000000000         0.000000000         0.000000000 \n",
       "          ches_pain           neck_pain           nasa_cong            sneezing \n",
       "        0.000000000         0.000000000         0.000000000         0.000000000 \n",
       "          runn_nose            dry_coug           prod_coug              sputum \n",
       "        0.000000000         0.000000000         0.000000000         0.000000000 \n",
       "         hemoptysis           abdo_dist           abdo_pain            diarrhea \n",
       "        0.000000000         0.000000000         0.000000000         0.000000000 \n",
       "       constipation              nausea               vomit            anorexia \n",
       "        0.000000000         0.000000000         0.000000000         0.000000000 \n",
       "           jaundice         hypotension   lactate_overlimit           cre_over2 \n",
       "        0.000000000         0.000000000         0.000000000         0.000000000 \n",
       "         bilt_over2         plt_100less          inr_over15                male \n",
       "        0.000000000         0.000000000         0.000000000         0.000000000 \n",
       "             infilt              consol               patch               edema \n",
       "        0.000000000         0.000000000         0.000000000         0.000000000 \n",
       "                haz               cxrpn              lrti1e         meds_age65u \n",
       "        0.000000000         0.000000000         0.000000000         0.000000000 \n",
       "         meds_lti1e          meds_nur1e         meds_ams15b          meds_ban5u \n",
       "        0.000000000         0.000000000         0.000000000         0.000000000 \n",
       "       meds_plt150b         meds_sho90b         meds_sob20u          meds_ter1e \n",
       "        0.000000000         0.000000000         0.000000000         0.000000000 \n",
       "               meds        sirs_t38u36b           sirs_p90u           sirs_r20u \n",
       "        0.000000000         0.000000000         0.000000000         0.000000000 \n",
       "      sirs_wbc12u4b          sirs_score                 ams           dop5b_dob \n",
       "        0.000000000         0.000000000         0.000000000         0.000000000 \n",
       "       dop5u_nor01b       dop15u_nor01u            sofa_res            sofa_ner \n",
       "        0.000000000         0.000000000         0.000000000         0.000000000 \n",
       "           sofa_vas          sofa_liver           sofa_coag          sofa_renal \n",
       "        0.000000000         0.000000000         0.000000000         0.000000000 \n",
       "        vasopressor          bacteremia       icu_admission        sev_sep_chen \n",
       "        0.000000000         0.000000000         0.000000000         0.000000000 \n",
       "       chills_final              bthypo              rdw145                rbc4 \n",
       "        0.000000000         0.000000000         0.000000000         0.000000000 \n",
       "          no_chills               charm  without_blooddrawn         doi_symptom \n",
       "        0.000000000         0.000000000         0.000000000         0.000000000 \n",
       "      POD_in_15days \n",
       "        0.000000000 "
      ]
     },
     "metadata": {},
     "output_type": "display_data"
    },
    {
     "data": {
      "image/png": "[encoded data removed]",
      "text/plain": [
       "plot without title"
      ]
     },
     "metadata": {
      "image/png": {
       "height": 420,
       "width": 420
      }
     },
     "output_type": "display_data"
    },
    {
     "data": {
      "image/png": "[encoded data removed]",
      "text/plain": [
       "plot without title"
      ]
     },
     "metadata": {
      "image/png": {
       "height": 420,
       "width": 420
      }
     },
     "output_type": "display_data"
    }
   ],
   "source": [
    "train_X = as.matrix(training[,-222])\n",
    "mod1 = xgboost::xgboost(data = train_X,\n",
    "                        label = training$death_binary,\n",
    "                        gamma = 0,\n",
    "                        eta = 1,\n",
    "                        lambda = 0,\n",
    "                        nrounds = 1,\n",
    "                        verbose = FALSE)\n",
    "\n",
    "# shap.values(model, X_dataset) returns the SHAP\n",
    "# data matrix and ranked features by mean|SHAP|\n",
    "shap_values <- shap.values(xgb_model = mod1, X_train = train_X)\n",
    "shap_values$mean_shap_score\n",
    "shap_values_sepsis <- shap_values$shap_score\n",
    "\n",
    "# shap.prep() returns the long-format SHAP data from either model or\n",
    "shap_long_sepsis <- shap.prep(xgb_model = mod1, X_train = train_X)\n",
    "# is the same as: using given shap_contrib\n",
    "shap_long_sepsis <- shap.prep(shap_contrib = shap_values_sepsis, X_train = train_X)\n",
    "\n",
    "# **SHAP summary plot**\n",
    "shap.plot.summary(shap_long_sepsis, scientific = TRUE)\n",
    "shap.plot.summary(shap_long_sepsis, x_bound  = 1.5, dilute = 10)"
   ]
  },
  {
   "cell_type": "markdown",
   "id": "65f4ca6f",
   "metadata": {},
   "source": [
    "### Alternatives options to make the same plot:"
   ]
  },
  {
   "cell_type": "markdown",
   "id": "f45ec968",
   "metadata": {},
   "source": [
    "#### option 1: from the xgboost model"
   ]
  },
  {
   "cell_type": "code",
   "execution_count": 26,
   "id": "b7ef0fe0",
   "metadata": {},
   "outputs": [
    {
     "data": {
      "image/png": "[encoded data removed]",
      "text/plain": [
       "plot without title"
      ]
     },
     "metadata": {
      "image/png": {
       "height": 420,
       "width": 420
      }
     },
     "output_type": "display_data"
    }
   ],
   "source": [
    "shap.plot.summary.wrap1(mod1, X = as.matrix(training[,-222]), top_n = 3)"
   ]
  },
  {
   "cell_type": "markdown",
   "id": "910e824a",
   "metadata": {},
   "source": [
    "#### option 2: supply a self-made SHAP values dataset"
   ]
  },
  {
   "cell_type": "code",
   "execution_count": 27,
   "id": "ddc34e18",
   "metadata": {},
   "outputs": [
    {
     "data": {
      "image/png": "[encoded data removed]",
      "text/plain": [
       "plot without title"
      ]
     },
     "metadata": {
      "image/png": {
       "height": 420,
       "width": 420
      }
     },
     "output_type": "display_data"
    }
   ],
   "source": [
    "shap.plot.summary.wrap2(shap_score = shap_values_sepsis, X = train_X, top_n = 3)"
   ]
  }
 ],
 "metadata": {
  "kernelspec": {
   "display_name": "R",
   "language": "R",
   "name": "ir"
  },
  "language_info": {
   "codemirror_mode": "r",
   "file_extension": ".r",
   "mimetype": "text/x-r-source",
   "name": "R",
   "pygments_lexer": "r",
   "version": "4.2.0"
  }
 },
 "nbformat": 4,
 "nbformat_minor": 5
}
